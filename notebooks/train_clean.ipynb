{
 "cells": [
  {
   "cell_type": "code",
   "execution_count": 8,
   "id": "683781ee",
   "metadata": {},
   "outputs": [
    {
     "name": "stdout",
     "output_type": "stream",
     "text": [
      "The autoreload extension is already loaded. To reload it, use:\n",
      "  %reload_ext autoreload\n"
     ]
    }
   ],
   "source": [
    "# Enable autoreload for development\n",
    "%load_ext autoreload\n",
    "%autoreload 2"
   ]
  },
  {
   "cell_type": "code",
   "execution_count": 9,
   "id": "0f7fd872",
   "metadata": {},
   "outputs": [],
   "source": [
    "# Set project root and add src to path\n",
    "import sys\n",
    "from pathlib import Path\n",
    "import os\n",
    "\n",
    "PROJECT_ROOT = '/scratch/edk202/word2gm-fast'\n",
    "project_root = Path(PROJECT_ROOT)\n",
    "src_path = project_root / 'src'\n",
    "\n",
    "if str(src_path) not in sys.path:\n",
    "    sys.path.insert(0, str(src_path))"
   ]
  },
  {
   "cell_type": "code",
   "execution_count": 10,
   "id": "ec376e5d",
   "metadata": {},
   "outputs": [
    {
     "data": {
      "text/markdown": [
       "<pre>SYSTEM RESOURCE SUMMARY\n",
       "=============================================\n",
       "Hostname: gr010.hpc.nyu.edu\n",
       "\n",
       "Job Allocation:\n",
       "   CPUs: 14\n",
       "   Memory: 125.0 GB\n",
       "   Partition: rtx8000\n",
       "   Job ID: 63924068\n",
       "   Node list: gr010\n",
       "\n",
       "Physical GPU Hardware:\n",
       "   Physical GPUs available: 1\n",
       "   GPU 0: Quadro RTX 8000\n",
       "      Memory: 44.0/45.0 GB (1.0 GB free)\n",
       "      Temperature: 34°C\n",
       "      Utilization: GPU 0%, Memory 0%\n",
       "\n",
       "TensorFlow GPU Recognition:\n",
       "   TensorFlow can access 1 GPU(s)\n",
       "      /physical_device:GPU:0\n",
       "   Built with CUDA support: True\n",
       "=============================================</pre>"
      ],
      "text/plain": [
       "<IPython.core.display.Markdown object>"
      ]
     },
     "metadata": {},
     "output_type": "display_data"
    }
   ],
   "source": [
    "# Print resource summary\n",
    "from word2gm_fast.utils.resource_summary import print_resource_summary\n",
    "\n",
    "print_resource_summary()"
   ]
  },
  {
   "cell_type": "code",
   "execution_count": 11,
   "id": "13750b12",
   "metadata": {},
   "outputs": [],
   "source": [
    "# Define paths for your corpus artifacts and output\n",
    "dataset_artifacts_dir = (\n",
    "    '/vast/edk202/NLP_corpora/Google_Books/20200217/eng-fiction/5gram_files/6corpus/yearly_files/data/'\n",
    "    '1850_artifacts'\n",
    ")\n",
    "output_dir = '/scratch/edk202/word2gm-fast/output/test_corpus'\n",
    "Path(output_dir).mkdir(parents=True, exist_ok=True)\n",
    "\n",
    "# Set TensorBoard log directory\n",
    "tensorboard_log_dir = output_dir + '/tensorboard'"
   ]
  },
  {
   "cell_type": "code",
   "execution_count": 12,
   "id": "b7c65a37",
   "metadata": {},
   "outputs": [
    {
     "data": {
      "text/markdown": [
       "<span style='font-family: monospace; font-size: 120%; font-weight: normal;'>Loading pipeline artifacts from: /vast/edk202/NLP_corpora/Google_Books/20200217/eng-fiction/5gram_files/6corpus/yearly_files/data/1850_artifacts</span>"
      ]
     },
     "metadata": {},
     "output_type": "display_data"
    },
    {
     "data": {
      "text/markdown": [
       "<span style='font-family: monospace; font-size: 120%; font-weight: normal;'>Loading token-to-index vocabulary TFRecord from:<br>&nbsp;&nbsp;/vast/edk202/NLP_corpora/Google_Books/20200217/eng-fiction/5gram_files/6corpus/yearly_files/data/1850_artifacts/vocab.tfrecord</span>"
      ]
     },
     "metadata": {},
     "output_type": "display_data"
    },
    {
     "data": {
      "text/markdown": [
       "<span style='font-family: monospace; font-size: 120%; font-weight: normal;'>Token-to-index lookup table created successfully.<br>Table contains 33668 tokens. Processing time: 0.28s</span>"
      ]
     },
     "metadata": {},
     "output_type": "display_data"
    },
    {
     "data": {
      "text/markdown": [
       "<span style='font-family: monospace; font-size: 120%; font-weight: normal;'>Loading index-to-token vocab TFRecord from:<br>&nbsp;&nbsp;/vast/edk202/NLP_corpora/Google_Books/20200217/eng-fiction/5gram_files/6corpus/yearly_files/data/1850_artifacts/vocab.tfrecord</span>"
      ]
     },
     "metadata": {},
     "output_type": "display_data"
    },
    {
     "data": {
      "text/markdown": [
       "<span style='font-family: monospace; font-size: 120%; font-weight: normal;'>Index-to-token lookup table created successfully.<br>Table contains 33668 tokens. Processing time: 0.28s</span>"
      ]
     },
     "metadata": {},
     "output_type": "display_data"
    },
    {
     "data": {
      "text/markdown": [
       "<span style='font-family: monospace; font-size: 120%; font-weight: normal;'>All artifacts loaded successfully!</span>"
      ]
     },
     "metadata": {},
     "output_type": "display_data"
    }
   ],
   "source": [
    "from word2gm_fast.io.artifacts import load_pipeline_artifacts\n",
    "\n",
    "# Load pipeline artifacts (vocab, triplets, etc.)\n",
    "artifacts = load_pipeline_artifacts(dataset_artifacts_dir)\n",
    "token_to_index_table = artifacts['token_to_index_table']\n",
    "index_to_token_table = artifacts['index_to_token_table']\n",
    "triplets_ds = artifacts['triplets_ds']\n",
    "vocab_size = artifacts['vocab_size']"
   ]
  },
  {
   "cell_type": "code",
   "execution_count": 13,
   "id": "4a277420",
   "metadata": {},
   "outputs": [],
   "source": [
    "from word2gm_fast.utils.tf_silence import import_tf_quietly\n",
    "\n",
    "tf = import_tf_quietly()\n",
    "\n",
    "# Build the dataset pipeline: cache -> shuffle -> batch -> prefetch\n",
    "triplets_ds = triplets_ds.cache()\n",
    "BATCH_SIZE = 1024\n",
    "SHUFFLE_BUFFER_SIZE = BATCH_SIZE * 10\n",
    "triplets_ds = triplets_ds.shuffle(SHUFFLE_BUFFER_SIZE)\n",
    "triplets_ds = triplets_ds.batch(BATCH_SIZE)\n",
    "triplets_ds = triplets_ds.prefetch(tf.data.AUTOTUNE)"
   ]
  },
  {
   "cell_type": "code",
   "execution_count": 7,
   "id": "aea708dc",
   "metadata": {},
   "outputs": [
    {
     "name": "stdout",
     "output_type": "stream",
     "text": [
      "The tensorboard extension is already loaded. To reload it, use:\n",
      "  %reload_ext tensorboard\n"
     ]
    },
    {
     "data": {
      "text/plain": [
       "Reusing TensorBoard on port 6006 (pid 602507), started 0:00:24 ago. (Use '!kill 602507' to kill it.)"
      ]
     },
     "metadata": {},
     "output_type": "display_data"
    },
    {
     "data": {
      "text/html": [
       "\n",
       "      <iframe id=\"tensorboard-frame-7b33df023976547\" width=\"100%\" height=\"800\" frameborder=\"0\">\n",
       "      </iframe>\n",
       "      <script>\n",
       "        (function() {\n",
       "          const frame = document.getElementById(\"tensorboard-frame-7b33df023976547\");\n",
       "          const url = new URL(\"http://localhost\");\n",
       "          const port = 6006;\n",
       "          if (port) {\n",
       "            url.port = port;\n",
       "          }\n",
       "          frame.src = url;\n",
       "        })();\n",
       "      </script>\n",
       "    "
      ],
      "text/plain": [
       "<IPython.core.display.HTML object>"
      ]
     },
     "metadata": {},
     "output_type": "display_data"
    }
   ],
   "source": [
    "%load_ext tensorboard\n",
    "%tensorboard --logdir $tensorboard_log_dir --port 6006"
   ]
  },
  {
   "cell_type": "code",
   "execution_count": null,
   "id": "4cc0db78",
   "metadata": {},
   "outputs": [
    {
     "name": "stdout",
     "output_type": "stream",
     "text": [
      "Starting Word2GM training...\n",
      "Vocab size: 33668\n",
      "Output: /scratch/edk202/word2gm-fast/output/test_corpus\n"
     ]
    },
    {
     "data": {
      "text/markdown": [
       "\n",
       "**Word2GM Training Hyperparameters:**\n",
       "\n",
       "| Parameter         | Value                |\n",
       "|-------------------|----------------------|\n",
       "| Vocab size        | `33668`  |\n",
       "| Embedding size    | `200` |\n",
       "| Mixtures          | `1` |\n",
       "| Spherical         | `True`   |\n",
       "| Learning rate     | `0.1` |\n",
       "| Epochs            | `50` |\n",
       "| Adagrad           | `True`     |\n",
       "| Normclip          | `True`    |\n",
       "| Norm cap          | `10.0`    |\n",
       "| Lower sigma       | `0.05`   |\n",
       "| Upper sigma       | `1.5`   |\n",
       "| Wout              | `True`        |\n",
       "| Var scale         | `0.05`   |\n",
       "| Loss epsilon      | `1e-08`|\n"
      ],
      "text/plain": [
       "<IPython.core.display.Markdown object>"
      ]
     },
     "metadata": {},
     "output_type": "display_data"
    },
    {
     "data": {
      "text/markdown": [
       "**Epoch 1 finished. Loss:** `0.549704`  | **Duration:** `18.38` seconds."
      ],
      "text/plain": [
       "<IPython.core.display.Markdown object>"
      ]
     },
     "metadata": {},
     "output_type": "display_data"
    },
    {
     "data": {
      "text/markdown": [
       "**Epoch 2 finished. Loss:** `0.343929`  | **Duration:** `10.26` seconds."
      ],
      "text/plain": [
       "<IPython.core.display.Markdown object>"
      ]
     },
     "metadata": {},
     "output_type": "display_data"
    },
    {
     "data": {
      "text/markdown": [
       "**Epoch 3 finished. Loss:** `0.300609`  | **Duration:** `10.40` seconds."
      ],
      "text/plain": [
       "<IPython.core.display.Markdown object>"
      ]
     },
     "metadata": {},
     "output_type": "display_data"
    },
    {
     "data": {
      "text/markdown": [
       "**Epoch 4 finished. Loss:** `0.274875`  | **Duration:** `10.25` seconds."
      ],
      "text/plain": [
       "<IPython.core.display.Markdown object>"
      ]
     },
     "metadata": {},
     "output_type": "display_data"
    },
    {
     "data": {
      "text/markdown": [
       "**Epoch 5 finished. Loss:** `0.255282`  | **Duration:** `10.20` seconds."
      ],
      "text/plain": [
       "<IPython.core.display.Markdown object>"
      ]
     },
     "metadata": {},
     "output_type": "display_data"
    },
    {
     "data": {
      "text/markdown": [
       "**Epoch 6 finished. Loss:** `0.238554`  | **Duration:** `10.20` seconds."
      ],
      "text/plain": [
       "<IPython.core.display.Markdown object>"
      ]
     },
     "metadata": {},
     "output_type": "display_data"
    },
    {
     "data": {
      "text/markdown": [
       "**Epoch 7 finished. Loss:** `0.223422`  | **Duration:** `10.21` seconds."
      ],
      "text/plain": [
       "<IPython.core.display.Markdown object>"
      ]
     },
     "metadata": {},
     "output_type": "display_data"
    },
    {
     "data": {
      "text/markdown": [
       "**Epoch 8 finished. Loss:** `0.209211`  | **Duration:** `10.28` seconds."
      ],
      "text/plain": [
       "<IPython.core.display.Markdown object>"
      ]
     },
     "metadata": {},
     "output_type": "display_data"
    },
    {
     "data": {
      "text/markdown": [
       "**Epoch 9 finished. Loss:** `0.195621`  | **Duration:** `10.25` seconds."
      ],
      "text/plain": [
       "<IPython.core.display.Markdown object>"
      ]
     },
     "metadata": {},
     "output_type": "display_data"
    },
    {
     "data": {
      "text/markdown": [
       "**Epoch 10 finished. Loss:** `0.182468`  | **Duration:** `10.43` seconds."
      ],
      "text/plain": [
       "<IPython.core.display.Markdown object>"
      ]
     },
     "metadata": {},
     "output_type": "display_data"
    },
    {
     "data": {
      "text/markdown": [
       "**Epoch 11 finished. Loss:** `0.169654`  | **Duration:** `10.28` seconds."
      ],
      "text/plain": [
       "<IPython.core.display.Markdown object>"
      ]
     },
     "metadata": {},
     "output_type": "display_data"
    },
    {
     "data": {
      "text/markdown": [
       "**Epoch 12 finished. Loss:** `0.157153`  | **Duration:** `10.27` seconds."
      ],
      "text/plain": [
       "<IPython.core.display.Markdown object>"
      ]
     },
     "metadata": {},
     "output_type": "display_data"
    },
    {
     "data": {
      "text/markdown": [
       "**Epoch 13 finished. Loss:** `0.145028`  | **Duration:** `10.09` seconds."
      ],
      "text/plain": [
       "<IPython.core.display.Markdown object>"
      ]
     },
     "metadata": {},
     "output_type": "display_data"
    },
    {
     "data": {
      "text/markdown": [
       "**Epoch 14 finished. Loss:** `0.133308`  | **Duration:** `10.08` seconds."
      ],
      "text/plain": [
       "<IPython.core.display.Markdown object>"
      ]
     },
     "metadata": {},
     "output_type": "display_data"
    },
    {
     "data": {
      "text/markdown": [
       "**Epoch 15 finished. Loss:** `0.122018`  | **Duration:** `10.23` seconds."
      ],
      "text/plain": [
       "<IPython.core.display.Markdown object>"
      ]
     },
     "metadata": {},
     "output_type": "display_data"
    },
    {
     "data": {
      "text/markdown": [
       "**Epoch 16 finished. Loss:** `0.111265`  | **Duration:** `10.16` seconds."
      ],
      "text/plain": [
       "<IPython.core.display.Markdown object>"
      ]
     },
     "metadata": {},
     "output_type": "display_data"
    },
    {
     "data": {
      "text/markdown": [
       "**Epoch 17 finished. Loss:** `0.101018`  | **Duration:** `10.05` seconds."
      ],
      "text/plain": [
       "<IPython.core.display.Markdown object>"
      ]
     },
     "metadata": {},
     "output_type": "display_data"
    },
    {
     "data": {
      "text/markdown": [
       "**Epoch 18 finished. Loss:** `0.091325`  | **Duration:** `10.12` seconds."
      ],
      "text/plain": [
       "<IPython.core.display.Markdown object>"
      ]
     },
     "metadata": {},
     "output_type": "display_data"
    },
    {
     "data": {
      "text/markdown": [
       "**Epoch 19 finished. Loss:** `0.082271`  | **Duration:** `10.27` seconds."
      ],
      "text/plain": [
       "<IPython.core.display.Markdown object>"
      ]
     },
     "metadata": {},
     "output_type": "display_data"
    },
    {
     "data": {
      "text/markdown": [
       "**Epoch 20 finished. Loss:** `0.073814`  | **Duration:** `10.08` seconds."
      ],
      "text/plain": [
       "<IPython.core.display.Markdown object>"
      ]
     },
     "metadata": {},
     "output_type": "display_data"
    },
    {
     "data": {
      "text/markdown": [
       "**Epoch 21 finished. Loss:** `0.065981`  | **Duration:** `10.04` seconds."
      ],
      "text/plain": [
       "<IPython.core.display.Markdown object>"
      ]
     },
     "metadata": {},
     "output_type": "display_data"
    },
    {
     "data": {
      "text/markdown": [
       "**Epoch 22 finished. Loss:** `0.058749`  | **Duration:** `10.00` seconds."
      ],
      "text/plain": [
       "<IPython.core.display.Markdown object>"
      ]
     },
     "metadata": {},
     "output_type": "display_data"
    },
    {
     "data": {
      "text/markdown": [
       "**Epoch 23 finished. Loss:** `0.052151`  | **Duration:** `10.09` seconds."
      ],
      "text/plain": [
       "<IPython.core.display.Markdown object>"
      ]
     },
     "metadata": {},
     "output_type": "display_data"
    },
    {
     "data": {
      "text/markdown": [
       "**Epoch 24 finished. Loss:** `0.046128`  | **Duration:** `10.10` seconds."
      ],
      "text/plain": [
       "<IPython.core.display.Markdown object>"
      ]
     },
     "metadata": {},
     "output_type": "display_data"
    },
    {
     "data": {
      "text/markdown": [
       "**Epoch 25 finished. Loss:** `0.040679`  | **Duration:** `10.08` seconds."
      ],
      "text/plain": [
       "<IPython.core.display.Markdown object>"
      ]
     },
     "metadata": {},
     "output_type": "display_data"
    },
    {
     "data": {
      "text/markdown": [
       "**Epoch 26 finished. Loss:** `0.035758`  | **Duration:** `10.21` seconds."
      ],
      "text/plain": [
       "<IPython.core.display.Markdown object>"
      ]
     },
     "metadata": {},
     "output_type": "display_data"
    },
    {
     "data": {
      "text/markdown": [
       "**Epoch 27 finished. Loss:** `0.031329`  | **Duration:** `10.17` seconds."
      ],
      "text/plain": [
       "<IPython.core.display.Markdown object>"
      ]
     },
     "metadata": {},
     "output_type": "display_data"
    },
    {
     "data": {
      "text/markdown": [
       "**Epoch 28 finished. Loss:** `0.027372`  | **Duration:** `10.10` seconds."
      ],
      "text/plain": [
       "<IPython.core.display.Markdown object>"
      ]
     },
     "metadata": {},
     "output_type": "display_data"
    },
    {
     "data": {
      "text/markdown": [
       "**Epoch 29 finished. Loss:** `0.023841`  | **Duration:** `10.06` seconds."
      ],
      "text/plain": [
       "<IPython.core.display.Markdown object>"
      ]
     },
     "metadata": {},
     "output_type": "display_data"
    },
    {
     "data": {
      "text/markdown": [
       "**Epoch 30 finished. Loss:** `0.020698`  | **Duration:** `10.22` seconds."
      ],
      "text/plain": [
       "<IPython.core.display.Markdown object>"
      ]
     },
     "metadata": {},
     "output_type": "display_data"
    },
    {
     "data": {
      "text/markdown": [
       "**Epoch 31 finished. Loss:** `0.017942`  | **Duration:** `10.43` seconds."
      ],
      "text/plain": [
       "<IPython.core.display.Markdown object>"
      ]
     },
     "metadata": {},
     "output_type": "display_data"
    },
    {
     "data": {
      "text/markdown": [
       "**Epoch 32 finished. Loss:** `0.015495`  | **Duration:** `10.04` seconds."
      ],
      "text/plain": [
       "<IPython.core.display.Markdown object>"
      ]
     },
     "metadata": {},
     "output_type": "display_data"
    },
    {
     "data": {
      "text/markdown": [
       "**Epoch 33 finished. Loss:** `0.013347`  | **Duration:** `10.18` seconds."
      ],
      "text/plain": [
       "<IPython.core.display.Markdown object>"
      ]
     },
     "metadata": {},
     "output_type": "display_data"
    },
    {
     "data": {
      "text/markdown": [
       "**Epoch 34 finished. Loss:** `0.011464`  | **Duration:** `10.00` seconds."
      ],
      "text/plain": [
       "<IPython.core.display.Markdown object>"
      ]
     },
     "metadata": {},
     "output_type": "display_data"
    },
    {
     "data": {
      "text/markdown": [
       "**Epoch 35 finished. Loss:** `0.009821`  | **Duration:** `10.14` seconds."
      ],
      "text/plain": [
       "<IPython.core.display.Markdown object>"
      ]
     },
     "metadata": {},
     "output_type": "display_data"
    },
    {
     "data": {
      "text/markdown": [
       "**Epoch 36 finished. Loss:** `0.008389`  | **Duration:** `10.13` seconds."
      ],
      "text/plain": [
       "<IPython.core.display.Markdown object>"
      ]
     },
     "metadata": {},
     "output_type": "display_data"
    },
    {
     "data": {
      "text/markdown": [
       "**Epoch 37 finished. Loss:** `0.007157`  | **Duration:** `10.08` seconds."
      ],
      "text/plain": [
       "<IPython.core.display.Markdown object>"
      ]
     },
     "metadata": {},
     "output_type": "display_data"
    },
    {
     "data": {
      "text/markdown": [
       "**Epoch 38 finished. Loss:** `0.006089`  | **Duration:** `10.08` seconds."
      ],
      "text/plain": [
       "<IPython.core.display.Markdown object>"
      ]
     },
     "metadata": {},
     "output_type": "display_data"
    },
    {
     "data": {
      "text/markdown": [
       "**Epoch 39 finished. Loss:** `0.005166`  | **Duration:** `10.07` seconds."
      ],
      "text/plain": [
       "<IPython.core.display.Markdown object>"
      ]
     },
     "metadata": {},
     "output_type": "display_data"
    },
    {
     "data": {
      "text/markdown": [
       "**Epoch 40 finished. Loss:** `0.004371`  | **Duration:** `10.02` seconds."
      ],
      "text/plain": [
       "<IPython.core.display.Markdown object>"
      ]
     },
     "metadata": {},
     "output_type": "display_data"
    },
    {
     "data": {
      "text/markdown": [
       "**Epoch 41 finished. Loss:** `0.003692`  | **Duration:** `10.06` seconds."
      ],
      "text/plain": [
       "<IPython.core.display.Markdown object>"
      ]
     },
     "metadata": {},
     "output_type": "display_data"
    },
    {
     "data": {
      "text/markdown": [
       "**Epoch 42 finished. Loss:** `0.003116`  | **Duration:** `10.14` seconds."
      ],
      "text/plain": [
       "<IPython.core.display.Markdown object>"
      ]
     },
     "metadata": {},
     "output_type": "display_data"
    },
    {
     "data": {
      "text/markdown": [
       "**Epoch 43 finished. Loss:** `0.002624`  | **Duration:** `10.04` seconds."
      ],
      "text/plain": [
       "<IPython.core.display.Markdown object>"
      ]
     },
     "metadata": {},
     "output_type": "display_data"
    },
    {
     "data": {
      "text/markdown": [
       "**Epoch 44 finished. Loss:** `0.002202`  | **Duration:** `10.04` seconds."
      ],
      "text/plain": [
       "<IPython.core.display.Markdown object>"
      ]
     },
     "metadata": {},
     "output_type": "display_data"
    },
    {
     "data": {
      "text/markdown": [
       "**Epoch 45 finished. Loss:** `0.001850`  | **Duration:** `10.55` seconds."
      ],
      "text/plain": [
       "<IPython.core.display.Markdown object>"
      ]
     },
     "metadata": {},
     "output_type": "display_data"
    },
    {
     "data": {
      "text/markdown": [
       "**Epoch 46 finished. Loss:** `0.001547`  | **Duration:** `10.05` seconds."
      ],
      "text/plain": [
       "<IPython.core.display.Markdown object>"
      ]
     },
     "metadata": {},
     "output_type": "display_data"
    },
    {
     "data": {
      "text/markdown": [
       "**Epoch 47 finished. Loss:** `0.001294`  | **Duration:** `10.11` seconds."
      ],
      "text/plain": [
       "<IPython.core.display.Markdown object>"
      ]
     },
     "metadata": {},
     "output_type": "display_data"
    },
    {
     "data": {
      "text/markdown": [
       "**Epoch 48 finished. Loss:** `0.001082`  | **Duration:** `10.14` seconds."
      ],
      "text/plain": [
       "<IPython.core.display.Markdown object>"
      ]
     },
     "metadata": {},
     "output_type": "display_data"
    },
    {
     "data": {
      "text/markdown": [
       "**Epoch 49 finished. Loss:** `0.000902`  | **Duration:** `10.12` seconds."
      ],
      "text/plain": [
       "<IPython.core.display.Markdown object>"
      ]
     },
     "metadata": {},
     "output_type": "display_data"
    },
    {
     "data": {
      "text/markdown": [
       "**Epoch 50 finished. Loss:** `0.000749`  | **Duration:** `9.99` seconds."
      ],
      "text/plain": [
       "<IPython.core.display.Markdown object>"
      ]
     },
     "metadata": {},
     "output_type": "display_data"
    },
    {
     "data": {
      "text/markdown": [
       "**Training complete. Total training time:** `524.73` seconds."
      ],
      "text/plain": [
       "<IPython.core.display.Markdown object>"
      ]
     },
     "metadata": {},
     "output_type": "display_data"
    },
    {
     "name": "stdout",
     "output_type": "stream",
     "text": [
      "✅ Training completed!\n"
     ]
    }
   ],
   "source": [
    "from word2gm_fast.training.notebook_training import run_notebook_training\n",
    "\n",
    "# Run General-Purpose Word2GM Training\n",
    "# Hardcoded stable configuration for reliable training\n",
    "\n",
    "print(f\"Starting Word2GM training...\")\n",
    "print(f\"Vocab size: {vocab_size}\")\n",
    "print(f\"Output: {output_dir}\")\n",
    "\n",
    "# Run training with hardcoded stable parameters\n",
    "training_results = run_notebook_training(\n",
    "    training_dataset=triplets_ds,\n",
    "    save_path=output_dir,\n",
    "    vocab_size=vocab_size,\n",
    "    embedding_size=200,           # Good balance of capacity and speed\n",
    "    num_mixtures=1,               # Single Gaussian for simplicity\n",
    "    spherical=True,               # Diagonal covariance\n",
    "    learning_rate=0.1,            # Proven stable rate for Word2GM\n",
    "    epochs=100,                   # Reasonable training duration\n",
    "    adagrad=True,                 # Essential for Word2GM\n",
    "    normclip=True,                # Prevents exploding gradients\n",
    "    norm_cap=10.0,                # Moderate gradient clipping\n",
    "    lower_sig=0.05,               # Balanced variance bounds\n",
    "    upper_sig=1.5,\n",
    "    wout=True,                    # Use output embeddings\n",
    "    tensorboard_log_path=tensorboard_log_dir,\n",
    "    monitor_interval=0.5,         # Regular monitoring\n",
    "    var_scale=0.05,               # Moderate regularization\n",
    "    loss_epsilon=1e-8             # Numerical stability\n",
    ")\n",
    "\n",
    "print(\"✅ Training completed!\")"
   ]
  },
  {
   "cell_type": "code",
   "execution_count": null,
   "id": "847a5914",
   "metadata": {},
   "outputs": [],
   "source": []
  }
 ],
 "metadata": {
  "kernelspec": {
   "display_name": "Remote kernel: word2gm-fast2",
   "language": "python",
   "name": "word2gm-fast2"
  },
  "language_info": {
   "codemirror_mode": {
    "name": "ipython",
    "version": 3
   },
   "file_extension": ".py",
   "mimetype": "text/x-python",
   "name": "python",
   "nbconvert_exporter": "python",
   "pygments_lexer": "ipython3",
   "version": "3.12.11"
  }
 },
 "nbformat": 4,
 "nbformat_minor": 5
}
