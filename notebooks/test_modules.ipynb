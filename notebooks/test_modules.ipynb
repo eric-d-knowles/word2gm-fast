{
 "cells": [
  {
   "cell_type": "markdown",
   "id": "57101568",
   "metadata": {},
   "source": []
  },
  {
   "cell_type": "markdown",
   "id": "58683a38",
   "metadata": {},
   "source": [
    "# Test Modules"
   ]
  },
  {
   "cell_type": "code",
   "execution_count": null,
   "id": "27f7e6dd",
   "metadata": {},
   "outputs": [],
   "source": [
    "# Enable autoreload for development\n",
    "%load_ext autoreload\n",
    "%autoreload 2"
   ]
  },
  {
   "cell_type": "code",
   "execution_count": 2,
   "id": "b772c27e",
   "metadata": {},
   "outputs": [],
   "source": [
    "# Set project root and add src to path\n",
    "import sys\n",
    "from pathlib import Path\n",
    "import os\n",
    "\n",
    "PROJECT_ROOT = '/scratch/edk202/word2gm-fast'\n",
    "project_root = Path(PROJECT_ROOT)\n",
    "src_path = project_root / 'src'\n",
    "\n",
    "if str(src_path) not in sys.path:\n",
    "    sys.path.insert(0, str(src_path))"
   ]
  },
  {
   "cell_type": "code",
   "execution_count": 3,
   "id": "1acfab70",
   "metadata": {},
   "outputs": [
    {
     "name": "stderr",
     "output_type": "stream",
     "text": [
      "WARNING: All log messages before absl::InitializeLog() is called are written to STDERR\n",
      "E0000 00:00:1752682923.988386  385537 cuda_dnn.cc:8579] Unable to register cuDNN factory: Attempting to register factory for plugin cuDNN when one has already been registered\n",
      "E0000 00:00:1752682923.993527  385537 cuda_blas.cc:1407] Unable to register cuBLAS factory: Attempting to register factory for plugin cuBLAS when one has already been registered\n",
      "W0000 00:00:1752682924.006271  385537 computation_placer.cc:177] computation placer already registered. Please check linkage and avoid linking the same target more than once.\n",
      "W0000 00:00:1752682924.006287  385537 computation_placer.cc:177] computation placer already registered. Please check linkage and avoid linking the same target more than once.\n",
      "W0000 00:00:1752682924.006288  385537 computation_placer.cc:177] computation placer already registered. Please check linkage and avoid linking the same target more than once.\n",
      "W0000 00:00:1752682924.006290  385537 computation_placer.cc:177] computation placer already registered. Please check linkage and avoid linking the same target more than once.\n"
     ]
    },
    {
     "data": {
      "text/markdown": [
       "<pre>SYSTEM RESOURCE SUMMARY\n",
       "=============================================\n",
       "Hostname: cm049.hpc.nyu.edu\n",
       "\n",
       "Job Allocation:\n",
       "   CPUs: 14\n",
       "   Memory: 125.0 GB\n",
       "   Partition: short\n",
       "   Job ID: 63778590\n",
       "   Node list: cm049\n",
       "\n",
       "Physical GPU Hardware:\n",
       "   No physical GPUs allocated to this job\n",
       "\n",
       "TensorFlow GPU Recognition:\n",
       "   TensorFlow can access 0 GPU(s)\n",
       "   Built with CUDA support: True\n",
       "=============================================</pre>"
      ],
      "text/plain": [
       "<IPython.core.display.Markdown object>"
      ]
     },
     "metadata": {},
     "output_type": "display_data"
    }
   ],
   "source": [
    "# Print resource summary\n",
    "from word2gm_fast.utils.resource_summary import print_resource_summary\n",
    "\n",
    "print_resource_summary()"
   ]
  },
  {
   "cell_type": "markdown",
   "id": "e46dcbdf",
   "metadata": {},
   "source": [
    "## Test `corpus_to_dataset.py`"
   ]
  },
  {
   "cell_type": "code",
   "execution_count": 4,
   "id": "a48ee228",
   "metadata": {},
   "outputs": [
    {
     "name": "stdout",
     "output_type": "stream",
     "text": [
      "\u001b[1m============================= test session starts ==============================\u001b[0m\n",
      "platform linux -- Python 3.12.11, pytest-8.4.1, pluggy-1.6.0 -- /ext3/miniforge3/envs/word2gm-fast2/bin/python\n",
      "cachedir: .pytest_cache\n",
      "rootdir: /scratch/edk202/word2gm-fast\n",
      "plugins: anyio-4.9.0, timeout-2.4.0\n",
      "\u001b[1mcollecting ... \u001b[0mcollected 12 items\n",
      "\n",
      "tests/test_corpus_to_dataset.py::TestValidate5gramLine::test_valid_cases \u001b[32mPASSED\u001b[0m\u001b[32m [  8%]\u001b[0m\n",
      "tests/test_corpus_to_dataset.py::TestValidate5gramLine::test_invalid_cases \u001b[32mPASSED\u001b[0m\u001b[32m [ 16%]\u001b[0m\n",
      "tests/test_corpus_to_dataset.py::TestValidate5gramLine::test_validation_rules \u001b[32mPASSED\u001b[0m\u001b[32m [ 25%]\u001b[0m\n",
      "tests/test_corpus_to_dataset.py::TestMakeDataset::test_filtering_accuracy \u001b[32mPASSED\u001b[0m\u001b[32m [ 33%]\u001b[0m\n",
      "tests/test_corpus_to_dataset.py::TestMakeDataset::test_summary_statistics \u001b[32mPASSED\u001b[0m\u001b[32m [ 41%]\u001b[0m\n",
      "tests/test_corpus_to_dataset.py::TestMakeDataset::test_caching_functionality \u001b[32mPASSED\u001b[0m\u001b[32m [ 50%]\u001b[0m\n",
      "tests/test_corpus_to_dataset.py::TestMakeDataset::test_preview_integration \u001b[32mPASSED\u001b[0m\u001b[32m [ 58%]\u001b[0m\n",
      "tests/test_corpus_to_dataset.py::TestMakeDataset::test_optional_summary \u001b[32mPASSED\u001b[0m\u001b[32m [ 66%]\u001b[0m\n",
      "tests/test_corpus_to_dataset.py::TestEdgeCases::test_empty_file \u001b[32mPASSED\u001b[0m\u001b[32m   [ 75%]\u001b[0m\n",
      "tests/test_corpus_to_dataset.py::TestEdgeCases::test_all_invalid_lines \u001b[32mPASSED\u001b[0m\u001b[32m [ 83%]\u001b[0m\n",
      "tests/test_corpus_to_dataset.py::TestEdgeCases::test_whitespace_handling \u001b[32mPASSED\u001b[0m\u001b[32m [ 91%]\u001b[0m\n",
      "tests/test_corpus_to_dataset.py::TestSummaryFunction::test_summary_calculation \u001b[32mPASSED\u001b[0m\u001b[32m [100%]\u001b[0m\n",
      "\n",
      "\u001b[32m============================== \u001b[32m\u001b[1m12 passed\u001b[0m\u001b[32m in 5.79s\u001b[0m\u001b[32m ==============================\u001b[0m\n",
      "\n"
     ]
    }
   ],
   "source": [
    "import subprocess\n",
    "\n",
    "# Run the corpus_to_dataset test\n",
    "result = subprocess.run([\n",
    "    'python', '-m', 'pytest', \n",
    "    'tests/test_corpus_to_dataset.py',\n",
    "    '-v'\n",
    "], capture_output=True, text=True, cwd=PROJECT_ROOT)\n",
    "\n",
    "print(result.stdout)\n",
    "if result.stderr:\n",
    "    print(result.stderr)"
   ]
  },
  {
   "cell_type": "markdown",
   "id": "75795115",
   "metadata": {},
   "source": [
    "## Test `dataset_to_frequency.py`"
   ]
  },
  {
   "cell_type": "code",
   "execution_count": 7,
   "id": "3c60b83e",
   "metadata": {},
   "outputs": [
    {
     "name": "stdout",
     "output_type": "stream",
     "text": [
      "\u001b[1m============================= test session starts ==============================\u001b[0m\n",
      "platform linux -- Python 3.12.11, pytest-8.4.1, pluggy-1.6.0 -- /ext3/miniforge3/envs/word2gm-fast2/bin/python\n",
      "cachedir: .pytest_cache\n",
      "rootdir: /scratch/edk202/word2gm-fast\n",
      "plugins: anyio-4.9.0, timeout-2.4.0\n",
      "\u001b[1mcollecting ... \u001b[0mcollected 11 items\n",
      "\n",
      "tests/test_dataset_to_frequency.py::TestDatasetToFrequency::test_basic_frequency_counting \u001b[32mPASSED\u001b[0m\u001b[32m [  9%]\u001b[0m\n",
      "tests/test_dataset_to_frequency.py::TestDatasetToFrequency::test_frequency_counts \u001b[32mPASSED\u001b[0m\u001b[32m [ 18%]\u001b[0m\n",
      "tests/test_dataset_to_frequency.py::TestDatasetToFrequency::test_sorted_by_frequency \u001b[32mPASSED\u001b[0m\u001b[32m [ 27%]\u001b[0m\n",
      "tests/test_dataset_to_frequency.py::TestDatasetToFrequency::test_empty_dataset \u001b[32mPASSED\u001b[0m\u001b[32m [ 36%]\u001b[0m\n",
      "tests/test_dataset_to_frequency.py::TestDatasetToFrequency::test_single_line_dataset \u001b[32mPASSED\u001b[0m\u001b[32m [ 45%]\u001b[0m\n",
      "tests/test_dataset_to_frequency.py::TestDatasetToFrequency::test_repeated_tokens_same_line \u001b[32mPASSED\u001b[0m\u001b[32m [ 54%]\u001b[0m\n",
      "tests/test_dataset_to_frequency.py::TestDatasetToFrequency::test_whitespace_handling \u001b[32mPASSED\u001b[0m\u001b[32m [ 63%]\u001b[0m\n",
      "tests/test_dataset_to_frequency.py::TestDatasetToFrequency::test_unk_tokens \u001b[32mPASSED\u001b[0m\u001b[32m [ 72%]\u001b[0m\n",
      "tests/test_dataset_to_frequency.py::TestEdgeCases::test_special_characters \u001b[32mPASSED\u001b[0m\u001b[32m [ 81%]\u001b[0m\n",
      "tests/test_dataset_to_frequency.py::TestEdgeCases::test_unicode_tokens \u001b[32mPASSED\u001b[0m\u001b[32m [ 90%]\u001b[0m\n",
      "tests/test_dataset_to_frequency.py::TestEdgeCases::test_large_frequency_values \u001b[32mPASSED\u001b[0m\u001b[32m [100%]\u001b[0m\n",
      "\n",
      "\u001b[32m============================== \u001b[32m\u001b[1m11 passed\u001b[0m\u001b[32m in 3.34s\u001b[0m\u001b[32m ==============================\u001b[0m\n",
      "\n"
     ]
    }
   ],
   "source": [
    "import subprocess\n",
    "\n",
    "# Run the corpus_to_dataset test\n",
    "result = subprocess.run([\n",
    "    'python', '-m', 'pytest', \n",
    "    'tests/test_dataset_to_frequency.py',\n",
    "    '-v'\n",
    "], capture_output=True, text=True, cwd=PROJECT_ROOT)\n",
    "\n",
    "print(result.stdout)\n",
    "if result.stderr:\n",
    "    print(result.stderr)"
   ]
  },
  {
   "cell_type": "markdown",
   "id": "127709c8",
   "metadata": {},
   "source": [
    "## Test `dataset_to_triplets.py`"
   ]
  },
  {
   "cell_type": "code",
   "execution_count": 10,
   "id": "c55aa422",
   "metadata": {},
   "outputs": [
    {
     "name": "stdout",
     "output_type": "stream",
     "text": [
      "\u001b[1m============================= test session starts ==============================\u001b[0m\n",
      "platform linux -- Python 3.12.11, pytest-8.4.1, pluggy-1.6.0 -- /ext3/miniforge3/envs/word2gm-fast2/bin/python\n",
      "cachedir: .pytest_cache\n",
      "rootdir: /scratch/edk202/word2gm-fast\n",
      "plugins: anyio-4.9.0, timeout-2.4.0\n",
      "\u001b[1mcollecting ... \u001b[0mcollected 10 items\n",
      "\n",
      "tests/test_dataset_to_triplets.py::TestDatasetToTriplets::test_basic_triplet_generation \u001b[32mPASSED\u001b[0m\u001b[32m [ 10%]\u001b[0m\n",
      "tests/test_dataset_to_triplets.py::TestDatasetToTriplets::test_triplet_structure \u001b[32mPASSED\u001b[0m\u001b[32m [ 20%]\u001b[0m\n",
      "tests/test_dataset_to_triplets.py::TestDatasetToTriplets::test_unk_exclusion \u001b[32mPASSED\u001b[0m\u001b[32m [ 30%]\u001b[0m\n",
      "tests/test_dataset_to_triplets.py::TestDatasetToTriplets::test_empty_dataset \u001b[32mPASSED\u001b[0m\u001b[32m [ 40%]\u001b[0m\n",
      "tests/test_dataset_to_triplets.py::TestDatasetToTriplets::test_caching_functionality \u001b[32mPASSED\u001b[0m\u001b[32m [ 50%]\u001b[0m\n",
      "tests/test_dataset_to_triplets.py::TestDatasetToTriplets::test_summary_statistics \u001b[32mPASSED\u001b[0m\u001b[32m [ 60%]\u001b[0m\n",
      "tests/test_dataset_to_triplets.py::TestEdgeCases::test_single_line_dataset \u001b[32mPASSED\u001b[0m\u001b[32m [ 70%]\u001b[0m\n",
      "tests/test_dataset_to_triplets.py::TestEdgeCases::test_all_unk_context \u001b[32mPASSED\u001b[0m\u001b[32m [ 80%]\u001b[0m\n",
      "tests/test_dataset_to_triplets.py::TestDownsampling::test_downsampling_effect \u001b[32mPASSED\u001b[0m\u001b[32m [ 90%]\u001b[0m\n",
      "tests/test_dataset_to_triplets.py::TestDownsampling::test_high_threshold_keeps_all \u001b[32mPASSED\u001b[0m\u001b[32m [100%]\u001b[0m\n",
      "\n",
      "\u001b[32m============================== \u001b[32m\u001b[1m10 passed\u001b[0m\u001b[32m in 4.84s\u001b[0m\u001b[32m ==============================\u001b[0m\n",
      "\n"
     ]
    }
   ],
   "source": [
    "import subprocess\n",
    "\n",
    "# Run the corpus_to_dataset test\n",
    "result = subprocess.run([\n",
    "    'python', '-m', 'pytest', \n",
    "    'tests/test_dataset_to_triplets.py',\n",
    "    '-v'\n",
    "], capture_output=True, text=True, cwd=PROJECT_ROOT)\n",
    "\n",
    "print(result.stdout)\n",
    "if result.stderr:\n",
    "    print(result.stderr)"
   ]
  },
  {
   "cell_type": "markdown",
   "id": "4c90a400",
   "metadata": {},
   "source": [
    "## Test `index_vocab.py`"
   ]
  },
  {
   "cell_type": "code",
   "execution_count": 11,
   "id": "c94e6d69",
   "metadata": {},
   "outputs": [
    {
     "name": "stdout",
     "output_type": "stream",
     "text": [
      "\u001b[1m============================= test session starts ==============================\u001b[0m\n",
      "platform linux -- Python 3.12.11, pytest-8.4.1, pluggy-1.6.0 -- /ext3/miniforge3/envs/word2gm-fast2/bin/python\n",
      "cachedir: .pytest_cache\n",
      "rootdir: /scratch/edk202/word2gm-fast\n",
      "plugins: anyio-4.9.0, timeout-2.4.0\n",
      "\u001b[1mcollecting ... \u001b[0mcollected 18 items\n",
      "\n",
      "tests/test_index_vocab.py::TestBuildVocabTable::test_basic_vocab_table_creation \u001b[32mPASSED\u001b[0m\u001b[32m [  5%]\u001b[0m\n",
      "tests/test_index_vocab.py::TestBuildVocabTable::test_unk_token_validation \u001b[32mPASSED\u001b[0m\u001b[32m [ 11%]\u001b[0m\n",
      "tests/test_index_vocab.py::TestBuildVocabTable::test_lookup_unknown_tokens \u001b[32mPASSED\u001b[0m\u001b[32m [ 16%]\u001b[0m\n",
      "tests/test_index_vocab.py::TestMakeVocab::test_basic_vocab_creation \u001b[32mPASSED\u001b[0m\u001b[32m [ 22%]\u001b[0m\n",
      "tests/test_index_vocab.py::TestMakeVocab::test_vocab_ordering \u001b[32mPASSED\u001b[0m\u001b[32m     [ 27%]\u001b[0m\n",
      "tests/test_index_vocab.py::TestMakeVocab::test_frequency_counting \u001b[32mPASSED\u001b[0m\u001b[32m [ 33%]\u001b[0m\n",
      "tests/test_index_vocab.py::TestMakeVocab::test_empty_dataset \u001b[32mPASSED\u001b[0m\u001b[32m      [ 38%]\u001b[0m\n",
      "tests/test_index_vocab.py::TestTripletsToIntegers::test_basic_conversion \u001b[32mPASSED\u001b[0m\u001b[32m [ 44%]\u001b[0m\n",
      "tests/test_index_vocab.py::TestTripletsToIntegers::test_vocab_table_consistency \u001b[32mPASSED\u001b[0m\u001b[32m [ 50%]\u001b[0m\n",
      "tests/test_index_vocab.py::TestTripletsToIntegers::test_frequency_preservation \u001b[32mPASSED\u001b[0m\u001b[32m [ 55%]\u001b[0m\n",
      "tests/test_index_vocab.py::TestTripletsToIntegers::test_caching_functionality \u001b[32mPASSED\u001b[0m\u001b[32m [ 61%]\u001b[0m\n",
      "tests/test_index_vocab.py::TestTripletsToIntegers::test_empty_triplets \u001b[32mPASSED\u001b[0m\u001b[32m [ 66%]\u001b[0m\n",
      "tests/test_index_vocab.py::TestTripletsToIntegers::test_token_counting_from_triplets \u001b[32mPASSED\u001b[0m\u001b[32m [ 72%]\u001b[0m\n",
      "tests/test_index_vocab.py::TestEdgeCases::test_single_token_vocab \u001b[32mPASSED\u001b[0m\u001b[32m [ 77%]\u001b[0m\n",
      "tests/test_index_vocab.py::TestEdgeCases::test_duplicate_tokens_in_line \u001b[32mPASSED\u001b[0m\u001b[32m [ 83%]\u001b[0m\n",
      "tests/test_index_vocab.py::TestEdgeCases::test_unk_token_in_input \u001b[32mPASSED\u001b[0m\u001b[32m [ 88%]\u001b[0m\n",
      "tests/test_index_vocab.py::TestDisplayFunctions::test_print_vocab_summary_structure \u001b[32mPASSED\u001b[0m\u001b[32m [ 94%]\u001b[0m\n",
      "tests/test_index_vocab.py::TestDisplayFunctions::test_display_functions_no_errors \u001b[32mPASSED\u001b[0m\u001b[32m [100%]\u001b[0m\n",
      "\n",
      "\u001b[32m============================== \u001b[32m\u001b[1m18 passed\u001b[0m\u001b[32m in 3.20s\u001b[0m\u001b[32m ==============================\u001b[0m\n",
      "\n"
     ]
    }
   ],
   "source": [
    "import subprocess\n",
    "\n",
    "# Run the index_vocab test\n",
    "result = subprocess.run([\n",
    "    'python', '-m', 'pytest', \n",
    "    'tests/test_index_vocab.py',\n",
    "    '-v'\n",
    "], capture_output=True, text=True, cwd=PROJECT_ROOT)\n",
    "\n",
    "print(result.stdout)\n",
    "if result.stderr:\n",
    "    print(result.stderr)"
   ]
  },
  {
   "cell_type": "code",
   "execution_count": null,
   "id": "b974ebf9",
   "metadata": {},
   "outputs": [],
   "source": []
  }
 ],
 "metadata": {
  "kernelspec": {
   "display_name": "Remote kernel: word2gm-fast2",
   "language": "python",
   "name": "word2gm-fast2"
  },
  "language_info": {
   "codemirror_mode": {
    "name": "ipython",
    "version": 3
   },
   "file_extension": ".py",
   "mimetype": "text/x-python",
   "name": "python",
   "nbconvert_exporter": "python",
   "pygments_lexer": "ipython3",
   "version": "3.12.11"
  }
 },
 "nbformat": 4,
 "nbformat_minor": 5
}
