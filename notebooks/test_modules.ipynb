{
 "cells": [
  {
   "cell_type": "markdown",
   "id": "180684c5",
   "metadata": {},
   "source": [
    "# Test Modules"
   ]
  },
  {
   "cell_type": "code",
   "execution_count": 4,
   "id": "27f7e6dd",
   "metadata": {},
   "outputs": [
    {
     "ename": "ImportError",
     "evalue": "cannot import name 'setup_testing_notebook' from 'word2gm_fast.utils.notebook_setup' (/scratch/edk202/word2gm-fast/src/word2gm_fast/utils/notebook_setup.py)",
     "output_type": "error",
     "traceback": [
      "\u001b[31m---------------------------------------------------------------------------\u001b[39m",
      "\u001b[31mImportError\u001b[39m                               Traceback (most recent call last)",
      "\u001b[36mCell\u001b[39m\u001b[36m \u001b[39m\u001b[32mIn[4]\u001b[39m\u001b[32m, line 13\u001b[39m\n\u001b[32m     10\u001b[39m     sys.path.insert(\u001b[32m0\u001b[39m, \u001b[38;5;28mstr\u001b[39m(src_path))\n\u001b[32m     12\u001b[39m \u001b[38;5;66;03m# Import the notebook setup utilities\u001b[39;00m\n\u001b[32m---> \u001b[39m\u001b[32m13\u001b[39m \u001b[38;5;28;01mfrom\u001b[39;00m\u001b[38;5;250m \u001b[39m\u001b[34;01mword2gm_fast\u001b[39;00m\u001b[34;01m.\u001b[39;00m\u001b[34;01mutils\u001b[39;00m\u001b[34;01m.\u001b[39;00m\u001b[34;01mnotebook_setup\u001b[39;00m\u001b[38;5;250m \u001b[39m\u001b[38;5;28;01mimport\u001b[39;00m setup_testing_notebook, enable_autoreload\n\u001b[32m     15\u001b[39m \u001b[38;5;66;03m# Enable autoreload for development\u001b[39;00m\n\u001b[32m     16\u001b[39m enable_autoreload()\n",
      "\u001b[31mImportError\u001b[39m: cannot import name 'setup_testing_notebook' from 'word2gm_fast.utils.notebook_setup' (/scratch/edk202/word2gm-fast/src/word2gm_fast/utils/notebook_setup.py)"
     ]
    }
   ],
   "source": [
    "# Set project root directory and add `src` to path\n",
    "import sys\n",
    "from pathlib import Path\n",
    "\n",
    "PROJECT_ROOT = '/scratch/edk202/word2gm-fast'\n",
    "project_root = Path(PROJECT_ROOT)\n",
    "src_path = project_root / 'src'\n",
    "\n",
    "if str(src_path) not in sys.path:\n",
    "    sys.path.insert(0, str(src_path))\n",
    "\n",
    "# Import the notebook setup utilities\n",
    "from word2gm_fast.utils.notebook_setup import setup_testing_notebook, enable_autoreload\n",
    "\n",
    "# Enable autoreload for development\n",
    "enable_autoreload()\n",
    "\n",
    "# Set up environment (GPU-enabled for tests)\n",
    "env = setup_testing_notebook(project_root=PROJECT_ROOT)\n",
    "\n",
    "# Extract commonly used modules for convenience\n",
    "tf = env['tensorflow']\n",
    "np = env['numpy']\n",
    "pd = env['pandas']\n",
    "batch_prepare_training_data = env['batch_prepare_training_data']\n",
    "print_resource_summary = env['print_resource_summary']"
   ]
  },
  {
   "cell_type": "code",
   "execution_count": null,
   "id": "a48ee228",
   "metadata": {},
   "outputs": [],
   "source": [
    "# Clean test execution - no duplicates\n",
    "print(\"🧪 Testing all modules...\")\n",
    "\n",
    "modules_to_test = [\n",
    "    ('tests.test_corpus_to_dataset', 'Corpus processing'),\n",
    "    ('tests.test_index_vocab', 'Vocabulary indexing'), \n",
    "    ('tests.test_dataset_to_triplets', 'Triplet generation'),\n",
    "    ('tests.test_tfrecord_io', 'TFRecord I/O')\n",
    "]\n",
    "\n",
    "test_results = []\n",
    "for test_module, test_name in modules_to_test:\n",
    "    if 'triplets' in test_module:\n",
    "        cmd_result = run_silent_subprocess(\n",
    "            ['python', '-m', 'unittest', '-b', test_module], \n",
    "            deterministic=False, capture_output=True, text=True\n",
    "        )\n",
    "    else:\n",
    "        cmd_result = run_silent_subprocess(\n",
    "            ['python', '-m', 'unittest', '-b', test_module], \n",
    "            capture_output=True, text=True\n",
    "        )\n",
    "    \n",
    "    status = \"PASS\" if cmd_result.returncode == 0 else \"FAIL\"\n",
    "    print(f\"  {test_name}: {status}\")\n",
    "    test_results.append(cmd_result.returncode == 0)\n",
    "\n",
    "passes = sum(test_results)\n",
    "total = len(test_results)\n",
    "print(f\"\\nResult: {passes}/{total} tests passed\")\n",
    "if passes == total:\n",
    "    print(\"✅ All tests successful!\")\n",
    "else:\n",
    "    print(\"❌ Some tests failed\")"
   ]
  }
 ],
 "metadata": {
  "kernelspec": {
   "display_name": "Remote kernel: word2gm-fast2",
   "language": "python",
   "name": "word2gm-fast2"
  },
  "language_info": {
   "codemirror_mode": {
    "name": "ipython",
    "version": 3
   },
   "file_extension": ".py",
   "mimetype": "text/x-python",
   "name": "python",
   "nbconvert_exporter": "python",
   "pygments_lexer": "ipython3",
   "version": "3.12.11"
  }
 },
 "nbformat": 4,
 "nbformat_minor": 5
}
