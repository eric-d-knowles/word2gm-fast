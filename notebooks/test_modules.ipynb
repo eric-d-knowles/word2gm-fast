{
 "cells": [
  {
   "cell_type": "markdown",
   "id": "180684c5",
   "metadata": {},
   "source": [
    "# Test Modules"
   ]
  },
  {
   "cell_type": "code",
   "execution_count": null,
   "id": "27f7e6dd",
   "metadata": {},
   "outputs": [
    {
     "ename": "",
     "evalue": "",
     "output_type": "error",
     "traceback": [
      "\u001b[1;31mFailed to start the Kernel. \n",
      "\u001b[1;31mCanceled future for execute_request message before replies were done. \n",
      "\u001b[1;31mView Jupyter <a href='command:jupyter.viewOutput'>log</a> for further details."
     ]
    }
   ],
   "source": [
    "# Set project root directory and add `src` to path\n",
    "import sys\n",
    "from pathlib import Path\n",
    "\n",
    "PROJECT_ROOT = '/scratch/edk202/word2gm-fast'\n",
    "project_root = Path(PROJECT_ROOT)\n",
    "src_path = project_root / 'src'\n",
    "\n",
    "if str(src_path) not in sys.path:\n",
    "    sys.path.insert(0, str(src_path))\n",
    "\n",
    "# Import the notebook setup utilities\n",
    "from word2gm_fast.utils.notebook_setup import setup_testing_notebook, enable_autoreload, run_silent_subprocess\n",
    "\n",
    "# Enable autoreload for development\n",
    "enable_autoreload()\n",
    "\n",
    "# Set up environment\n",
    "env = setup_testing_notebook(project_root=PROJECT_ROOT)\n",
    "\n",
    "# Extract commonly used modules for convenience\n",
    "tf = env['tensorflow']\n",
    "np = env['numpy']\n",
    "pd = env['pandas']\n",
    "print_resource_summary = env['print_resource_summary']"
   ]
  },
  {
   "cell_type": "code",
   "execution_count": null,
   "id": "a48ee228",
   "metadata": {},
   "outputs": [],
   "source": [
    "import datetime\n",
    "\n",
    "modules_to_test = [\n",
    "    ('tests/test_corpus_to_dataset.py', 'Corpus processing'),\n",
    "    ('tests/test_index_vocab.py', 'Vocabulary indexing'), \n",
    "    ('tests/test_dataset_to_triplets.py', 'Triplet generation'),\n",
    "    ('tests/test_tfrecord_io.py', 'TFRecord I/O'),\n",
    "    ('tests/test_word2gm_model.py', 'Word2GM model')\n",
    "]\n",
    "\n",
    "output_lines = [\"Testing modules...\"]\n",
    "failures = []\n",
    "\n",
    "for test_file, test_name in modules_to_test:\n",
    "    start_time = datetime.datetime.now()\n",
    "    cmd_result = run_silent_subprocess(\n",
    "        ['pytest', test_file, '--maxfail=1', '--disable-warnings', '-q'],\n",
    "        capture_output=True, text=True\n",
    "    )\n",
    "    status = \"PASS\" if cmd_result.returncode == 0 else \"FAIL\"\n",
    "    output_lines.append(f\"{test_name}: {status}\")\n",
    "    if cmd_result.returncode != 0:\n",
    "        failures.append((test_name, cmd_result))\n",
    "\n",
    "print(\"\\n\".join(output_lines))\n",
    "\n",
    "if failures:\n",
    "    print(\"\\nDetailed output for failed tests:\")\n",
    "    for test_name, cmd_result in failures:\n",
    "        print(f\"\\n--- {test_name} ---\")\n",
    "        if cmd_result.stdout:\n",
    "            print(\"stdout:\\n\" + cmd_result.stdout)\n",
    "        if cmd_result.stderr:\n",
    "            print(\"stderr:\\n\" + cmd_result.stderr)"
   ]
  },
  {
   "cell_type": "code",
   "execution_count": null,
   "id": "3512f87c",
   "metadata": {},
   "outputs": [],
   "source": []
  }
 ],
 "metadata": {
  "kernelspec": {
   "display_name": "Remote kernel: word2gm-fast2",
   "language": "python",
   "name": "word2gm-fast2"
  },
  "language_info": {
   "codemirror_mode": {
    "name": "ipython",
    "version": 3
   },
   "file_extension": ".py",
   "mimetype": "text/x-python",
   "name": "python",
   "nbconvert_exporter": "python",
   "pygments_lexer": "ipython3",
   "version": "3.12.11"
  }
 },
 "nbformat": 4,
 "nbformat_minor": 5
}
