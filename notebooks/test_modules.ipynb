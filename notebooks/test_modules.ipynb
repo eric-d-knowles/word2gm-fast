{
 "cells": [
  {
   "cell_type": "markdown",
   "id": "180684c5",
   "metadata": {},
   "source": [
    "# Test Modules"
   ]
  },
  {
   "cell_type": "code",
   "execution_count": 19,
   "id": "27f7e6dd",
   "metadata": {},
   "outputs": [
    {
     "name": "stdout",
     "output_type": "stream",
     "text": [
      "The autoreload extension is already loaded. To reload it, use:\n",
      "  %reload_ext autoreload\n"
     ]
    },
    {
     "data": {
      "text/markdown": [
       "<pre>Autoreload enabled</pre>"
      ],
      "text/plain": [
       "<IPython.core.display.Markdown object>"
      ]
     },
     "metadata": {},
     "output_type": "display_data"
    },
    {
     "data": {
      "text/markdown": [
       "<pre>Project root: /scratch/edk202/word2gm-fast\n",
       "TensorFlow version: 2.19.0\n",
       "Device mode: GPU-enabled</pre>"
      ],
      "text/plain": [
       "<IPython.core.display.Markdown object>"
      ]
     },
     "metadata": {},
     "output_type": "display_data"
    },
    {
     "data": {
      "text/markdown": [
       "<pre>Testing environment ready!</pre>"
      ],
      "text/plain": [
       "<IPython.core.display.Markdown object>"
      ]
     },
     "metadata": {},
     "output_type": "display_data"
    }
   ],
   "source": [
    "# Set project root directory and add `src` to path\n",
    "import sys\n",
    "from pathlib import Path\n",
    "\n",
    "PROJECT_ROOT = '/scratch/edk202/word2gm-fast'\n",
    "project_root = Path(PROJECT_ROOT)\n",
    "src_path = project_root / 'src'\n",
    "\n",
    "if str(src_path) not in sys.path:\n",
    "    sys.path.insert(0, str(src_path))\n",
    "\n",
    "# Import the notebook setup utilities\n",
    "from word2gm_fast.utils.notebook_setup import setup_testing_notebook, enable_autoreload, run_silent_subprocess\n",
    "\n",
    "# Enable autoreload for development\n",
    "enable_autoreload()\n",
    "\n",
    "# Set up environment\n",
    "env = setup_testing_notebook(project_root=PROJECT_ROOT)\n",
    "\n",
    "# Extract commonly used modules for convenience\n",
    "tf = env['tensorflow']\n",
    "np = env['numpy']\n",
    "pd = env['pandas']\n",
    "print_resource_summary = env['print_resource_summary']"
   ]
  },
  {
   "cell_type": "code",
   "execution_count": 20,
   "id": "51550892",
   "metadata": {},
   "outputs": [
    {
     "data": {
      "text/markdown": [
       "<pre>SYSTEM RESOURCE SUMMARY\n",
       "============================================================\n",
       "Hostname: cm045.hpc.nyu.edu\n",
       "\n",
       "Job Allocation:\n",
       "   CPUs: 28\n",
       "   Memory: 250.0 GB\n",
       "   Requested partitions: short,cm,cpu_a100_2\n",
       "   Actually running on: SSH failed: Host key verification failed.\n",
       "   Job ID: 62891081\n",
       "   Node list: cm045\n",
       "\n",
       "GPU Information:\n",
       "   Error: NVML Shared Library Not Found\n",
       "\n",
       "TensorFlow GPU Detection:\n",
       "   TensorFlow detects N/A GPU(s)\n",
       "   Built with CUDA: True\n",
       "============================================================</pre>"
      ],
      "text/plain": [
       "<IPython.core.display.Markdown object>"
      ]
     },
     "metadata": {},
     "output_type": "display_data"
    }
   ],
   "source": [
    "print_resource_summary()"
   ]
  },
  {
   "cell_type": "code",
   "execution_count": 25,
   "id": "a48ee228",
   "metadata": {},
   "outputs": [
    {
     "name": "stdout",
     "output_type": "stream",
     "text": [
      "\u001b[32m.\u001b[0m\u001b[32m.\u001b[0m\u001b[32m.\u001b[0m\u001b[32m.\u001b[0m\u001b[32m.\u001b[0m\u001b[32m.\u001b[0m\u001b[32m.\u001b[0m\u001b[32m.\u001b[0m\u001b[32m.\u001b[0m\u001b[32m.\u001b[0m\u001b[32m.\u001b[0m\u001b[32m.\u001b[0m\u001b[32m.\u001b[0m\u001b[32m.\u001b[0m\u001b[32m.\u001b[0m\u001b[32m.\u001b[0m\u001b[33ms\u001b[0m\u001b[32m.\u001b[0m\u001b[32m.\u001b[0m\u001b[32m.\u001b[0m\u001b[32m.\u001b[0m\u001b[32m.\u001b[0m\u001b[32m.\u001b[0m\u001b[32m.\u001b[0m\u001b[32m.\u001b[0m\u001b[32m.\u001b[0m\u001b[32m.\u001b[0m\u001b[32m.\u001b[0m\u001b[32m.\u001b[0m\u001b[32m                                            [100%]\u001b[0m\n",
      "\u001b[32m\u001b[32m\u001b[1m28 passed\u001b[0m, \u001b[33m1 skipped\u001b[0m\u001b[32m in 4.35s\u001b[0m\u001b[0m\n",
      "\n"
     ]
    },
    {
     "data": {
      "text/markdown": [
       "[PASSED] No [TEST ...] summary lines found for tests/test_corpus_to_dataset.py. Raw output:"
      ],
      "text/plain": [
       "<IPython.core.display.Markdown object>"
      ]
     },
     "metadata": {},
     "output_type": "display_data"
    },
    {
     "data": {
      "text/markdown": [
       "<pre>\n",
       "Summary:\n",
       "  retained: 15\n",
       "  rejected: 17\n",
       "  total: 32\n",
       "\u001b[32m.\u001b[0m\n",
       "\u001b[32m\u001b[32m\u001b[1m1 passed\u001b[0m\u001b[32m in 2.82s\u001b[0m\u001b[0m\n",
       "</pre>"
      ],
      "text/plain": [
       "<IPython.core.display.Markdown object>"
      ]
     },
     "metadata": {},
     "output_type": "display_data"
    },
    {
     "data": {
      "text/markdown": [
       "<pre>WARNING: All log messages before absl::InitializeLog() is called are written to STDERR\n",
       "E0000 00:00:1751042848.049847 1878996 cuda_dnn.cc:8579] Unable to register cuDNN factory: Attempting to register factory for plugin cuDNN when one has already been registered\n",
       "E0000 00:00:1751042848.054785 1878996 cuda_blas.cc:1407] Unable to register cuBLAS factory: Attempting to register factory for plugin cuBLAS when one has already been registered\n",
       "W0000 00:00:1751042848.068496 1878996 computation_placer.cc:177] computation placer already registered. Please check linkage and avoid linking the same target more than once.\n",
       "W0000 00:00:1751042848.068513 1878996 computation_placer.cc:177] computation placer already registered. Please check linkage and avoid linking the same target more than once.\n",
       "W0000 00:00:1751042848.068514 1878996 computation_placer.cc:177] computation placer already registered. Please check linkage and avoid linking the same target more than once.\n",
       "W0000 00:00:1751042848.068516 1878996 computation_placer.cc:177] computation placer already registered. Please check linkage and avoid linking the same target more than once.\n",
       "</pre>"
      ],
      "text/plain": [
       "<IPython.core.display.Markdown object>"
      ]
     },
     "metadata": {},
     "output_type": "display_data"
    },
    {
     "data": {
      "text/markdown": [
       "[PASSED] No [TEST ...] summary lines found for tests/test_dataset_to_triplets.py. Raw output:"
      ],
      "text/plain": [
       "<IPython.core.display.Markdown object>"
      ]
     },
     "metadata": {},
     "output_type": "display_data"
    },
    {
     "data": {
      "text/markdown": [
       "<pre>\u001b[32m.\u001b[0m\u001b[32m.\u001b[0m\u001b[32m.\u001b[0m\u001b[32m.\u001b[0m\u001b[32m.\u001b[0m\u001b[32m.\u001b[0m\n",
       "\u001b[32m\u001b[32m\u001b[1m6 passed\u001b[0m\u001b[32m in 3.36s\u001b[0m\u001b[0m\n",
       "</pre>"
      ],
      "text/plain": [
       "<IPython.core.display.Markdown object>"
      ]
     },
     "metadata": {},
     "output_type": "display_data"
    },
    {
     "data": {
      "text/markdown": [
       "<pre>WARNING: All log messages before absl::InitializeLog() is called are written to STDERR\n",
       "E0000 00:00:1751042851.971454 1879191 cuda_dnn.cc:8579] Unable to register cuDNN factory: Attempting to register factory for plugin cuDNN when one has already been registered\n",
       "E0000 00:00:1751042851.976484 1879191 cuda_blas.cc:1407] Unable to register cuBLAS factory: Attempting to register factory for plugin cuBLAS when one has already been registered\n",
       "W0000 00:00:1751042851.990168 1879191 computation_placer.cc:177] computation placer already registered. Please check linkage and avoid linking the same target more than once.\n",
       "W0000 00:00:1751042851.990184 1879191 computation_placer.cc:177] computation placer already registered. Please check linkage and avoid linking the same target more than once.\n",
       "W0000 00:00:1751042851.990185 1879191 computation_placer.cc:177] computation placer already registered. Please check linkage and avoid linking the same target more than once.\n",
       "W0000 00:00:1751042851.990187 1879191 computation_placer.cc:177] computation placer already registered. Please check linkage and avoid linking the same target more than once.\n",
       "</pre>"
      ],
      "text/plain": [
       "<IPython.core.display.Markdown object>"
      ]
     },
     "metadata": {},
     "output_type": "display_data"
    },
    {
     "data": {
      "text/markdown": [
       "[PASSED] No [TEST ...] summary lines found for tests/test_index_vocab.py. Raw output:"
      ],
      "text/plain": [
       "<IPython.core.display.Markdown object>"
      ]
     },
     "metadata": {},
     "output_type": "display_data"
    },
    {
     "data": {
      "text/markdown": [
       "<pre>\u001b[32m.\u001b[0m\u001b[32m.\u001b[0m\n",
       "\u001b[32m\u001b[32m\u001b[1m2 passed\u001b[0m\u001b[32m in 2.69s\u001b[0m\u001b[0m\n",
       "</pre>"
      ],
      "text/plain": [
       "<IPython.core.display.Markdown object>"
      ]
     },
     "metadata": {},
     "output_type": "display_data"
    },
    {
     "data": {
      "text/markdown": [
       "<pre>WARNING: All log messages before absl::InitializeLog() is called are written to STDERR\n",
       "E0000 00:00:1751042856.449436 1879486 cuda_dnn.cc:8579] Unable to register cuDNN factory: Attempting to register factory for plugin cuDNN when one has already been registered\n",
       "E0000 00:00:1751042856.454427 1879486 cuda_blas.cc:1407] Unable to register cuBLAS factory: Attempting to register factory for plugin cuBLAS when one has already been registered\n",
       "W0000 00:00:1751042856.468185 1879486 computation_placer.cc:177] computation placer already registered. Please check linkage and avoid linking the same target more than once.\n",
       "W0000 00:00:1751042856.468201 1879486 computation_placer.cc:177] computation placer already registered. Please check linkage and avoid linking the same target more than once.\n",
       "W0000 00:00:1751042856.468203 1879486 computation_placer.cc:177] computation placer already registered. Please check linkage and avoid linking the same target more than once.\n",
       "W0000 00:00:1751042856.468204 1879486 computation_placer.cc:177] computation placer already registered. Please check linkage and avoid linking the same target more than once.\n",
       "</pre>"
      ],
      "text/plain": [
       "<IPython.core.display.Markdown object>"
      ]
     },
     "metadata": {},
     "output_type": "display_data"
    },
    {
     "data": {
      "text/markdown": [
       "[PASSED] No [TEST ...] summary lines found for tests/test_tfrecord_io.py. Raw output:"
      ],
      "text/plain": [
       "<IPython.core.display.Markdown object>"
      ]
     },
     "metadata": {},
     "output_type": "display_data"
    },
    {
     "data": {
      "text/markdown": [
       "<pre>Writing TFRecord to: /state/partition1/job-62891081/pytest-of-edk202/pytest-32/test_write_and_load_triplets_u0/triplets.tfrecord\n",
       "Write complete. Triplets written: 5\n",
       "Write time: 0.01 sec\n",
       "Loading TFRecord from: /state/partition1/job-62891081/pytest-of-edk202/pytest-32/test_write_and_load_triplets_u0/triplets.tfrecord\n",
       "TFRecord loaded and parsed\n",
       "Load time (lazy initialization): 0.045 sec\n",
       "\u001b[32m.\u001b[0mWriting TFRecord to: /state/partition1/job-62891081/pytest-of-edk202/pytest-32/test_write_and_load_triplets_c0/triplets_compressed.tfrecord.gz\n",
       "Write complete. Triplets written: 5\n",
       "Write time: 0.00 sec\n",
       "Loading TFRecord from: /state/partition1/job-62891081/pytest-of-edk202/pytest-32/test_write_and_load_triplets_c0/triplets_compressed.tfrecord.gz\n",
       "TFRecord loaded and parsed\n",
       "Load time (lazy initialization): 0.012 sec\n",
       "\u001b[32m.\u001b[0m\u001b[32m.\u001b[0mWriting vocabulary TFRecord to: /state/partition1/job-62891081/pytest-of-edk202/pytest-32/test_write_and_load_vocab_unco0/vocab.tfrecord\n",
       "Vocabulary write complete. Words written: 6\n",
       "Write time: 0.00 sec\n",
       "Loading vocabulary TFRecord from: /state/partition1/job-62891081/pytest-of-edk202/pytest-32/test_write_and_load_vocab_unco0/vocab.tfrecord\n",
       "Vocabulary loaded (optimized batched). Size: 6 words\n",
       "Load time: 0.05 sec\n",
       "\u001b[32m.\u001b[0mWriting vocabulary TFRecord to: /state/partition1/job-62891081/pytest-of-edk202/pytest-32/test_write_and_load_vocab_comp0/vocab_compressed.tfrecord.gz\n",
       "Vocabulary write complete. Words written: 6\n",
       "Write time: 0.00 sec\n",
       "Loading vocabulary TFRecord from: /state/partition1/job-62891081/pytest-of-edk202/pytest-32/test_write_and_load_vocab_comp0/vocab_compressed.tfrecord.gz\n",
       "Vocabulary loaded (optimized batched). Size: 6 words\n",
       "Load time: 0.03 sec\n",
       "\u001b[32m.\u001b[0m\u001b[32m.\u001b[0mSaving pipeline artifacts to: /state/partition1/job-62891081/pytest-of-edk202/pytest-32/test_save_and_load_pipeline_ar0/artifacts\n",
       "Writing vocabulary TFRecord to: /state/partition1/job-62891081/pytest-of-edk202/pytest-32/test_save_and_load_pipeline_ar0/artifacts/vocab.tfrecord.gz\n",
       "Vocabulary write complete. Words written: 6\n",
       "Write time: 0.00 sec\n",
       "Writing TFRecord to: /state/partition1/job-62891081/pytest-of-edk202/pytest-32/test_save_and_load_pipeline_ar0/artifacts/triplets.tfrecord.gz\n",
       "Write complete. Triplets written: 5\n",
       "Write time: 0.00 sec\n",
       "All artifacts saved successfully!\n",
       "Loading pipeline artifacts from: /state/partition1/job-62891081/pytest-of-edk202/pytest-32/test_save_and_load_pipeline_ar0/artifacts\n",
       "Loading vocabulary TFRecord from: /state/partition1/job-62891081/pytest-of-edk202/pytest-32/test_save_and_load_pipeline_ar0/artifacts/vocab.tfrecord.gz\n",
       "Vocabulary loaded (optimized batched). Size: 6 words\n",
       "Load time: 0.03 sec\n",
       "Loading TFRecord from: /state/partition1/job-62891081/pytest-of-edk202/pytest-32/test_save_and_load_pipeline_ar0/artifacts/triplets.tfrecord.gz\n",
       "TFRecord loaded and parsed\n",
       "Load time (lazy initialization): 0.011 sec\n",
       "All artifacts loaded successfully!\n",
       "\u001b[32m.\u001b[0m\n",
       "\u001b[32m\u001b[32m\u001b[1m7 passed\u001b[0m\u001b[32m in 2.87s\u001b[0m\u001b[0m\n",
       "</pre>"
      ],
      "text/plain": [
       "<IPython.core.display.Markdown object>"
      ]
     },
     "metadata": {},
     "output_type": "display_data"
    },
    {
     "data": {
      "text/markdown": [
       "<pre>WARNING: All log messages before absl::InitializeLog() is called are written to STDERR\n",
       "E0000 00:00:1751042860.223589 1879611 cuda_dnn.cc:8579] Unable to register cuDNN factory: Attempting to register factory for plugin cuDNN when one has already been registered\n",
       "E0000 00:00:1751042860.228545 1879611 cuda_blas.cc:1407] Unable to register cuBLAS factory: Attempting to register factory for plugin cuBLAS when one has already been registered\n",
       "W0000 00:00:1751042860.242163 1879611 computation_placer.cc:177] computation placer already registered. Please check linkage and avoid linking the same target more than once.\n",
       "W0000 00:00:1751042860.242179 1879611 computation_placer.cc:177] computation placer already registered. Please check linkage and avoid linking the same target more than once.\n",
       "W0000 00:00:1751042860.242180 1879611 computation_placer.cc:177] computation placer already registered. Please check linkage and avoid linking the same target more than once.\n",
       "W0000 00:00:1751042860.242182 1879611 computation_placer.cc:177] computation placer already registered. Please check linkage and avoid linking the same target more than once.\n",
       "</pre>"
      ],
      "text/plain": [
       "<IPython.core.display.Markdown object>"
      ]
     },
     "metadata": {},
     "output_type": "display_data"
    },
    {
     "data": {
      "text/markdown": [
       "[PASSED] No [TEST ...] summary lines found for tests/test_word2gm_model.py. Raw output:"
      ],
      "text/plain": [
       "<IPython.core.display.Markdown object>"
      ]
     },
     "metadata": {},
     "output_type": "display_data"
    },
    {
     "data": {
      "text/markdown": [
       "<pre>\u001b[33ms\u001b[0m\u001b[32m.\u001b[0m\u001b[32m.\u001b[0m\u001b[32m.\u001b[0m\u001b[32m.\u001b[0m\u001b[32m.\u001b[0m\u001b[32m.\u001b[0m\u001b[32m.\u001b[0m\u001b[32m.\u001b[0m\u001b[32m.\u001b[0m\u001b[32m.\u001b[0m\u001b[32m.\u001b[0m\u001b[32m.\u001b[0m\n",
       "\u001b[32m\u001b[32m\u001b[1m12 passed\u001b[0m, \u001b[33m1 skipped\u001b[0m\u001b[32m in 2.78s\u001b[0m\u001b[0m\n",
       "</pre>"
      ],
      "text/plain": [
       "<IPython.core.display.Markdown object>"
      ]
     },
     "metadata": {},
     "output_type": "display_data"
    },
    {
     "data": {
      "text/markdown": [
       "<pre>WARNING: All log messages before absl::InitializeLog() is called are written to STDERR\n",
       "E0000 00:00:1751042864.237896 1880116 cuda_dnn.cc:8579] Unable to register cuDNN factory: Attempting to register factory for plugin cuDNN when one has already been registered\n",
       "E0000 00:00:1751042864.243282 1880116 cuda_blas.cc:1407] Unable to register cuBLAS factory: Attempting to register factory for plugin cuBLAS when one has already been registered\n",
       "W0000 00:00:1751042864.257796 1880116 computation_placer.cc:177] computation placer already registered. Please check linkage and avoid linking the same target more than once.\n",
       "W0000 00:00:1751042864.257813 1880116 computation_placer.cc:177] computation placer already registered. Please check linkage and avoid linking the same target more than once.\n",
       "W0000 00:00:1751042864.257815 1880116 computation_placer.cc:177] computation placer already registered. Please check linkage and avoid linking the same target more than once.\n",
       "W0000 00:00:1751042864.257816 1880116 computation_placer.cc:177] computation placer already registered. Please check linkage and avoid linking the same target more than once.\n",
       "</pre>"
      ],
      "text/plain": [
       "<IPython.core.display.Markdown object>"
      ]
     },
     "metadata": {},
     "output_type": "display_data"
    }
   ],
   "source": [
    "import datetime\n",
    "from IPython.display import display, Markdown\n",
    "from collections import OrderedDict\n",
    "import subprocess\n",
    "\n",
    "modules_to_test = [\n",
    "    ('tests/test_corpus_to_dataset.py', 'Corpus processing'),\n",
    "    ('tests/test_dataset_to_triplets.py', 'Triplet generation'),\n",
    "    ('tests/test_index_vocab.py', 'Vocabulary indexing'), \n",
    "    ('tests/test_tfrecord_io.py', 'TFRecord I/O'),\n",
    "    ('tests/test_word2gm_model.py', 'Word2GM model')\n",
    "]\n",
    "\n",
    "# Group tests by group label, preserving order\n",
    "grouped = OrderedDict()\n",
    "for test_file, group in modules_to_test:\n",
    "    grouped.setdefault(group, []).append(test_file)\n",
    "\n",
    "failures = []\n",
    "\n",
    "result = subprocess.run([\n",
    "    'pytest',\n",
    "    'tests/',\n",
    "    '--maxfail=0',\n",
    "    '--disable-warnings',\n",
    "    '-q',\n",
    "    '--tb=short'\n",
    "], capture_output=True, text=True)\n",
    "\n",
    "print(result.stdout)\n",
    "if result.stderr:\n",
    "    print(result.stderr)\n",
    "\n",
    "for idx, (group, test_files) in enumerate(grouped.items()):\n",
    "    group_summaries = []\n",
    "    for test_file in test_files:\n",
    "        cmd_result = run_silent_subprocess(\n",
    "            ['pytest', test_file, '--maxfail=0', '--disable-warnings', '-q', '-s'],\n",
    "            capture_output=True, text=True\n",
    "        )\n",
    "        status = \"PASSED\" if cmd_result.returncode == 0 else \"FAILED\"\n",
    "        summary_lines = []\n",
    "        if cmd_result.stdout:\n",
    "            for line in cmd_result.stdout.splitlines():\n",
    "                line = line.strip()\n",
    "                if line.startswith(\"[TEST\"):\n",
    "                    summary_lines.append(f\"{status} {line}\")\n",
    "        if summary_lines:\n",
    "            group_summaries.extend(summary_lines)\n",
    "        else:\n",
    "            display(Markdown(f\"[{status}] No [TEST ...] summary lines found for {test_file}. Raw output:\"))\n",
    "            if cmd_result.stdout:\n",
    "                display(Markdown(f\"<pre>{cmd_result.stdout}</pre>\"))\n",
    "            if cmd_result.stderr:\n",
    "                display(Markdown(f\"<pre>{cmd_result.stderr}</pre>\"))\n",
    "        if cmd_result.returncode != 0:\n",
    "            failures.append((group, cmd_result))\n",
    "    if group_summaries:\n",
    "        display(Markdown(f\"<pre>{chr(10).join(group_summaries)}</pre>\"))\n",
    "\n",
    "if failures:\n",
    "    print(\"\\nDetailed output for failed tests:\")\n",
    "    for group, cmd_result in failures:\n",
    "        print(f\"\\n--- {group} ---\")\n",
    "        if cmd_result.stdout:\n",
    "            print(\"stdout:\\n\" + cmd_result.stdout)\n",
    "        if cmd_result.stderr:\n",
    "            print(\"stderr:\\n\" + cmd_result.stderr)"
   ]
  },
  {
   "cell_type": "code",
   "execution_count": null,
   "id": "c4ccee0d",
   "metadata": {},
   "outputs": [],
   "source": []
  }
 ],
 "metadata": {
  "kernelspec": {
   "display_name": "Remote kernel: word2gm-fast2",
   "language": "python",
   "name": "word2gm-fast2"
  },
  "language_info": {
   "codemirror_mode": {
    "name": "ipython",
    "version": 3
   },
   "file_extension": ".py",
   "mimetype": "text/x-python",
   "name": "python",
   "nbconvert_exporter": "python",
   "pygments_lexer": "ipython3",
   "version": "3.12.11"
  }
 },
 "nbformat": 4,
 "nbformat_minor": 5
}
