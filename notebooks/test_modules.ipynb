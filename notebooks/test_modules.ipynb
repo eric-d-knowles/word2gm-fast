{
 "cells": [
  {
   "cell_type": "markdown",
   "id": "57101568",
   "metadata": {},
   "source": []
  },
  {
   "cell_type": "markdown",
   "id": "58683a38",
   "metadata": {},
   "source": [
    "# Test Modules"
   ]
  },
  {
   "cell_type": "code",
   "execution_count": 26,
   "id": "27f7e6dd",
   "metadata": {},
   "outputs": [
    {
     "name": "stdout",
     "output_type": "stream",
     "text": [
      "The autoreload extension is already loaded. To reload it, use:\n",
      "  %reload_ext autoreload\n"
     ]
    }
   ],
   "source": [
    "# Enable autoreload for development\n",
    "%load_ext autoreload\n",
    "%autoreload 2"
   ]
  },
  {
   "cell_type": "code",
   "execution_count": 27,
   "id": "b772c27e",
   "metadata": {},
   "outputs": [],
   "source": [
    "# Set project root and add src to path\n",
    "import sys\n",
    "from pathlib import Path\n",
    "import os\n",
    "\n",
    "PROJECT_ROOT = '/scratch/edk202/word2gm-fast'\n",
    "project_root = Path(PROJECT_ROOT)\n",
    "src_path = project_root / 'src'\n",
    "\n",
    "if str(src_path) not in sys.path:\n",
    "    sys.path.insert(0, str(src_path))"
   ]
  },
  {
   "cell_type": "code",
   "execution_count": 28,
   "id": "1acfab70",
   "metadata": {},
   "outputs": [
    {
     "data": {
      "text/markdown": [
       "<pre>SYSTEM RESOURCE SUMMARY\n",
       "=============================================\n",
       "Hostname: cm045.hpc.nyu.edu\n",
       "\n",
       "Job Allocation:\n",
       "   CPUs: 14\n",
       "   Memory: 125.0 GB\n",
       "   Partition: short\n",
       "   Job ID: 63785051\n",
       "   Node list: cm045\n",
       "\n",
       "Physical GPU Hardware:\n",
       "   No physical GPUs allocated to this job\n",
       "\n",
       "TensorFlow GPU Recognition:\n",
       "   TensorFlow can access 0 GPU(s)\n",
       "   Built with CUDA support: True\n",
       "=============================================</pre>"
      ],
      "text/plain": [
       "<IPython.core.display.Markdown object>"
      ]
     },
     "metadata": {},
     "output_type": "display_data"
    }
   ],
   "source": [
    "# Print resource summary\n",
    "from word2gm_fast.utils.resource_summary import print_resource_summary\n",
    "\n",
    "print_resource_summary()"
   ]
  },
  {
   "cell_type": "markdown",
   "id": "e46dcbdf",
   "metadata": {},
   "source": [
    "## Test `corpus_to_dataset.py`"
   ]
  },
  {
   "cell_type": "code",
   "execution_count": 29,
   "id": "a48ee228",
   "metadata": {},
   "outputs": [
    {
     "name": "stdout",
     "output_type": "stream",
     "text": [
      "\u001b[1m============================= test session starts ==============================\u001b[0m\n",
      "platform linux -- Python 3.12.11, pytest-8.4.1, pluggy-1.6.0 -- /ext3/miniforge3/envs/word2gm-fast2/bin/python\n",
      "cachedir: .pytest_cache\n",
      "rootdir: /scratch/edk202/word2gm-fast\n",
      "plugins: anyio-4.9.0, timeout-2.4.0\n",
      "\u001b[1mcollecting ... \u001b[0mcollected 12 items\n",
      "\n",
      "tests/test_corpus_to_dataset.py::TestValidate5gramLine::test_valid_cases \u001b[32mPASSED\u001b[0m\u001b[32m [  8%]\u001b[0m\n",
      "tests/test_corpus_to_dataset.py::TestValidate5gramLine::test_invalid_cases \u001b[32mPASSED\u001b[0m\u001b[32m [ 16%]\u001b[0m\n",
      "tests/test_corpus_to_dataset.py::TestValidate5gramLine::test_validation_rules \u001b[32mPASSED\u001b[0m\u001b[32m [ 25%]\u001b[0m\n",
      "tests/test_corpus_to_dataset.py::TestMakeDataset::test_filtering_accuracy \u001b[32mPASSED\u001b[0m\u001b[32m [ 33%]\u001b[0m\n",
      "tests/test_corpus_to_dataset.py::TestMakeDataset::test_summary_statistics \u001b[32mPASSED\u001b[0m\u001b[32m [ 41%]\u001b[0m\n",
      "tests/test_corpus_to_dataset.py::TestMakeDataset::test_caching_functionality \u001b[32mPASSED\u001b[0m\u001b[32m [ 50%]\u001b[0m\n",
      "tests/test_corpus_to_dataset.py::TestMakeDataset::test_preview_integration \u001b[32mPASSED\u001b[0m\u001b[32m [ 58%]\u001b[0m\n",
      "tests/test_corpus_to_dataset.py::TestMakeDataset::test_optional_summary \u001b[32mPASSED\u001b[0m\u001b[32m [ 66%]\u001b[0m\n",
      "tests/test_corpus_to_dataset.py::TestEdgeCases::test_empty_file \u001b[32mPASSED\u001b[0m\u001b[32m   [ 75%]\u001b[0m\n",
      "tests/test_corpus_to_dataset.py::TestEdgeCases::test_all_invalid_lines \u001b[32mPASSED\u001b[0m\u001b[32m [ 83%]\u001b[0m\n",
      "tests/test_corpus_to_dataset.py::TestEdgeCases::test_whitespace_handling \u001b[32mPASSED\u001b[0m\u001b[32m [ 91%]\u001b[0m\n",
      "tests/test_corpus_to_dataset.py::TestSummaryFunction::test_summary_calculation \u001b[32mPASSED\u001b[0m\u001b[32m [100%]\u001b[0m\n",
      "\n",
      "\u001b[32m============================== \u001b[32m\u001b[1m12 passed\u001b[0m\u001b[32m in 3.78s\u001b[0m\u001b[32m ==============================\u001b[0m\n",
      "\n"
     ]
    }
   ],
   "source": [
    "import subprocess\n",
    "\n",
    "# Run the corpus_to_dataset test\n",
    "result = subprocess.run([\n",
    "    'python', '-m', 'pytest', \n",
    "    'tests/test_corpus_to_dataset.py',\n",
    "    '-v'\n",
    "], capture_output=True, text=True, cwd=PROJECT_ROOT)\n",
    "\n",
    "print(result.stdout)\n",
    "if result.stderr:\n",
    "    print(result.stderr)"
   ]
  },
  {
   "cell_type": "markdown",
   "id": "75795115",
   "metadata": {},
   "source": [
    "## Test `dataset_to_frequency.py`"
   ]
  },
  {
   "cell_type": "code",
   "execution_count": 30,
   "id": "3c60b83e",
   "metadata": {},
   "outputs": [
    {
     "name": "stdout",
     "output_type": "stream",
     "text": [
      "\u001b[1m============================= test session starts ==============================\u001b[0m\n",
      "platform linux -- Python 3.12.11, pytest-8.4.1, pluggy-1.6.0 -- /ext3/miniforge3/envs/word2gm-fast2/bin/python\n",
      "cachedir: .pytest_cache\n",
      "rootdir: /scratch/edk202/word2gm-fast\n",
      "plugins: anyio-4.9.0, timeout-2.4.0\n",
      "\u001b[1mcollecting ... \u001b[0mcollected 11 items\n",
      "\n",
      "tests/test_dataset_to_frequency.py::TestDatasetToFrequency::test_basic_frequency_counting \u001b[32mPASSED\u001b[0m\u001b[32m [  9%]\u001b[0m\n",
      "tests/test_dataset_to_frequency.py::TestDatasetToFrequency::test_frequency_counts \u001b[32mPASSED\u001b[0m\u001b[32m [ 18%]\u001b[0m\n",
      "tests/test_dataset_to_frequency.py::TestDatasetToFrequency::test_sorted_by_frequency \u001b[32mPASSED\u001b[0m\u001b[32m [ 27%]\u001b[0m\n",
      "tests/test_dataset_to_frequency.py::TestDatasetToFrequency::test_empty_dataset \u001b[32mPASSED\u001b[0m\u001b[32m [ 36%]\u001b[0m\n",
      "tests/test_dataset_to_frequency.py::TestDatasetToFrequency::test_single_line_dataset \u001b[32mPASSED\u001b[0m\u001b[32m [ 45%]\u001b[0m\n",
      "tests/test_dataset_to_frequency.py::TestDatasetToFrequency::test_repeated_tokens_same_line \u001b[32mPASSED\u001b[0m\u001b[32m [ 54%]\u001b[0m\n",
      "tests/test_dataset_to_frequency.py::TestDatasetToFrequency::test_whitespace_handling \u001b[32mPASSED\u001b[0m\u001b[32m [ 63%]\u001b[0m\n",
      "tests/test_dataset_to_frequency.py::TestDatasetToFrequency::test_unk_tokens \u001b[32mPASSED\u001b[0m\u001b[32m [ 72%]\u001b[0m\n",
      "tests/test_dataset_to_frequency.py::TestEdgeCases::test_special_characters \u001b[32mPASSED\u001b[0m\u001b[32m [ 81%]\u001b[0m\n",
      "tests/test_dataset_to_frequency.py::TestEdgeCases::test_unicode_tokens \u001b[32mPASSED\u001b[0m\u001b[32m [ 90%]\u001b[0m\n",
      "tests/test_dataset_to_frequency.py::TestEdgeCases::test_large_frequency_values \u001b[32mPASSED\u001b[0m\u001b[32m [100%]\u001b[0m\n",
      "\n",
      "\u001b[32m============================== \u001b[32m\u001b[1m11 passed\u001b[0m\u001b[32m in 3.16s\u001b[0m\u001b[32m ==============================\u001b[0m\n",
      "\n"
     ]
    }
   ],
   "source": [
    "import subprocess\n",
    "\n",
    "# Run the corpus_to_dataset test\n",
    "result = subprocess.run([\n",
    "    'python', '-m', 'pytest', \n",
    "    'tests/test_dataset_to_frequency.py',\n",
    "    '-v'\n",
    "], capture_output=True, text=True, cwd=PROJECT_ROOT)\n",
    "\n",
    "print(result.stdout)\n",
    "if result.stderr:\n",
    "    print(result.stderr)"
   ]
  },
  {
   "cell_type": "markdown",
   "id": "127709c8",
   "metadata": {},
   "source": [
    "## Test `dataset_to_triplets.py`"
   ]
  },
  {
   "cell_type": "code",
   "execution_count": 31,
   "id": "c55aa422",
   "metadata": {},
   "outputs": [
    {
     "name": "stdout",
     "output_type": "stream",
     "text": [
      "\u001b[1m============================= test session starts ==============================\u001b[0m\n",
      "platform linux -- Python 3.12.11, pytest-8.4.1, pluggy-1.6.0 -- /ext3/miniforge3/envs/word2gm-fast2/bin/python\n",
      "cachedir: .pytest_cache\n",
      "rootdir: /scratch/edk202/word2gm-fast\n",
      "plugins: anyio-4.9.0, timeout-2.4.0\n",
      "\u001b[1mcollecting ... \u001b[0mcollected 10 items\n",
      "\n",
      "tests/test_dataset_to_triplets.py::TestDatasetToTriplets::test_basic_triplet_generation \u001b[32mPASSED\u001b[0m\u001b[32m [ 10%]\u001b[0m\n",
      "tests/test_dataset_to_triplets.py::TestDatasetToTriplets::test_triplet_structure \u001b[32mPASSED\u001b[0m\u001b[32m [ 20%]\u001b[0m\n",
      "tests/test_dataset_to_triplets.py::TestDatasetToTriplets::test_unk_exclusion \u001b[32mPASSED\u001b[0m\u001b[32m [ 30%]\u001b[0m\n",
      "tests/test_dataset_to_triplets.py::TestDatasetToTriplets::test_empty_dataset \u001b[32mPASSED\u001b[0m\u001b[32m [ 40%]\u001b[0m\n",
      "tests/test_dataset_to_triplets.py::TestDatasetToTriplets::test_caching_functionality \u001b[32mPASSED\u001b[0m\u001b[32m [ 50%]\u001b[0m\n",
      "tests/test_dataset_to_triplets.py::TestDatasetToTriplets::test_summary_statistics \u001b[32mPASSED\u001b[0m\u001b[32m [ 60%]\u001b[0m\n",
      "tests/test_dataset_to_triplets.py::TestEdgeCases::test_single_line_dataset \u001b[32mPASSED\u001b[0m\u001b[32m [ 70%]\u001b[0m\n",
      "tests/test_dataset_to_triplets.py::TestEdgeCases::test_all_unk_context \u001b[32mPASSED\u001b[0m\u001b[32m [ 80%]\u001b[0m\n",
      "tests/test_dataset_to_triplets.py::TestDownsampling::test_downsampling_effect \u001b[32mPASSED\u001b[0m\u001b[32m [ 90%]\u001b[0m\n",
      "tests/test_dataset_to_triplets.py::TestDownsampling::test_high_threshold_keeps_all \u001b[32mPASSED\u001b[0m\u001b[32m [100%]\u001b[0m\n",
      "\n",
      "\u001b[32m============================== \u001b[32m\u001b[1m10 passed\u001b[0m\u001b[32m in 4.70s\u001b[0m\u001b[32m ==============================\u001b[0m\n",
      "\n"
     ]
    }
   ],
   "source": [
    "import subprocess\n",
    "\n",
    "# Run the corpus_to_dataset test\n",
    "result = subprocess.run([\n",
    "    'python', '-m', 'pytest', \n",
    "    'tests/test_dataset_to_triplets.py',\n",
    "    '-v'\n",
    "], capture_output=True, text=True, cwd=PROJECT_ROOT)\n",
    "\n",
    "print(result.stdout)\n",
    "if result.stderr:\n",
    "    print(result.stderr)"
   ]
  },
  {
   "cell_type": "markdown",
   "id": "4c90a400",
   "metadata": {},
   "source": [
    "## Test `index_vocab.py`"
   ]
  },
  {
   "cell_type": "code",
   "execution_count": 32,
   "id": "c94e6d69",
   "metadata": {},
   "outputs": [
    {
     "name": "stdout",
     "output_type": "stream",
     "text": [
      "\u001b[1m============================= test session starts ==============================\u001b[0m\n",
      "platform linux -- Python 3.12.11, pytest-8.4.1, pluggy-1.6.0 -- /ext3/miniforge3/envs/word2gm-fast2/bin/python\n",
      "cachedir: .pytest_cache\n",
      "rootdir: /scratch/edk202/word2gm-fast\n",
      "plugins: anyio-4.9.0, timeout-2.4.0\n",
      "\u001b[1mcollecting ... \u001b[0mcollected 18 items\n",
      "\n",
      "tests/test_index_vocab.py::TestBuildVocabTable::test_basic_vocab_table_creation \u001b[32mPASSED\u001b[0m\u001b[32m [  5%]\u001b[0m\n",
      "tests/test_index_vocab.py::TestBuildVocabTable::test_unk_token_validation \u001b[32mPASSED\u001b[0m\u001b[32m [ 11%]\u001b[0m\n",
      "tests/test_index_vocab.py::TestBuildVocabTable::test_lookup_unknown_tokens \u001b[32mPASSED\u001b[0m\u001b[32m [ 16%]\u001b[0m\n",
      "tests/test_index_vocab.py::TestMakeVocab::test_basic_vocab_creation \u001b[32mPASSED\u001b[0m\u001b[32m [ 22%]\u001b[0m\n",
      "tests/test_index_vocab.py::TestMakeVocab::test_vocab_ordering \u001b[32mPASSED\u001b[0m\u001b[32m     [ 27%]\u001b[0m\n",
      "tests/test_index_vocab.py::TestMakeVocab::test_frequency_counting \u001b[32mPASSED\u001b[0m\u001b[32m [ 33%]\u001b[0m\n",
      "tests/test_index_vocab.py::TestMakeVocab::test_empty_dataset \u001b[32mPASSED\u001b[0m\u001b[32m      [ 38%]\u001b[0m\n",
      "tests/test_index_vocab.py::TestTripletsToIntegers::test_basic_conversion \u001b[32mPASSED\u001b[0m\u001b[32m [ 44%]\u001b[0m\n",
      "tests/test_index_vocab.py::TestTripletsToIntegers::test_vocab_table_consistency \u001b[32mPASSED\u001b[0m\u001b[32m [ 50%]\u001b[0m\n",
      "tests/test_index_vocab.py::TestTripletsToIntegers::test_frequency_preservation \u001b[32mPASSED\u001b[0m\u001b[32m [ 55%]\u001b[0m\n",
      "tests/test_index_vocab.py::TestTripletsToIntegers::test_caching_functionality \u001b[32mPASSED\u001b[0m\u001b[32m [ 61%]\u001b[0m\n",
      "tests/test_index_vocab.py::TestTripletsToIntegers::test_empty_triplets \u001b[32mPASSED\u001b[0m\u001b[32m [ 66%]\u001b[0m\n",
      "tests/test_index_vocab.py::TestTripletsToIntegers::test_token_counting_from_triplets \u001b[32mPASSED\u001b[0m\u001b[32m [ 72%]\u001b[0m\n",
      "tests/test_index_vocab.py::TestEdgeCases::test_single_token_vocab \u001b[32mPASSED\u001b[0m\u001b[32m [ 77%]\u001b[0m\n",
      "tests/test_index_vocab.py::TestEdgeCases::test_duplicate_tokens_in_line \u001b[32mPASSED\u001b[0m\u001b[32m [ 83%]\u001b[0m\n",
      "tests/test_index_vocab.py::TestEdgeCases::test_unk_token_in_input \u001b[32mPASSED\u001b[0m\u001b[32m [ 88%]\u001b[0m\n",
      "tests/test_index_vocab.py::TestDisplayFunctions::test_print_vocab_summary_structure \u001b[32mPASSED\u001b[0m\u001b[32m [ 94%]\u001b[0m\n",
      "tests/test_index_vocab.py::TestDisplayFunctions::test_display_functions_no_errors \u001b[32mPASSED\u001b[0m\u001b[32m [100%]\u001b[0m\n",
      "\n",
      "\u001b[32m============================== \u001b[32m\u001b[1m18 passed\u001b[0m\u001b[32m in 3.04s\u001b[0m\u001b[32m ==============================\u001b[0m\n",
      "\n"
     ]
    }
   ],
   "source": [
    "import subprocess\n",
    "\n",
    "# Run the index_vocab test\n",
    "result = subprocess.run([\n",
    "    'python', '-m', 'pytest', \n",
    "    'tests/test_index_vocab.py',\n",
    "    '-v'\n",
    "], capture_output=True, text=True, cwd=PROJECT_ROOT)\n",
    "\n",
    "print(result.stdout)\n",
    "if result.stderr:\n",
    "    print(result.stderr)"
   ]
  },
  {
   "cell_type": "markdown",
   "id": "b974ebf9",
   "metadata": {},
   "source": [
    "## Test `io.triplets.py`"
   ]
  },
  {
   "cell_type": "code",
   "execution_count": 33,
   "id": "f432fc8d",
   "metadata": {},
   "outputs": [
    {
     "name": "stdout",
     "output_type": "stream",
     "text": [
      "\u001b[1m============================= test session starts ==============================\u001b[0m\n",
      "platform linux -- Python 3.12.11, pytest-8.4.1, pluggy-1.6.0 -- /ext3/miniforge3/envs/word2gm-fast2/bin/python\n",
      "cachedir: .pytest_cache\n",
      "rootdir: /scratch/edk202/word2gm-fast\n",
      "plugins: anyio-4.9.0, timeout-2.4.0\n",
      "\u001b[1mcollecting ... \u001b[0mcollected 13 items\n",
      "\n",
      "tests/test_io_triplets.py::TestWriteTripletsToTFRecord::test_basic_write_uncompressed \u001b[32mPASSED\u001b[0m\u001b[32m [  7%]\u001b[0m\n",
      "tests/test_io_triplets.py::TestWriteTripletsToTFRecord::test_basic_write_compressed \u001b[32mPASSED\u001b[0m\u001b[32m [ 15%]\u001b[0m\n",
      "tests/test_io_triplets.py::TestWriteTripletsToTFRecord::test_empty_dataset \u001b[32mPASSED\u001b[0m\u001b[32m [ 23%]\u001b[0m\n",
      "tests/test_io_triplets.py::TestWriteTripletsToTFRecord::test_large_integers \u001b[32mPASSED\u001b[0m\u001b[32m [ 30%]\u001b[0m\n",
      "tests/test_io_triplets.py::TestLoadTripletsFromTFRecord::test_basic_load_uncompressed \u001b[32mPASSED\u001b[0m\u001b[32m [ 38%]\u001b[0m\n",
      "tests/test_io_triplets.py::TestLoadTripletsFromTFRecord::test_basic_load_compressed \u001b[32mPASSED\u001b[0m\u001b[32m [ 46%]\u001b[0m\n",
      "tests/test_io_triplets.py::TestLoadTripletsFromTFRecord::test_load_empty_file \u001b[32mPASSED\u001b[0m\u001b[32m [ 53%]\u001b[0m\n",
      "tests/test_io_triplets.py::TestLoadTripletsFromTFRecord::test_load_nonexistent_file \u001b[32mPASSED\u001b[0m\u001b[32m [ 61%]\u001b[0m\n",
      "tests/test_io_triplets.py::TestRoundTripConsistency::test_roundtrip_uncompressed \u001b[32mPASSED\u001b[0m\u001b[32m [ 69%]\u001b[0m\n",
      "tests/test_io_triplets.py::TestRoundTripConsistency::test_roundtrip_compressed \u001b[32mPASSED\u001b[0m\u001b[32m [ 76%]\u001b[0m\n",
      "tests/test_io_triplets.py::TestRoundTripConsistency::test_data_types_preserved \u001b[32mPASSED\u001b[0m\u001b[32m [ 84%]\u001b[0m\n",
      "tests/test_io_triplets.py::TestEdgeCases::test_single_triplet \u001b[32mPASSED\u001b[0m\u001b[32m     [ 92%]\u001b[0m\n",
      "tests/test_io_triplets.py::TestEdgeCases::test_directory_creation \u001b[32mPASSED\u001b[0m\u001b[32m [100%]\u001b[0m\n",
      "\n",
      "\u001b[32m============================== \u001b[32m\u001b[1m13 passed\u001b[0m\u001b[32m in 2.89s\u001b[0m\u001b[32m ==============================\u001b[0m\n",
      "\n"
     ]
    }
   ],
   "source": [
    "import subprocess\n",
    "\n",
    "# Run the index_vocab test\n",
    "result = subprocess.run([\n",
    "    'python', '-m', 'pytest', \n",
    "    'tests/test_io_triplets.py',\n",
    "    '-v'\n",
    "], capture_output=True, text=True, cwd=PROJECT_ROOT)\n",
    "\n",
    "print(result.stdout)\n",
    "if result.stderr:\n",
    "    print(result.stderr)"
   ]
  },
  {
   "cell_type": "markdown",
   "id": "997cf4c1",
   "metadata": {},
   "source": [
    "## Test `io.vocab.py`"
   ]
  },
  {
   "cell_type": "code",
   "execution_count": 34,
   "id": "248d803d",
   "metadata": {},
   "outputs": [
    {
     "name": "stdout",
     "output_type": "stream",
     "text": [
      "\u001b[1m============================= test session starts ==============================\u001b[0m\n",
      "platform linux -- Python 3.12.11, pytest-8.4.1, pluggy-1.6.0 -- /ext3/miniforge3/envs/word2gm-fast2/bin/python\n",
      "cachedir: .pytest_cache\n",
      "rootdir: /scratch/edk202/word2gm-fast\n",
      "plugins: anyio-4.9.0, timeout-2.4.0\n",
      "\u001b[1mcollecting ... \u001b[0mcollected 16 items\n",
      "\n",
      "tests/test_io_vocab.py::TestWriteVocabToTFRecord::test_basic_write_uncompressed \u001b[32mPASSED\u001b[0m\u001b[32m [  6%]\u001b[0m\n",
      "tests/test_io_vocab.py::TestWriteVocabToTFRecord::test_basic_write_compressed \u001b[32mPASSED\u001b[0m\u001b[32m [ 12%]\u001b[0m\n",
      "tests/test_io_vocab.py::TestWriteVocabToTFRecord::test_write_without_frequencies \u001b[32mPASSED\u001b[0m\u001b[32m [ 18%]\u001b[0m\n",
      "tests/test_io_vocab.py::TestWriteVocabToTFRecord::test_empty_vocab \u001b[32mPASSED\u001b[0m\u001b[32m [ 25%]\u001b[0m\n",
      "tests/test_io_vocab.py::TestLoadVocabFromTFRecord::test_basic_load_uncompressed \u001b[32mPASSED\u001b[0m\u001b[32m [ 31%]\u001b[0m\n",
      "tests/test_io_vocab.py::TestLoadVocabFromTFRecord::test_basic_load_compressed \u001b[32mPASSED\u001b[0m\u001b[32m [ 37%]\u001b[0m\n",
      "tests/test_io_vocab.py::TestLoadVocabFromTFRecord::test_load_without_frequencies \u001b[32mPASSED\u001b[0m\u001b[32m [ 43%]\u001b[0m\n",
      "tests/test_io_vocab.py::TestLoadVocabFromTFRecord::test_load_nonexistent_file \u001b[32mPASSED\u001b[0m\u001b[32m [ 50%]\u001b[0m\n",
      "tests/test_io_vocab.py::TestRoundTripConsistency::test_roundtrip_with_frequencies \u001b[32mPASSED\u001b[0m\u001b[32m [ 56%]\u001b[0m\n",
      "tests/test_io_vocab.py::TestRoundTripConsistency::test_roundtrip_compressed \u001b[32mPASSED\u001b[0m\u001b[32m [ 62%]\u001b[0m\n",
      "tests/test_io_vocab.py::TestRoundTripConsistency::test_vocab_ordering_preserved \u001b[32mPASSED\u001b[0m\u001b[32m [ 68%]\u001b[0m\n",
      "tests/test_io_vocab.py::TestLargeVocabulary::test_large_vocab \u001b[32mPASSED\u001b[0m\u001b[32m     [ 75%]\u001b[0m\n",
      "tests/test_io_vocab.py::TestSpecialCharacters::test_special_characters \u001b[32mPASSED\u001b[0m\u001b[32m [ 81%]\u001b[0m\n",
      "tests/test_io_vocab.py::TestEdgeCases::test_minimal_vocab \u001b[32mPASSED\u001b[0m\u001b[32m         [ 87%]\u001b[0m\n",
      "tests/test_io_vocab.py::TestEdgeCases::test_zero_frequencies \u001b[32mPASSED\u001b[0m\u001b[32m      [ 93%]\u001b[0m\n",
      "tests/test_io_vocab.py::TestEdgeCases::test_directory_creation \u001b[32mPASSED\u001b[0m\u001b[32m    [100%]\u001b[0m\n",
      "\n",
      "\u001b[32m============================== \u001b[32m\u001b[1m16 passed\u001b[0m\u001b[32m in 3.04s\u001b[0m\u001b[32m ==============================\u001b[0m\n",
      "\n"
     ]
    }
   ],
   "source": [
    "import subprocess\n",
    "\n",
    "# Run the io.vocab test\n",
    "result = subprocess.run([\n",
    "    'python', '-m', 'pytest', \n",
    "    'tests/test_io_vocab.py',\n",
    "    '-v'\n",
    "], capture_output=True, text=True, cwd=PROJECT_ROOT)\n",
    "\n",
    "print(result.stdout)\n",
    "if result.stderr:\n",
    "    print(result.stderr)"
   ]
  },
  {
   "cell_type": "markdown",
   "id": "39b38549",
   "metadata": {},
   "source": [
    "## Test `io.artifacts.py`"
   ]
  },
  {
   "cell_type": "code",
   "execution_count": 35,
   "id": "92808bdf",
   "metadata": {},
   "outputs": [
    {
     "name": "stdout",
     "output_type": "stream",
     "text": [
      "\u001b[1m============================= test session starts ==============================\u001b[0m\n",
      "platform linux -- Python 3.12.11, pytest-8.4.1, pluggy-1.6.0 -- /ext3/miniforge3/envs/word2gm-fast2/bin/python\n",
      "cachedir: .pytest_cache\n",
      "rootdir: /scratch/edk202/word2gm-fast\n",
      "plugins: anyio-4.9.0, timeout-2.4.0\n",
      "\u001b[1mcollecting ... \u001b[0mcollected 13 items\n",
      "\n",
      "tests/test_io_artifacts.py::TestSavePipelineArtifacts::test_basic_save_uncompressed \u001b[32mPASSED\u001b[0m\u001b[32m [  7%]\u001b[0m\n",
      "tests/test_io_artifacts.py::TestSavePipelineArtifacts::test_basic_save_compressed \u001b[32mPASSED\u001b[0m\u001b[32m [ 15%]\u001b[0m\n",
      "tests/test_io_artifacts.py::TestSavePipelineArtifacts::test_directory_creation \u001b[32mPASSED\u001b[0m\u001b[32m [ 23%]\u001b[0m\n",
      "tests/test_io_artifacts.py::TestSavePipelineArtifacts::test_empty_triplets \u001b[32mPASSED\u001b[0m\u001b[32m [ 30%]\u001b[0m\n",
      "tests/test_io_artifacts.py::TestLoadPipelineArtifacts::test_basic_load_uncompressed \u001b[32mPASSED\u001b[0m\u001b[32m [ 38%]\u001b[0m\n",
      "tests/test_io_artifacts.py::TestLoadPipelineArtifacts::test_basic_load_compressed \u001b[32mPASSED\u001b[0m\u001b[32m [ 46%]\u001b[0m\n",
      "tests/test_io_artifacts.py::TestLoadPipelineArtifacts::test_auto_detect_compression \u001b[32mPASSED\u001b[0m\u001b[32m [ 53%]\u001b[0m\n",
      "tests/test_io_artifacts.py::TestLoadPipelineArtifacts::test_load_with_filtering \u001b[32mPASSED\u001b[0m\u001b[32m [ 61%]\u001b[0m\n",
      "tests/test_io_artifacts.py::TestLoadPipelineArtifacts::test_load_nonexistent_directory \u001b[32mPASSED\u001b[0m\u001b[32m [ 69%]\u001b[0m\n",
      "tests/test_io_artifacts.py::TestLoadPipelineArtifacts::test_load_empty_directory \u001b[32mPASSED\u001b[0m\u001b[32m [ 76%]\u001b[0m\n",
      "tests/test_io_artifacts.py::TestRoundTripConsistency::test_roundtrip_uncompressed \u001b[32mPASSED\u001b[0m\u001b[32m [ 84%]\u001b[0m\n",
      "tests/test_io_artifacts.py::TestRoundTripConsistency::test_roundtrip_compressed \u001b[32mPASSED\u001b[0m\u001b[32m [ 92%]\u001b[0m\n",
      "tests/test_io_artifacts.py::TestEdgeCases::test_minimal_data \u001b[32mPASSED\u001b[0m\u001b[32m      [100%]\u001b[0m\n",
      "\n",
      "\u001b[32m============================== \u001b[32m\u001b[1m13 passed\u001b[0m\u001b[32m in 3.33s\u001b[0m\u001b[32m ==============================\u001b[0m\n",
      "\n"
     ]
    }
   ],
   "source": [
    "import subprocess\n",
    "\n",
    "# Run the io.artifacts test\n",
    "result = subprocess.run([\n",
    "    'python', '-m', 'pytest', \n",
    "    'tests/test_io_artifacts.py',\n",
    "    '-v'\n",
    "], capture_output=True, text=True, cwd=PROJECT_ROOT)\n",
    "\n",
    "print(result.stdout)\n",
    "if result.stderr:\n",
    "    print(result.stderr)"
   ]
  },
  {
   "cell_type": "markdown",
   "id": "22b7ce74",
   "metadata": {},
   "source": [
    "## Test `io.tables.py`"
   ]
  },
  {
   "cell_type": "code",
   "execution_count": 36,
   "id": "9469e05e",
   "metadata": {},
   "outputs": [
    {
     "name": "stdout",
     "output_type": "stream",
     "text": [
      "\u001b[1m============================= test session starts ==============================\u001b[0m\n",
      "platform linux -- Python 3.12.11, pytest-8.4.1, pluggy-1.6.0 -- /ext3/miniforge3/envs/word2gm-fast2/bin/python\n",
      "cachedir: .pytest_cache\n",
      "rootdir: /scratch/edk202/word2gm-fast\n",
      "plugins: anyio-4.9.0, timeout-2.4.0\n",
      "\u001b[1mcollecting ... \u001b[0mcollected 17 items\n",
      "\n",
      "tests/test_io_tables.py::TestCreateTokenToIndexTable::test_basic_creation_uncompressed \u001b[32mPASSED\u001b[0m\u001b[32m [  5%]\u001b[0m\n",
      "tests/test_io_tables.py::TestCreateTokenToIndexTable::test_basic_creation_compressed \u001b[32mPASSED\u001b[0m\u001b[32m [ 11%]\u001b[0m\n",
      "tests/test_io_tables.py::TestCreateTokenToIndexTable::test_with_triplet_filtering \u001b[32mPASSED\u001b[0m\u001b[32m [ 17%]\u001b[0m\n",
      "tests/test_io_tables.py::TestCreateTokenToIndexTable::test_table_size \u001b[32mPASSED\u001b[0m\u001b[32m [ 23%]\u001b[0m\n",
      "tests/test_io_tables.py::TestCreateTokenToIndexTable::test_nonexistent_file \u001b[32mPASSED\u001b[0m\u001b[32m [ 29%]\u001b[0m\n",
      "tests/test_io_tables.py::TestCreateIndexToTokenTable::test_basic_creation_uncompressed \u001b[32mPASSED\u001b[0m\u001b[32m [ 35%]\u001b[0m\n",
      "tests/test_io_tables.py::TestCreateIndexToTokenTable::test_basic_creation_compressed \u001b[32mPASSED\u001b[0m\u001b[32m [ 41%]\u001b[0m\n",
      "tests/test_io_tables.py::TestCreateIndexToTokenTable::test_with_triplet_filtering \u001b[32mPASSED\u001b[0m\u001b[32m [ 47%]\u001b[0m\n",
      "tests/test_io_tables.py::TestCreateIndexToTokenTable::test_out_of_range_index \u001b[32mPASSED\u001b[0m\u001b[32m [ 52%]\u001b[0m\n",
      "tests/test_io_tables.py::TestCreateIndexToTokenTable::test_table_size \u001b[32mPASSED\u001b[0m\u001b[32m [ 58%]\u001b[0m\n",
      "tests/test_io_tables.py::TestCreateIndexToTokenTable::test_nonexistent_file \u001b[32mPASSED\u001b[0m\u001b[32m [ 64%]\u001b[0m\n",
      "tests/test_io_tables.py::TestTableConsistency::test_roundtrip_consistency \u001b[32mPASSED\u001b[0m\u001b[32m [ 70%]\u001b[0m\n",
      "tests/test_io_tables.py::TestTableConsistency::test_table_sizes_match \u001b[32mPASSED\u001b[0m\u001b[32m [ 76%]\u001b[0m\n",
      "tests/test_io_tables.py::TestTableConsistency::test_unknown_token_handling \u001b[32mPASSED\u001b[0m\u001b[32m [ 82%]\u001b[0m\n",
      "tests/test_io_tables.py::TestFilteredTables::test_filtered_vs_unfiltered_sizes \u001b[32mPASSED\u001b[0m\u001b[32m [ 88%]\u001b[0m\n",
      "tests/test_io_tables.py::TestEdgeCases::test_minimal_vocab \u001b[32mPASSED\u001b[0m\u001b[32m        [ 94%]\u001b[0m\n",
      "tests/test_io_tables.py::TestEdgeCases::test_empty_triplets_file \u001b[32mPASSED\u001b[0m\u001b[32m  [100%]\u001b[0m\n",
      "\n",
      "\u001b[32m============================== \u001b[32m\u001b[1m17 passed\u001b[0m\u001b[32m in 3.51s\u001b[0m\u001b[32m ==============================\u001b[0m\n",
      "\n"
     ]
    }
   ],
   "source": [
    "import subprocess\n",
    "\n",
    "# Run the io.tables test\n",
    "result = subprocess.run([\n",
    "    'python', '-m', 'pytest', \n",
    "    'tests/test_io_tables.py',\n",
    "    '-v'\n",
    "], capture_output=True, text=True, cwd=PROJECT_ROOT)\n",
    "\n",
    "print(result.stdout)\n",
    "if result.stderr:\n",
    "    print(result.stderr)"
   ]
  },
  {
   "cell_type": "markdown",
   "id": "bc1c6542",
   "metadata": {},
   "source": [
    "## Test `pipeline.py`"
   ]
  },
  {
   "cell_type": "code",
   "execution_count": 43,
   "id": "4b9e5509",
   "metadata": {},
   "outputs": [
    {
     "name": "stdout",
     "output_type": "stream",
     "text": [
      "\u001b[1m============================= test session starts ==============================\u001b[0m\n",
      "platform linux -- Python 3.12.11, pytest-8.4.1, pluggy-1.6.0 -- /ext3/miniforge3/envs/word2gm-fast2/bin/python\n",
      "cachedir: .pytest_cache\n",
      "rootdir: /scratch/edk202/word2gm-fast\n",
      "plugins: anyio-4.9.0, timeout-2.4.0\n",
      "\u001b[1mcollecting ... \u001b[0mcollected 26 items\n",
      "\n",
      "tests/test_pipeline.py::TestProcessSingleYear::test_successful_processing \u001b[32mPASSED\u001b[0m\u001b[32m [  3%]\u001b[0m\n",
      "tests/test_pipeline.py::TestProcessSingleYear::test_compressed_output \u001b[32mPASSED\u001b[0m\u001b[32m [  7%]\u001b[0m\n",
      "tests/test_pipeline.py::TestProcessSingleYear::test_nonexistent_file \u001b[32mPASSED\u001b[0m\u001b[32m [ 11%]\u001b[0m\n",
      "tests/test_pipeline.py::TestProcessSingleYear::test_invalid_corpus_directory \u001b[32mPASSED\u001b[0m\u001b[32m [ 15%]\u001b[0m\n",
      "tests/test_pipeline.py::TestProcessSingleYear::test_small_corpus_file \u001b[32mPASSED\u001b[0m\u001b[32m [ 19%]\u001b[0m\n",
      "tests/test_pipeline.py::TestProcessYearRange::test_single_year_range \u001b[32mPASSED\u001b[0m\u001b[32m [ 23%]\u001b[0m\n",
      "tests/test_pipeline.py::TestProcessYearRange::test_multiple_years_sequential \u001b[32mPASSED\u001b[0m\u001b[32m [ 26%]\u001b[0m\n",
      "tests/test_pipeline.py::TestProcessYearRange::test_year_range_dash_notation \u001b[32mPASSED\u001b[0m\u001b[32m [ 30%]\u001b[0m\n",
      "tests/test_pipeline.py::TestProcessYearRange::test_parallel_processing \u001b[32mPASSED\u001b[0m\u001b[32m [ 34%]\u001b[0m\n",
      "tests/test_pipeline.py::TestProcessYearRange::test_missing_files_filtered \u001b[32mPASSED\u001b[0m\u001b[33m [ 38%]\u001b[0m\n",
      "tests/test_pipeline.py::TestProcessYearRange::test_empty_directory \u001b[32mPASSED\u001b[0m\u001b[33m [ 42%]\u001b[0m\n",
      "tests/test_pipeline.py::TestParseYears::test_single_year \u001b[32mPASSED\u001b[0m\u001b[33m          [ 46%]\u001b[0m\n",
      "tests/test_pipeline.py::TestParseYears::test_comma_separated_years \u001b[32mPASSED\u001b[0m\u001b[33m [ 50%]\u001b[0m\n",
      "tests/test_pipeline.py::TestParseYears::test_year_range_dash \u001b[32mPASSED\u001b[0m\u001b[33m      [ 53%]\u001b[0m\n",
      "tests/test_pipeline.py::TestParseYears::test_mixed_format \u001b[32mPASSED\u001b[0m\u001b[33m         [ 57%]\u001b[0m\n",
      "tests/test_pipeline.py::TestParseYears::test_whitespace_handling \u001b[32mPASSED\u001b[0m\u001b[33m  [ 61%]\u001b[0m\n",
      "tests/test_pipeline.py::TestGetAvailableYears::test_get_available_years \u001b[32mPASSED\u001b[0m\u001b[33m [ 65%]\u001b[0m\n",
      "tests/test_pipeline.py::TestGetAvailableYears::test_empty_directory \u001b[32mPASSED\u001b[0m\u001b[33m [ 69%]\u001b[0m\n",
      "tests/test_pipeline.py::TestGetAvailableYears::test_nonexistent_directory \u001b[32mPASSED\u001b[0m\u001b[33m [ 73%]\u001b[0m\n",
      "tests/test_pipeline.py::TestRunPipeline::test_run_pipeline_basic \u001b[32mPASSED\u001b[0m\u001b[33m  [ 76%]\u001b[0m\n",
      "tests/test_pipeline.py::TestRunPipeline::test_run_pipeline_with_kwargs \u001b[32mPASSED\u001b[0m\u001b[33m [ 80%]\u001b[0m\n",
      "tests/test_pipeline.py::TestIntegrationScenarios::test_full_pipeline_workflow \u001b[32mPASSED\u001b[0m\u001b[33m [ 84%]\u001b[0m\n",
      "tests/test_pipeline.py::TestIntegrationScenarios::test_error_resilience \u001b[32mPASSED\u001b[0m\u001b[33m [ 88%]\u001b[0m\n",
      "tests/test_pipeline.py::TestIntegrationScenarios::test_performance_metrics \u001b[32mPASSED\u001b[0m\u001b[33m [ 92%]\u001b[0m\n",
      "tests/test_pipeline.py::TestEdgeCases::test_single_character_corpus \u001b[32mPASSED\u001b[0m\u001b[33m [ 96%]\u001b[0m\n",
      "tests/test_pipeline.py::TestEdgeCases::test_very_large_year_range \u001b[32mPASSED\u001b[0m\u001b[33m [100%]\u001b[0m\n",
      "\n",
      "\u001b[33m=============================== warnings summary ===============================\u001b[0m\n",
      "tests/test_pipeline.py: 12 warnings\n",
      "  /ext3/miniforge3/envs/word2gm-fast2/lib/python3.12/multiprocessing/popen_fork.py:66: DeprecationWarning: This process (pid=1530840) is multi-threaded, use of fork() may lead to deadlocks in the child.\n",
      "    self.pid = os.fork()\n",
      "\n",
      "-- Docs: https://docs.pytest.org/en/stable/how-to/capture-warnings.html\n",
      "\u001b[33m======================= \u001b[32m26 passed\u001b[0m, \u001b[33m\u001b[1m12 warnings\u001b[0m\u001b[33m in 10.52s\u001b[0m\u001b[33m =======================\u001b[0m\n",
      "\n"
     ]
    }
   ],
   "source": [
    "import subprocess\n",
    "\n",
    "# Run the io.tables test\n",
    "result = subprocess.run([\n",
    "    'python', '-m', 'pytest', \n",
    "    'tests/test_pipeline.py',\n",
    "    '-v'\n",
    "], capture_output=True, text=True, cwd=PROJECT_ROOT)\n",
    "\n",
    "print(result.stdout)\n",
    "if result.stderr:\n",
    "    print(result.stderr)"
   ]
  }
 ],
 "metadata": {
  "kernelspec": {
   "display_name": "Remote kernel: word2gm-fast2",
   "language": "python",
   "name": "word2gm-fast2"
  },
  "language_info": {
   "codemirror_mode": {
    "name": "ipython",
    "version": 3
   },
   "file_extension": ".py",
   "mimetype": "text/x-python",
   "name": "python",
   "nbconvert_exporter": "python",
   "pygments_lexer": "ipython3",
   "version": "3.12.11"
  }
 },
 "nbformat": 4,
 "nbformat_minor": 5
}
