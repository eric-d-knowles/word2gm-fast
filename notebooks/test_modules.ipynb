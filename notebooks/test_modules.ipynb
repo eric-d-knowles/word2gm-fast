{
 "cells": [
  {
   "cell_type": "markdown",
   "id": "180684c5",
   "metadata": {},
   "source": [
    "# Test Modules"
   ]
  },
  {
   "cell_type": "code",
   "execution_count": null,
   "id": "27f7e6dd",
   "metadata": {},
   "outputs": [
    {
     "name": "stdout",
     "output_type": "stream",
     "text": [
      "✅ TensorFlow 2.19.0 imported silently (non-deterministic mode)\n"
     ]
    }
   ],
   "source": [
    "import os\n",
    "import sys\n",
    "import subprocess\n",
    "import time\n",
    "\n",
    "# Change to project directory\n",
    "os.chdir('/scratch/edk202/word2gm-fast/notebooks')\n",
    "os.chdir(\"..\")\n",
    "\n",
    "# Clean TensorFlow import with complete silencing (non-deterministic by default)\n",
    "from src.word2gm_fast.utils import (\n",
    "    import_tensorflow_silently, \n",
    "    log_tf_to_file, \n",
    "    run_silent_subprocess\n",
    ")\n",
    "\n",
    "tf = import_tensorflow_silently(deterministic=False)\n",
    "print(f\"✅ TensorFlow {tf.__version__} imported silently (non-deterministic mode)\")\n",
    "\n",
    "# Setup notebook environment for testing\n",
    "from word2gm_fast.utils.notebook_setup import setup_data_preprocessing_notebook, enable_autoreload\n",
    "\n",
    "# Set up environment with CPU-only mode (optimal for testing and data processing)\n",
    "env = setup_data_preprocessing_notebook()\n",
    "\n",
    "# Enable auto-reload for development\n",
    "enable_autoreload()\n",
    "\n",
    "# Extract useful utilities\n",
    "tf = env['tf']\n",
    "print_resource_summary = env['print_resource_summary']\n",
    "\n",
    "print(f\"TensorFlow {tf.__version__} imported successfully\")\n",
    "print(\"Test environment ready!\")\n",
    "\n",
    "# Import additional testing modules not included in standard setup\n",
    "import subprocess\n",
    "import time\n",
    "\n",
    "# Import data pipeline modules for testing\n",
    "from word2gm_fast.dataprep.corpus_to_dataset import make_dataset\n",
    "from word2gm_fast.dataprep.index_vocab import make_vocab\n",
    "from word2gm_fast.dataprep.dataset_to_triplets import build_skipgram_triplets\n",
    "from word2gm_fast.dataprep.tfrecord_io import (\n",
    "    save_pipeline_artifacts,\n",
    "    load_pipeline_artifacts,\n",
    "    write_triplets_to_tfrecord,\n",
    "    load_triplets_from_tfrecord,\n",
    "    write_vocab_to_tfrecord,\n",
    "    load_vocab_from_tfrecord\n",
    ")\n",
    "\n",
    "print(\"All testing modules imported successfully\")"
   ]
  },
  {
   "cell_type": "code",
   "execution_count": null,
   "id": "a48ee228",
   "metadata": {},
   "outputs": [],
   "source": [
    "# Clean test execution - no duplicates\n",
    "print(\"🧪 Testing all modules...\")\n",
    "\n",
    "modules_to_test = [\n",
    "    ('tests.test_corpus_to_dataset', 'Corpus processing'),\n",
    "    ('tests.test_index_vocab', 'Vocabulary indexing'), \n",
    "    ('tests.test_dataset_to_triplets', 'Triplet generation'),\n",
    "    ('tests.test_tfrecord_io', 'TFRecord I/O')\n",
    "]\n",
    "\n",
    "test_results = []\n",
    "for test_module, test_name in modules_to_test:\n",
    "    if 'triplets' in test_module:\n",
    "        cmd_result = run_silent_subprocess(\n",
    "            ['python', '-m', 'unittest', '-b', test_module], \n",
    "            deterministic=False, capture_output=True, text=True\n",
    "        )\n",
    "    else:\n",
    "        cmd_result = run_silent_subprocess(\n",
    "            ['python', '-m', 'unittest', '-b', test_module], \n",
    "            capture_output=True, text=True\n",
    "        )\n",
    "    \n",
    "    status = \"PASS\" if cmd_result.returncode == 0 else \"FAIL\"\n",
    "    print(f\"  {test_name}: {status}\")\n",
    "    test_results.append(cmd_result.returncode == 0)\n",
    "\n",
    "passes = sum(test_results)\n",
    "total = len(test_results)\n",
    "print(f\"\\nResult: {passes}/{total} tests passed\")\n",
    "if passes == total:\n",
    "    print(\"✅ All tests successful!\")\n",
    "else:\n",
    "    print(\"❌ Some tests failed\")"
   ]
  }
 ],
 "metadata": {
  "kernelspec": {
   "display_name": "Remote kernel: word2gm-fast2",
   "language": "python",
   "name": "word2gm-fast2"
  },
  "language_info": {
   "codemirror_mode": {
    "name": "ipython",
    "version": 3
   },
   "file_extension": ".py",
   "mimetype": "text/x-python",
   "name": "python",
   "nbconvert_exporter": "python",
   "pygments_lexer": "ipython3",
   "version": "3.12.11"
  }
 },
 "nbformat": 4,
 "nbformat_minor": 5
}
