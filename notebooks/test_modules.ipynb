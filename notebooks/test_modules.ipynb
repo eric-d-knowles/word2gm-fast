{
 "cells": [
  {
   "cell_type": "markdown",
   "id": "180684c5",
   "metadata": {},
   "source": [
    "# Test Modules"
   ]
  },
  {
   "cell_type": "code",
   "execution_count": 8,
   "id": "27f7e6dd",
   "metadata": {},
   "outputs": [
    {
     "name": "stdout",
     "output_type": "stream",
     "text": [
      "The autoreload extension is already loaded. To reload it, use:\n",
      "  %reload_ext autoreload\n",
      "Autoreload enabled\n",
      "Project root: /scratch/edk202/word2gm-fast\n",
      "TensorFlow version: 2.19.0\n",
      "Device mode: GPU-enabled\n",
      "Testing environment ready!\n"
     ]
    }
   ],
   "source": [
    "# Set project root directory and add `src` to path\n",
    "import sys\n",
    "from pathlib import Path\n",
    "\n",
    "PROJECT_ROOT = '/scratch/edk202/word2gm-fast'\n",
    "project_root = Path(PROJECT_ROOT)\n",
    "src_path = project_root / 'src'\n",
    "\n",
    "if str(src_path) not in sys.path:\n",
    "    sys.path.insert(0, str(src_path))\n",
    "\n",
    "# Import the notebook setup utilities\n",
    "from word2gm_fast.utils.notebook_setup import setup_testing_notebook, enable_autoreload, run_silent_subprocess\n",
    "\n",
    "# Enable autoreload for development\n",
    "enable_autoreload()\n",
    "\n",
    "# Set up environment\n",
    "env = setup_testing_notebook(project_root=PROJECT_ROOT)\n",
    "\n",
    "# Extract commonly used modules for convenience\n",
    "tf = env['tensorflow']\n",
    "np = env['numpy']\n",
    "pd = env['pandas']\n",
    "print_resource_summary = env['print_resource_summary']"
   ]
  },
  {
   "cell_type": "code",
   "execution_count": 21,
   "id": "a48ee228",
   "metadata": {},
   "outputs": [
    {
     "name": "stdout",
     "output_type": "stream",
     "text": [
      "Testing modules...\n",
      "TFRecord I/O: FAIL\n",
      "\n",
      "Detailed output for failed tests:\n",
      "\n",
      "--- TFRecord I/O ---\n",
      "stdout:\n",
      "\u001b[32m.\u001b[0m\u001b[32m.\u001b[0m\u001b[32m.\u001b[0m\u001b[32m.\u001b[0m\u001b[32m.\u001b[0m\u001b[32m.\u001b[0m\u001b[31mF\u001b[0m\n",
      "=================================== FAILURES ===================================\n",
      "\u001b[31m\u001b[1m____________________ test_save_and_load_pipeline_artifacts _____________________\u001b[0m\n",
      "\n",
      "tfrecord_test_data = {'text_dataset': <_TensorSliceDataset element_spec=TensorSpec(shape=(), dtype=tf.string, name=None)>, 'tmp_dir': Posix... 2, 3)], 'triplets_dataset': <_TensorSliceDataset element_spec=TensorSpec(shape=(3,), dtype=tf.int64, name=None)>, ...}\n",
      "\n",
      "    \u001b[0m\u001b[94mdef\u001b[39;49;00m\u001b[90m \u001b[39;49;00m\u001b[92mtest_save_and_load_pipeline_artifacts\u001b[39;49;00m(tfrecord_test_data):\u001b[90m\u001b[39;49;00m\n",
      "        tmp_dir = tfrecord_test_data[\u001b[33m'\u001b[39;49;00m\u001b[33mtmp_dir\u001b[39;49;00m\u001b[33m'\u001b[39;49;00m]\u001b[90m\u001b[39;49;00m\n",
      "        vocab_words = tfrecord_test_data[\u001b[33m'\u001b[39;49;00m\u001b[33mvocab_words\u001b[39;49;00m\u001b[33m'\u001b[39;49;00m]\u001b[90m\u001b[39;49;00m\n",
      "        vocab_ids = tfrecord_test_data[\u001b[33m'\u001b[39;49;00m\u001b[33mvocab_ids\u001b[39;49;00m\u001b[33m'\u001b[39;49;00m]\u001b[90m\u001b[39;49;00m\n",
      "        triplet_data = tfrecord_test_data[\u001b[33m'\u001b[39;49;00m\u001b[33mtriplet_data\u001b[39;49;00m\u001b[33m'\u001b[39;49;00m]\u001b[90m\u001b[39;49;00m\n",
      "        triplets_dataset = tfrecord_test_data[\u001b[33m'\u001b[39;49;00m\u001b[33mtriplets_dataset\u001b[39;49;00m\u001b[33m'\u001b[39;49;00m]\u001b[90m\u001b[39;49;00m\n",
      "        artifacts_dir = tmp_dir / \u001b[33m\"\u001b[39;49;00m\u001b[33martifacts\u001b[39;49;00m\u001b[33m\"\u001b[39;49;00m\u001b[90m\u001b[39;49;00m\n",
      "        os.makedirs(artifacts_dir, exist_ok=\u001b[94mTrue\u001b[39;49;00m)\u001b[90m\u001b[39;49;00m\n",
      ">       save_pipeline_artifacts(\u001b[90m\u001b[39;49;00m\n",
      "            \u001b[96mstr\u001b[39;49;00m(artifacts_dir),\u001b[90m\u001b[39;49;00m\n",
      "            vocab_words=vocab_words,\u001b[90m\u001b[39;49;00m\n",
      "            vocab_ids=vocab_ids,\u001b[90m\u001b[39;49;00m\n",
      "            triplets=triplets_dataset\u001b[90m\u001b[39;49;00m\n",
      "        )\u001b[90m\u001b[39;49;00m\n",
      "\u001b[1m\u001b[31mE       TypeError: save_pipeline_artifacts() got an unexpected keyword argument 'vocab_words'\u001b[0m\n",
      "\n",
      "\u001b[1m\u001b[31mtests/test_tfrecord_io.py\u001b[0m:139: TypeError\n",
      "\u001b[36m\u001b[1m=========================== short test summary info ============================\u001b[0m\n",
      "\u001b[31mFAILED\u001b[0m tests/test_tfrecord_io.py::\u001b[1mtest_save_and_load_pipeline_artifacts\u001b[0m - TypeError: save_pipeline_artifacts() got an unexpected keyword argument 'vo...\n",
      "\u001b[31m!!!!!!!!!!!!!!!!!!!!!!!!!! stopping after 1 failures !!!!!!!!!!!!!!!!!!!!!!!!!!!\u001b[0m\n",
      "\u001b[31m\u001b[31m\u001b[1m1 failed\u001b[0m, \u001b[32m6 passed\u001b[0m\u001b[31m in 3.73s\u001b[0m\u001b[0m\n",
      "\n"
     ]
    }
   ],
   "source": [
    "import datetime\n",
    "\n",
    "modules_to_test = [\n",
    "    #('tests/test_corpus_to_dataset.py', 'Corpus processing'),\n",
    "    #('tests/test_index_vocab.py', 'Vocabulary indexing'), \n",
    "    #('tests/test_dataset_to_triplets.py', 'Triplet generation'),\n",
    "    ('tests/test_tfrecord_io.py', 'TFRecord I/O'),\n",
    "    #('tests/test_word2gm_model.py', 'Word2GM model')\n",
    "]\n",
    "\n",
    "output_lines = [\"Testing modules...\"]\n",
    "failures = []\n",
    "\n",
    "for test_file, test_name in modules_to_test:\n",
    "    start_time = datetime.datetime.now()\n",
    "    cmd_result = run_silent_subprocess(\n",
    "        ['pytest', test_file, '--maxfail=1', '--disable-warnings', '-q'],\n",
    "        capture_output=True, text=True\n",
    "    )\n",
    "    status = \"PASS\" if cmd_result.returncode == 0 else \"FAIL\"\n",
    "    output_lines.append(f\"{test_name}: {status}\")\n",
    "    if cmd_result.returncode != 0:\n",
    "        failures.append((test_name, cmd_result))\n",
    "\n",
    "print(\"\\n\".join(output_lines))\n",
    "\n",
    "if failures:\n",
    "    print(\"\\nDetailed output for failed tests:\")\n",
    "    for test_name, cmd_result in failures:\n",
    "        print(f\"\\n--- {test_name} ---\")\n",
    "        if cmd_result.stdout:\n",
    "            print(\"stdout:\\n\" + cmd_result.stdout)\n",
    "        if cmd_result.stderr:\n",
    "            print(\"stderr:\\n\" + cmd_result.stderr)"
   ]
  },
  {
   "cell_type": "code",
   "execution_count": null,
   "id": "3512f87c",
   "metadata": {},
   "outputs": [],
   "source": []
  }
 ],
 "metadata": {
  "kernelspec": {
   "display_name": "Remote kernel: word2gm-fast2",
   "language": "python",
   "name": "word2gm-fast2"
  },
  "language_info": {
   "codemirror_mode": {
    "name": "ipython",
    "version": 3
   },
   "file_extension": ".py",
   "mimetype": "text/x-python",
   "name": "python",
   "nbconvert_exporter": "python",
   "pygments_lexer": "ipython3",
   "version": "3.12.11"
  }
 },
 "nbformat": 4,
 "nbformat_minor": 5
}
