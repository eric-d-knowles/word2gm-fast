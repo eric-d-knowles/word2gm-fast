{
 "cells": [
  {
   "cell_type": "code",
   "execution_count": 4,
   "id": "39454b3c",
   "metadata": {},
   "outputs": [],
   "source": [
    "import os\n",
    "import sys\n",
    "import time\n",
    "import tensorflow as tf\n",
    "\n",
    "os.chdir('/scratch/edk202/word2gm-fast/notebooks')\n",
    "os.chdir(\"..\")\n",
    "\n",
    "from src.word2gm_fast.dataprep.corpus_to_dataset import make_dataset\n",
    "from src.word2gm_fast.dataprep.dataset_to_vocab import make_vocab"
   ]
  },
  {
   "cell_type": "code",
   "execution_count": 5,
   "id": "0779c2e5",
   "metadata": {},
   "outputs": [
    {
     "name": "stdout",
     "output_type": "stream",
     "text": [
      "2025-06-20 16:12:28.899800: I tensorflow/core/util/port.cc:153] oneDNN custom operations are on. You may see slightly different numerical results due to floating-point round-off errors from different computation orders. To turn them off, set the environment variable `TF_ENABLE_ONEDNN_OPTS=0`.\n",
      "2025-06-20 16:12:28.914952: E external/local_xla/xla/stream_executor/cuda/cuda_fft.cc:467] Unable to register cuFFT factory: Attempting to register factory for plugin cuFFT when one has already been registered\n",
      "WARNING: All log messages before absl::InitializeLog() is called are written to STDERR\n",
      "E0000 00:00:1750450348.932149 2706504 cuda_dnn.cc:8579] Unable to register cuDNN factory: Attempting to register factory for plugin cuDNN when one has already been registered\n",
      "E0000 00:00:1750450348.937096 2706504 cuda_blas.cc:1407] Unable to register cuBLAS factory: Attempting to register factory for plugin cuBLAS when one has already been registered\n",
      "W0000 00:00:1750450348.950603 2706504 computation_placer.cc:177] computation placer already registered. Please check linkage and avoid linking the same target more than once.\n",
      "W0000 00:00:1750450348.950643 2706504 computation_placer.cc:177] computation placer already registered. Please check linkage and avoid linking the same target more than once.\n",
      "W0000 00:00:1750450348.950645 2706504 computation_placer.cc:177] computation placer already registered. Please check linkage and avoid linking the same target more than once.\n",
      "W0000 00:00:1750450348.950647 2706504 computation_placer.cc:177] computation placer already registered. Please check linkage and avoid linking the same target more than once.\n",
      "2025-06-20 16:12:28.954745: I tensorflow/core/platform/cpu_feature_guard.cc:210] This TensorFlow binary is optimized to use available CPU instructions in performance-critical operations.\n",
      "To enable the following instructions: AVX2 AVX512F AVX512_VNNI FMA, in other operations, rebuild TensorFlow with the appropriate compiler flags.\n",
      "2025-06-20 16:12:31.435399: E external/local_xla/xla/stream_executor/cuda/cuda_platform.cc:51] failed call to cuInit: INTERNAL: CUDA error: Failed call to cuInit: UNKNOWN ERROR (303)\n",
      "2025-06-20 16:12:31.804047: I tensorflow/core/framework/local_rendezvous.cc:407] Local rendezvous is aborting with status: OUT_OF_RANGE: End of sequence\n",
      ".\n",
      "----------------------------------------------------------------------\n",
      "Ran 1 test in 0.373s\n",
      "\n",
      "OK\n"
     ]
    }
   ],
   "source": [
    "!python -m unittest -b tests.test_corpus_to_dataset"
   ]
  },
  {
   "cell_type": "code",
   "execution_count": 6,
   "id": "fb216b5f",
   "metadata": {},
   "outputs": [
    {
     "name": "stdout",
     "output_type": "stream",
     "text": [
      "2025-06-20 16:12:33.884697: I tensorflow/core/util/port.cc:153] oneDNN custom operations are on. You may see slightly different numerical results due to floating-point round-off errors from different computation orders. To turn them off, set the environment variable `TF_ENABLE_ONEDNN_OPTS=0`.\n",
      "2025-06-20 16:12:33.900191: E external/local_xla/xla/stream_executor/cuda/cuda_fft.cc:467] Unable to register cuFFT factory: Attempting to register factory for plugin cuFFT when one has already been registered\n",
      "WARNING: All log messages before absl::InitializeLog() is called are written to STDERR\n",
      "E0000 00:00:1750450353.917421 2706609 cuda_dnn.cc:8579] Unable to register cuDNN factory: Attempting to register factory for plugin cuDNN when one has already been registered\n",
      "E0000 00:00:1750450353.922339 2706609 cuda_blas.cc:1407] Unable to register cuBLAS factory: Attempting to register factory for plugin cuBLAS when one has already been registered\n",
      "W0000 00:00:1750450353.935912 2706609 computation_placer.cc:177] computation placer already registered. Please check linkage and avoid linking the same target more than once.\n",
      "W0000 00:00:1750450353.935946 2706609 computation_placer.cc:177] computation placer already registered. Please check linkage and avoid linking the same target more than once.\n",
      "W0000 00:00:1750450353.935948 2706609 computation_placer.cc:177] computation placer already registered. Please check linkage and avoid linking the same target more than once.\n",
      "W0000 00:00:1750450353.935950 2706609 computation_placer.cc:177] computation placer already registered. Please check linkage and avoid linking the same target more than once.\n",
      "2025-06-20 16:12:33.939998: I tensorflow/core/platform/cpu_feature_guard.cc:210] This TensorFlow binary is optimized to use available CPU instructions in performance-critical operations.\n",
      "To enable the following instructions: AVX2 AVX512F AVX512_VNNI FMA, in other operations, rebuild TensorFlow with the appropriate compiler flags.\n",
      "2025-06-20 16:12:36.176773: E external/local_xla/xla/stream_executor/cuda/cuda_platform.cc:51] failed call to cuInit: INTERNAL: CUDA error: Failed call to cuInit: UNKNOWN ERROR (303)\n",
      "2025-06-20 16:12:36.326996: I tensorflow/core/framework/local_rendezvous.cc:407] Local rendezvous is aborting with status: OUT_OF_RANGE: End of sequence\n",
      "..\n",
      "----------------------------------------------------------------------\n",
      "Ran 2 tests in 0.164s\n",
      "\n",
      "OK\n"
     ]
    }
   ],
   "source": [
    "!python -m unittest -b tests.test_dataset_to_vocab"
   ]
  },
  {
   "cell_type": "code",
   "execution_count": null,
   "id": "233685ad",
   "metadata": {},
   "outputs": [
    {
     "name": "stdout",
     "output_type": "stream",
     "text": [
      "CORPUS FILE:  /vast/edk202/NLP_corpora/Google_Books/20200217/eng-fiction/5gram_files/6corpus/yearly_files/data/1700.txt \n",
      "\n",
      "[--   Benchmarks   --]\n",
      "\n",
      "Step                                 Duration             Quantity                 Rate\n",
      "---------------------------------------------------------------------------------------\n",
      "Corpus loading and filtering           0.07 s              0.03 MB            0.47 MB/s\n",
      "Vocabulary creation                    0.18 s              0.03 MB            0.17 MB/s\n",
      "\n",
      "\n",
      "[--  Sample Lines  --]\n",
      "\n",
      "amongst UNK rest UNK UNK\n",
      "UNK shall hear UNK UNK\n",
      "UNK UNK capacity UNK journalist\n",
      "UNK UNK near part UNK\n",
      "UNK english nation UNK UNK\n",
      "\n",
      "\n",
      "[--   Test Words   --]\n",
      "\n",
      "Word                   ID\n",
      "-------------------------\n",
      "UNK                     0\n",
      "man                   173\n",
      "king                  151\n",
      "nonexistentword         0\n"
     ]
    }
   ],
   "source": [
    "# Corpus file information\n",
    "corpus_file = \"1800.txt\"\n",
    "corpus_dir = \"/vast/edk202/NLP_corpora/Google_Books/20200217/eng-fiction/5gram_files/6corpus/yearly_files/data\"\n",
    "corpus_path = os.path.join(corpus_dir, corpus_file)\n",
    "file_size = os.path.getsize(corpus_path) / 1024 / 1024\n",
    "print(\"CORPUS FILE: \", corpus_path, \"\\n\")\n",
    "\n",
    "# Load and filter the corpus\n",
    "start = time.time()\n",
    "dataset, _ = make_dataset(corpus_path)\n",
    "duration_load = time.time() - start\n",
    "rate_load = file_size / duration_load\n",
    "dataset = dataset.cache()\n",
    "\n",
    "# Build the vocabulary from the dataset\n",
    "start = time.time()\n",
    "vocab_table = make_vocab(dataset)\n",
    "duration_vocab = time.time() - start\n",
    "rate_vocab = file_size / duration_vocab\n",
    "\n",
    "# Benchmarking output\n",
    "print(\"[--   Benchmarks   --]\\n\")\n",
    "print(f\"{'Step':<35}{'Duration':>10}{'Quantity':>21}{'Rate':>21}\")\n",
    "print(\"-\" * 87)\n",
    "print(f\"{'Corpus loading and filtering':<35}{duration_load:8,.2f}{'s':>2}{file_size:18,.2f}{'MB':>3}{rate_load:16,.2f}{'MB/s':>5}\")\n",
    "print(f\"{'Vocabulary creation':<35}{duration_vocab:8,.2f}{'s':>2}{file_size:18,.2f}{'MB':>3}{rate_vocab:16,.2f}{'MB/s':>5}\")\n",
    "\n",
    "# Show sample content\n",
    "print(\"\\n\\n[--  Sample Lines  --]\\n\")\n",
    "for line in dataset.shuffle(1000).take(5):\n",
    "    print(line.numpy().decode(\"utf-8\"))\n",
    "\n",
    "# Test the vocab table with example words\n",
    "print(\"\\n\\n[--   Test Words   --]\\n\")\n",
    "test_words = [\"UNK\", \"man\", \"king\", \"nonexistentword\"]\n",
    "ids = vocab_table.lookup(tf.constant(test_words)).numpy()\n",
    "print(f\"{'Word':<18} {'ID':>6}\")\n",
    "print(\"-\" * 25)\n",
    "for word, idx in zip(test_words, ids):\n",
    "    print(f\"{word:<18} {idx:>6}\")"
   ]
  },
  {
   "cell_type": "code",
   "execution_count": null,
   "id": "5f2486c3",
   "metadata": {},
   "outputs": [],
   "source": []
  }
 ],
 "metadata": {
  "kernelspec": {
   "display_name": "Remote kernel: word2gm-fast2",
   "language": "python",
   "name": "word2gm-fast2"
  },
  "language_info": {
   "codemirror_mode": {
    "name": "ipython",
    "version": 3
   },
   "file_extension": ".py",
   "mimetype": "text/x-python",
   "name": "python",
   "nbconvert_exporter": "python",
   "pygments_lexer": "ipython3",
   "version": "3.12.11"
  }
 },
 "nbformat": 4,
 "nbformat_minor": 5
}
