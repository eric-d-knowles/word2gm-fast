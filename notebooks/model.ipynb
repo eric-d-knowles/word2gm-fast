{
 "cells": [
  {
   "cell_type": "code",
   "execution_count": 1,
   "id": "39454b3c",
   "metadata": {},
   "outputs": [
    {
     "name": "stderr",
     "output_type": "stream",
     "text": [
      "2025-06-21 00:42:25.441787: I tensorflow/core/util/port.cc:153] oneDNN custom operations are on. You may see slightly different numerical results due to floating-point round-off errors from different computation orders. To turn them off, set the environment variable `TF_ENABLE_ONEDNN_OPTS=0`.\n",
      "2025-06-21 00:42:25.458579: E external/local_xla/xla/stream_executor/cuda/cuda_fft.cc:467] Unable to register cuFFT factory: Attempting to register factory for plugin cuFFT when one has already been registered\n",
      "WARNING: All log messages before absl::InitializeLog() is called are written to STDERR\n",
      "E0000 00:00:1750480945.476031 3903025 cuda_dnn.cc:8579] Unable to register cuDNN factory: Attempting to register factory for plugin cuDNN when one has already been registered\n",
      "E0000 00:00:1750480945.481334 3903025 cuda_blas.cc:1407] Unable to register cuBLAS factory: Attempting to register factory for plugin cuBLAS when one has already been registered\n",
      "W0000 00:00:1750480945.495103 3903025 computation_placer.cc:177] computation placer already registered. Please check linkage and avoid linking the same target more than once.\n",
      "W0000 00:00:1750480945.495122 3903025 computation_placer.cc:177] computation placer already registered. Please check linkage and avoid linking the same target more than once.\n",
      "W0000 00:00:1750480945.495124 3903025 computation_placer.cc:177] computation placer already registered. Please check linkage and avoid linking the same target more than once.\n",
      "W0000 00:00:1750480945.495125 3903025 computation_placer.cc:177] computation placer already registered. Please check linkage and avoid linking the same target more than once.\n",
      "2025-06-21 00:42:25.499583: I tensorflow/core/platform/cpu_feature_guard.cc:210] This TensorFlow binary is optimized to use available CPU instructions in performance-critical operations.\n",
      "To enable the following instructions: AVX2 AVX512F AVX512_VNNI FMA, in other operations, rebuild TensorFlow with the appropriate compiler flags.\n"
     ]
    }
   ],
   "source": [
    "import os\n",
    "import sys\n",
    "import time\n",
    "import tensorflow as tf\n",
    "\n",
    "os.chdir('/scratch/edk202/word2gm-fast/notebooks')\n",
    "os.chdir(\"..\")\n",
    "\n",
    "from src.word2gm_fast.dataprep.corpus_to_dataset import make_dataset\n",
    "from src.word2gm_fast.dataprep.index_vocab import make_vocab\n",
    "from src.word2gm_fast.dataprep.dataset_to_triplets import build_skipgram_triplets"
   ]
  },
  {
   "cell_type": "code",
   "execution_count": 3,
   "id": "0779c2e5",
   "metadata": {},
   "outputs": [
    {
     "name": "stdout",
     "output_type": "stream",
     "text": [
      "2025-06-21 00:40:52.893344: I tensorflow/core/util/port.cc:153] oneDNN custom operations are on. You may see slightly different numerical results due to floating-point round-off errors from different computation orders. To turn them off, set the environment variable `TF_ENABLE_ONEDNN_OPTS=0`.\n",
      "2025-06-21 00:40:52.907089: E external/local_xla/xla/stream_executor/cuda/cuda_fft.cc:467] Unable to register cuFFT factory: Attempting to register factory for plugin cuFFT when one has already been registered\n",
      "WARNING: All log messages before absl::InitializeLog() is called are written to STDERR\n",
      "E0000 00:00:1750480852.923017 3902574 cuda_dnn.cc:8579] Unable to register cuDNN factory: Attempting to register factory for plugin cuDNN when one has already been registered\n",
      "E0000 00:00:1750480852.927811 3902574 cuda_blas.cc:1407] Unable to register cuBLAS factory: Attempting to register factory for plugin cuBLAS when one has already been registered\n",
      "W0000 00:00:1750480852.940672 3902574 computation_placer.cc:177] computation placer already registered. Please check linkage and avoid linking the same target more than once.\n",
      "W0000 00:00:1750480852.940695 3902574 computation_placer.cc:177] computation placer already registered. Please check linkage and avoid linking the same target more than once.\n",
      "W0000 00:00:1750480852.940699 3902574 computation_placer.cc:177] computation placer already registered. Please check linkage and avoid linking the same target more than once.\n",
      "W0000 00:00:1750480852.940701 3902574 computation_placer.cc:177] computation placer already registered. Please check linkage and avoid linking the same target more than once.\n",
      "2025-06-21 00:40:52.944462: I tensorflow/core/platform/cpu_feature_guard.cc:210] This TensorFlow binary is optimized to use available CPU instructions in performance-critical operations.\n",
      "To enable the following instructions: AVX2 AVX512F AVX512_VNNI FMA, in other operations, rebuild TensorFlow with the appropriate compiler flags.\n",
      "W0000 00:00:1750480852.940672 3902574 computation_placer.cc:177] computation placer already registered. Please check linkage and avoid linking the same target more than once.\n",
      "W0000 00:00:1750480852.940695 3902574 computation_placer.cc:177] computation placer already registered. Please check linkage and avoid linking the same target more than once.\n",
      "W0000 00:00:1750480852.940699 3902574 computation_placer.cc:177] computation placer already registered. Please check linkage and avoid linking the same target more than once.\n",
      "W0000 00:00:1750480852.940701 3902574 computation_placer.cc:177] computation placer already registered. Please check linkage and avoid linking the same target more than once.\n",
      "2025-06-21 00:40:52.944462: I tensorflow/core/platform/cpu_feature_guard.cc:210] This TensorFlow binary is optimized to use available CPU instructions in performance-critical operations.\n",
      "To enable the following instructions: AVX2 AVX512F AVX512_VNNI FMA, in other operations, rebuild TensorFlow with the appropriate compiler flags.\n",
      "2025-06-21 00:40:55.106375: E external/local_xla/xla/stream_executor/cuda/cuda_platform.cc:51] failed call to cuInit: INTERNAL: CUDA error: Failed call to cuInit: UNKNOWN ERROR (303)\n",
      "2025-06-21 00:40:55.106375: E external/local_xla/xla/stream_executor/cuda/cuda_platform.cc:51] failed call to cuInit: INTERNAL: CUDA error: Failed call to cuInit: UNKNOWN ERROR (303)\n",
      "2025-06-21 00:40:55.400663: I tensorflow/core/framework/local_rendezvous.cc:407] Local rendezvous is aborting with status: OUT_OF_RANGE: End of sequence\n",
      ".\n",
      "----------------------------------------------------------------------\n",
      "Ran 1 test in 0.297s\n",
      "\n",
      "OK\n",
      "2025-06-21 00:40:55.400663: I tensorflow/core/framework/local_rendezvous.cc:407] Local rendezvous is aborting with status: OUT_OF_RANGE: End of sequence\n",
      ".\n",
      "----------------------------------------------------------------------\n",
      "Ran 1 test in 0.297s\n",
      "\n",
      "OK\n"
     ]
    }
   ],
   "source": [
    "!python -m unittest -b tests.test_corpus_to_dataset"
   ]
  },
  {
   "cell_type": "code",
   "execution_count": 4,
   "id": "fb216b5f",
   "metadata": {},
   "outputs": [
    {
     "name": "stdout",
     "output_type": "stream",
     "text": [
      "2025-06-21 00:40:56.420920: I tensorflow/core/util/port.cc:153] oneDNN custom operations are on. You may see slightly different numerical results due to floating-point round-off errors from different computation orders. To turn them off, set the environment variable `TF_ENABLE_ONEDNN_OPTS=0`.\n",
      "2025-06-21 00:40:56.434513: E external/local_xla/xla/stream_executor/cuda/cuda_fft.cc:467] Unable to register cuFFT factory: Attempting to register factory for plugin cuFFT when one has already been registered\n",
      "WARNING: All log messages before absl::InitializeLog() is called are written to STDERR\n",
      "E0000 00:00:1750480856.450534 3902645 cuda_dnn.cc:8579] Unable to register cuDNN factory: Attempting to register factory for plugin cuDNN when one has already been registered\n",
      "E0000 00:00:1750480856.455334 3902645 cuda_blas.cc:1407] Unable to register cuBLAS factory: Attempting to register factory for plugin cuBLAS when one has already been registered\n",
      "W0000 00:00:1750480856.468235 3902645 computation_placer.cc:177] computation placer already registered. Please check linkage and avoid linking the same target more than once.\n",
      "W0000 00:00:1750480856.468255 3902645 computation_placer.cc:177] computation placer already registered. Please check linkage and avoid linking the same target more than once.\n",
      "W0000 00:00:1750480856.468258 3902645 computation_placer.cc:177] computation placer already registered. Please check linkage and avoid linking the same target more than once.\n",
      "W0000 00:00:1750480856.468261 3902645 computation_placer.cc:177] computation placer already registered. Please check linkage and avoid linking the same target more than once.\n",
      "2025-06-21 00:40:56.472076: I tensorflow/core/platform/cpu_feature_guard.cc:210] This TensorFlow binary is optimized to use available CPU instructions in performance-critical operations.\n",
      "To enable the following instructions: AVX2 AVX512F AVX512_VNNI FMA, in other operations, rebuild TensorFlow with the appropriate compiler flags.\n",
      "W0000 00:00:1750480856.468235 3902645 computation_placer.cc:177] computation placer already registered. Please check linkage and avoid linking the same target more than once.\n",
      "W0000 00:00:1750480856.468255 3902645 computation_placer.cc:177] computation placer already registered. Please check linkage and avoid linking the same target more than once.\n",
      "W0000 00:00:1750480856.468258 3902645 computation_placer.cc:177] computation placer already registered. Please check linkage and avoid linking the same target more than once.\n",
      "W0000 00:00:1750480856.468261 3902645 computation_placer.cc:177] computation placer already registered. Please check linkage and avoid linking the same target more than once.\n",
      "2025-06-21 00:40:56.472076: I tensorflow/core/platform/cpu_feature_guard.cc:210] This TensorFlow binary is optimized to use available CPU instructions in performance-critical operations.\n",
      "To enable the following instructions: AVX2 AVX512F AVX512_VNNI FMA, in other operations, rebuild TensorFlow with the appropriate compiler flags.\n",
      "2025-06-21 00:40:58.628859: E external/local_xla/xla/stream_executor/cuda/cuda_platform.cc:51] failed call to cuInit: INTERNAL: CUDA error: Failed call to cuInit: UNKNOWN ERROR (303)\n",
      "2025-06-21 00:40:58.628859: E external/local_xla/xla/stream_executor/cuda/cuda_platform.cc:51] failed call to cuInit: INTERNAL: CUDA error: Failed call to cuInit: UNKNOWN ERROR (303)\n",
      "2025-06-21 00:40:58.766740: I tensorflow/core/framework/local_rendezvous.cc:407] Local rendezvous is aborting with status: OUT_OF_RANGE: End of sequence\n",
      ".2025-06-21 00:40:58.766740: I tensorflow/core/framework/local_rendezvous.cc:407] Local rendezvous is aborting with status: OUT_OF_RANGE: End of sequence\n",
      "..\n",
      "----------------------------------------------------------------------\n",
      "Ran 2 tests in 0.151s\n",
      "\n",
      "OK\n",
      ".\n",
      "----------------------------------------------------------------------\n",
      "Ran 2 tests in 0.151s\n",
      "\n",
      "OK\n"
     ]
    }
   ],
   "source": [
    "!python -m unittest -b tests.test_index_vocab"
   ]
  },
  {
   "cell_type": "code",
   "execution_count": 5,
   "id": "d9d290ab",
   "metadata": {},
   "outputs": [
    {
     "name": "stdout",
     "output_type": "stream",
     "text": [
      "2025-06-21 00:40:59.807210: I tensorflow/core/util/port.cc:153] oneDNN custom operations are on. You may see slightly different numerical results due to floating-point round-off errors from different computation orders. To turn them off, set the environment variable `TF_ENABLE_ONEDNN_OPTS=0`.\n",
      "2025-06-21 00:40:59.820766: E external/local_xla/xla/stream_executor/cuda/cuda_fft.cc:467] Unable to register cuFFT factory: Attempting to register factory for plugin cuFFT when one has already been registered\n",
      "WARNING: All log messages before absl::InitializeLog() is called are written to STDERR\n",
      "E0000 00:00:1750480859.836531 3902688 cuda_dnn.cc:8579] Unable to register cuDNN factory: Attempting to register factory for plugin cuDNN when one has already been registered\n",
      "E0000 00:00:1750480859.841335 3902688 cuda_blas.cc:1407] Unable to register cuBLAS factory: Attempting to register factory for plugin cuBLAS when one has already been registered\n",
      "W0000 00:00:1750480859.854048 3902688 computation_placer.cc:177] computation placer already registered. Please check linkage and avoid linking the same target more than once.\n",
      "W0000 00:00:1750480859.854073 3902688 computation_placer.cc:177] computation placer already registered. Please check linkage and avoid linking the same target more than once.\n",
      "W0000 00:00:1750480859.854075 3902688 computation_placer.cc:177] computation placer already registered. Please check linkage and avoid linking the same target more than once.\n",
      "W0000 00:00:1750480859.854078 3902688 computation_placer.cc:177] computation placer already registered. Please check linkage and avoid linking the same target more than once.\n",
      "2025-06-21 00:40:59.857872: I tensorflow/core/platform/cpu_feature_guard.cc:210] This TensorFlow binary is optimized to use available CPU instructions in performance-critical operations.\n",
      "To enable the following instructions: AVX2 AVX512F AVX512_VNNI FMA, in other operations, rebuild TensorFlow with the appropriate compiler flags.\n",
      "W0000 00:00:1750480859.854048 3902688 computation_placer.cc:177] computation placer already registered. Please check linkage and avoid linking the same target more than once.\n",
      "W0000 00:00:1750480859.854073 3902688 computation_placer.cc:177] computation placer already registered. Please check linkage and avoid linking the same target more than once.\n",
      "W0000 00:00:1750480859.854075 3902688 computation_placer.cc:177] computation placer already registered. Please check linkage and avoid linking the same target more than once.\n",
      "W0000 00:00:1750480859.854078 3902688 computation_placer.cc:177] computation placer already registered. Please check linkage and avoid linking the same target more than once.\n",
      "2025-06-21 00:40:59.857872: I tensorflow/core/platform/cpu_feature_guard.cc:210] This TensorFlow binary is optimized to use available CPU instructions in performance-critical operations.\n",
      "To enable the following instructions: AVX2 AVX512F AVX512_VNNI FMA, in other operations, rebuild TensorFlow with the appropriate compiler flags.\n",
      "test_basic_triplet_generation (tests.test_dataset_to_triplets.TestDatasetToTriplets.test_basic_triplet_generation)\n",
      "Test that triplets are generated with correct structure. ... 2025-06-21 00:41:02.021831: E external/local_xla/xla/stream_executor/cuda/cuda_platform.cc:51] failed call to cuInit: INTERNAL: CUDA error: Failed call to cuInit: UNKNOWN ERROR (303)\n",
      "test_basic_triplet_generation (tests.test_dataset_to_triplets.TestDatasetToTriplets.test_basic_triplet_generation)\n",
      "Test that triplets are generated with correct structure. ... 2025-06-21 00:41:02.021831: E external/local_xla/xla/stream_executor/cuda/cuda_platform.cc:51] failed call to cuInit: INTERNAL: CUDA error: Failed call to cuInit: UNKNOWN ERROR (303)\n",
      "2025-06-21 00:41:02.314831: I tensorflow/core/framework/local_rendezvous.cc:407] Local rendezvous is aborting with status: OUT_OF_RANGE: End of sequence\n",
      "ok\n",
      "test_center_word_extraction (tests.test_dataset_to_triplets.TestDatasetToTriplets.test_center_word_extraction)\n",
      "Test that center words are correctly extracted (3rd token). ... 2025-06-21 00:41:02.314831: I tensorflow/core/framework/local_rendezvous.cc:407] Local rendezvous is aborting with status: OUT_OF_RANGE: End of sequence\n",
      "ok\n",
      "test_center_word_extraction (tests.test_dataset_to_triplets.TestDatasetToTriplets.test_center_word_extraction)\n",
      "Test that center words are correctly extracted (3rd token). ... 2025-06-21 00:41:02.430636: I tensorflow/core/framework/local_rendezvous.cc:407] Local rendezvous is aborting with status: OUT_OF_RANGE: End of sequence\n",
      "ok\n",
      "test_context_word_extraction (tests.test_dataset_to_triplets.TestDatasetToTriplets.test_context_word_extraction)\n",
      "Test that positive words come from context positions. ... 2025-06-21 00:41:02.430636: I tensorflow/core/framework/local_rendezvous.cc:407] Local rendezvous is aborting with status: OUT_OF_RANGE: End of sequence\n",
      "ok\n",
      "test_context_word_extraction (tests.test_dataset_to_triplets.TestDatasetToTriplets.test_context_word_extraction)\n",
      "Test that positive words come from context positions. ... ok\n",
      "test_multiple_triplets_per_line (tests.test_dataset_to_triplets.TestDatasetToTriplets.test_multiple_triplets_per_line)\n",
      "Test that multiple triplets are generated per valid line. ... ok\n",
      "test_multiple_triplets_per_line (tests.test_dataset_to_triplets.TestDatasetToTriplets.test_multiple_triplets_per_line)\n",
      "Test that multiple triplets are generated per valid line. ... 2025-06-21 00:41:02.652343: I tensorflow/core/framework/local_rendezvous.cc:407] Local rendezvous is aborting with status: OUT_OF_RANGE: End of sequence\n",
      "ok\n",
      "test_negative_sampling_range (tests.test_dataset_to_triplets.TestDatasetToTriplets.test_negative_sampling_range)\n",
      "Test that negative samples are in the correct range. ... 2025-06-21 00:41:02.652343: I tensorflow/core/framework/local_rendezvous.cc:407] Local rendezvous is aborting with status: OUT_OF_RANGE: End of sequence\n",
      "ok\n",
      "test_negative_sampling_range (tests.test_dataset_to_triplets.TestDatasetToTriplets.test_negative_sampling_range)\n",
      "Test that negative samples are in the correct range. ... ok\n",
      "test_no_unk_centers (tests.test_dataset_to_triplets.TestDatasetToTriplets.test_no_unk_centers)\n",
      "Test that UNK tokens are never used as center words. ... ok\n",
      "test_no_unk_centers (tests.test_dataset_to_triplets.TestDatasetToTriplets.test_no_unk_centers)\n",
      "Test that UNK tokens are never used as center words. ... ok\n",
      "\n",
      "----------------------------------------------------------------------\n",
      "Ran 6 tests in 0.859s\n",
      "\n",
      "OK\n",
      "ok\n",
      "\n",
      "----------------------------------------------------------------------\n",
      "Ran 6 tests in 0.859s\n",
      "\n",
      "OK\n"
     ]
    }
   ],
   "source": [
    "!python -m unittest -v tests.test_dataset_to_triplets"
   ]
  },
  {
   "cell_type": "code",
   "execution_count": null,
   "id": "233685ad",
   "metadata": {},
   "outputs": [
    {
     "name": "stdout",
     "output_type": "stream",
     "text": [
      "CORPUS FILE:  /vast/edk202/NLP_corpora/Google_Books/20200217/eng-fiction/5gram_files/6corpus/yearly_files/data/1900.txt \n",
      "\n"
     ]
    },
    {
     "name": "stderr",
     "output_type": "stream",
     "text": [
      "2025-06-21 00:42:29.982916: E external/local_xla/xla/stream_executor/cuda/cuda_platform.cc:51] failed call to cuInit: INTERNAL: CUDA error: Failed call to cuInit: UNKNOWN ERROR (303)\n"
     ]
    }
   ],
   "source": [
    "# Corpus file information\n",
    "corpus_file = \"1900.txt\"\n",
    "corpus_dir = \"/vast/edk202/NLP_corpora/Google_Books/20200217/eng-fiction/5gram_files/6corpus/yearly_files/data\"\n",
    "corpus_path = os.path.join(corpus_dir, corpus_file)\n",
    "file_size = os.path.getsize(corpus_path) / 1024 / 1024\n",
    "print(\"CORPUS FILE: \", corpus_path, \"\\n\")\n",
    "\n",
    "# Load and filter the corpus\n",
    "start = time.time()\n",
    "dataset, _ = make_dataset(corpus_path)\n",
    "duration_load = time.time() - start\n",
    "rate_load = file_size / duration_load\n",
    "dataset = dataset.cache()\n",
    "\n",
    "# Build the vocabulary from the dataset\n",
    "start = time.time()\n",
    "vocab_table = make_vocab(dataset)\n",
    "duration_vocab = time.time() - start\n",
    "rate_vocab = file_size / duration_vocab\n",
    "\n",
    "# Make triplets from the dataset and vocabulary table\n",
    "start = time.time()\n",
    "triplets_ds = build_skipgram_triplets(dataset, vocab_table)\n",
    "duration_triplets = time.time() - start\n",
    "rate_triplets = file_size / duration_triplets\n",
    "\n",
    "# Benchmarking output\n",
    "print(\"[--    Benchmarks    --]\\n\")\n",
    "print(f\"{'Step':<35}{'Duration':>10}{'Quantity':>21}{'Rate':>21}\")\n",
    "print(\"-\" * 87)\n",
    "print(f\"{'Corpus loading and filtering':<35}{duration_load:8,.2f}{'s':>2}{file_size:18,.2f}{'MB':>3}{rate_load:16,.2f}{'MB/s':>5}\")\n",
    "print(f\"{'Vocabulary creation':<35}{duration_vocab:8,.2f}{'s':>2}{file_size:18,.2f}{'MB':>3}{rate_vocab:16,.2f}{'MB/s':>5}\")\n",
    "print(f\"{'Triplet generation':<35}{duration_triplets:8,.2f}{'s':>2}{file_size:18,.2f}{'MB':>3}{rate_triplets:16,.2f}{'MB/s':>5}\")\n",
    "\n",
    "# Create reverse lookup from vocab table once at the beginning\n",
    "vocab_export = vocab_table.export()\n",
    "vocab_keys = vocab_export[0].numpy()\n",
    "vocab_values = vocab_export[1].numpy()\n",
    "index_to_word = {idx: word.decode('utf-8') for word, idx in zip(vocab_keys, vocab_values)}\n",
    "\n",
    "# Show sample lines (use a fresh iterator)\n",
    "print(\"\\n[--   Sample Lines   --]\\n\")\n",
    "sample_lines = list(dataset.shuffle(1000, seed=42).take(5).as_numpy_iterator())\n",
    "for line_bytes in sample_lines:\n",
    "    print(line_bytes.decode(\"utf-8\"))\n",
    "\n",
    "# Test the vocab table with example words\n",
    "print(\"\\n[--    Test Words    --]\\n\")\n",
    "test_words = [\"UNK\", \"man\", \"king\", \"nonexistentword\"]\n",
    "ids = vocab_table.lookup(tf.constant(test_words)).numpy()\n",
    "print(f\"{'Word':<18} {'ID':>6}\")\n",
    "print(\"-\" * 25)\n",
    "for word, idx in zip(test_words, ids):\n",
    "    print(f\"{word:<18} {idx:>6}\")\n",
    "\n",
    "# Show sample triplets\n",
    "print(\"\\n[--  Sample Triplets  --]\\n\")\n",
    "print(f\"{'Center':<8} {'Center Word':<12} {'Positive':<8} {'Pos Word':<12} {'Negative':<8} {'Neg Word':<12}\")\n",
    "print(\"-\" * 75)\n",
    "\n",
    "# Get sample triplets (use a fresh iterator with seed for reproducibility)\n",
    "sample_triplets = list(triplets_ds.shuffle(1000, seed=123).take(5).as_numpy_iterator())\n",
    "for triplet in sample_triplets:\n",
    "    center, positive, negative = triplet\n",
    "    center_word = index_to_word.get(center, f\"ID_{center}\")\n",
    "    pos_word = index_to_word.get(positive, f\"ID_{positive}\")\n",
    "    neg_word = index_to_word.get(negative, f\"ID_{negative}\")\n",
    "    print(f\"{center:<8} {center_word:<12} {positive:<8} {pos_word:<12} {negative:<8} {neg_word:<12}\")\n"
   ]
  },
  {
   "cell_type": "code",
   "execution_count": null,
   "id": "4ed5079f",
   "metadata": {},
   "outputs": [],
   "source": []
  }
 ],
 "metadata": {
  "kernelspec": {
   "display_name": "Remote kernel: word2gm-fast2",
   "language": "python",
   "name": "word2gm-fast2"
  },
  "language_info": {
   "codemirror_mode": {
    "name": "ipython",
    "version": 3
   },
   "file_extension": ".py",
   "mimetype": "text/x-python",
   "name": "python",
   "nbconvert_exporter": "python",
   "pygments_lexer": "ipython3",
   "version": "3.12.11"
  }
 },
 "nbformat": 4,
 "nbformat_minor": 5
}
