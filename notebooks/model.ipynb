{
 "cells": [
  {
   "cell_type": "code",
   "execution_count": 34,
   "id": "39454b3c",
   "metadata": {},
   "outputs": [],
   "source": [
    "import os\n",
    "import sys\n",
    "\n",
    "os.chdir('/scratch/edk202/word2gm-fast/notebooks')\n",
    "sys.path.append('../src/word2gm_fast')\n",
    "sys.path.append('../')\n",
    "\n",
    "import dataprep.load_and_filter_corpus\n",
    "import tests.test_load_and_filter_corpus"
   ]
  },
  {
   "cell_type": "code",
   "execution_count": 35,
   "id": "213f3258",
   "metadata": {},
   "outputs": [
    {
     "name": "stderr",
     "output_type": "stream",
     "text": [
      "2025-06-18 21:19:07.658233: E external/local_xla/xla/stream_executor/cuda/cuda_platform.cc:51] failed call to cuInit: INTERNAL: CUDA error: Failed call to cuInit: UNKNOWN ERROR (303)\n",
      "2025-06-18 21:19:09.183944: I tensorflow/core/framework/local_rendezvous.cc:407] Local rendezvous is aborting with status: OUT_OF_RANGE: End of sequence\n",
      "F\n",
      "======================================================================\n",
      "FAIL: test_load_and_filter (__main__.TestLoadAndFilterCorpus.test_load_and_filter)\n",
      "----------------------------------------------------------------------\n",
      "Traceback (most recent call last):\n",
      "  File \"/scratch/edk202/word2gm-fast/tests/test_load_and_filter_corpus.py\", line 31, in test_load_and_filter\n",
      "    self.assertCountEqual(result_lines, self.valid_lines)\n",
      "AssertionError: Element counts were not equal:\n",
      "First has 1, Second has 0:  'UNK quick brown fox jumps'\n",
      "\n",
      "----------------------------------------------------------------------\n",
      "Ran 1 test in 1.548s\n",
      "\n",
      "FAILED (failures=1)\n"
     ]
    },
    {
     "data": {
      "text/plain": [
       "<unittest.runner.TextTestResult run=1 errors=0 failures=1>"
      ]
     },
     "execution_count": 35,
     "metadata": {},
     "output_type": "execute_result"
    }
   ],
   "source": [
    "suite = unittest.TestLoader().loadTestsFromTestCase(TestLoadAndFilterCorpus)\n",
    "unittest.TextTestRunner().run(suite)"
   ]
  },
  {
   "cell_type": "code",
   "execution_count": null,
   "id": "39fbaa21",
   "metadata": {},
   "outputs": [],
   "source": []
  }
 ],
 "metadata": {
  "kernelspec": {
   "display_name": "Remote kernel: word2gm-fast2",
   "language": "python",
   "name": "word2gm-fast2"
  },
  "language_info": {
   "codemirror_mode": {
    "name": "ipython",
    "version": 3
   },
   "file_extension": ".py",
   "mimetype": "text/x-python",
   "name": "python",
   "nbconvert_exporter": "python",
   "pygments_lexer": "ipython3",
   "version": "3.12.11"
  }
 },
 "nbformat": 4,
 "nbformat_minor": 5
}
