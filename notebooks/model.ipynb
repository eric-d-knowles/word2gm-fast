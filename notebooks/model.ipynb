{
 "cells": [
  {
   "cell_type": "code",
   "execution_count": 21,
   "id": "39454b3c",
   "metadata": {},
   "outputs": [],
   "source": [
    "import os\n",
    "import sys\n",
    "\n",
    "os.chdir('/scratch/edk202/word2gm-fast/notebooks')\n",
    "sys.path.append('../src/word2gm_fast')\n",
    "sys.path.append('../')\n",
    "\n",
    "import dataprep.load_and_filter_corpus\n",
    "from tests.test_load_and_filter_corpus import TestLoadAndFilterCorpus"
   ]
  },
  {
   "cell_type": "code",
   "execution_count": 22,
   "id": "0779c2e5",
   "metadata": {},
   "outputs": [
    {
     "name": "stdout",
     "output_type": "stream",
     "text": [
      "E\n",
      "======================================================================\n",
      "ERROR: test_load_and_filter_corpus (unittest.loader._FailedTest.test_load_and_filter_corpus)\n",
      "----------------------------------------------------------------------\n",
      "ImportError: Failed to import test module: test_load_and_filter_corpus\n",
      "Traceback (most recent call last):\n",
      "  File \"/ext3/miniforge3/envs/word2gm-fast2/lib/python3.12/unittest/loader.py\", line 137, in loadTestsFromName\n",
      "    module = __import__(module_name)\n",
      "             ^^^^^^^^^^^^^^^^^^^^^^^\n",
      "ModuleNotFoundError: No module named 'test_load_and_filter_corpus'\n",
      "\n",
      "\n",
      "----------------------------------------------------------------------\n",
      "Ran 1 test in 0.000s\n",
      "\n",
      "FAILED (errors=1)\n"
     ]
    }
   ],
   "source": [
    "!python -m unittest test_load_and_filter_corpus"
   ]
  },
  {
   "cell_type": "code",
   "execution_count": null,
   "id": "fe0a35d5",
   "metadata": {},
   "outputs": [],
   "source": []
  }
 ],
 "metadata": {
  "kernelspec": {
   "display_name": "Remote kernel: word2gm-fast2",
   "language": "python",
   "name": "word2gm-fast2"
  },
  "language_info": {
   "codemirror_mode": {
    "name": "ipython",
    "version": 3
   },
   "file_extension": ".py",
   "mimetype": "text/x-python",
   "name": "python",
   "nbconvert_exporter": "python",
   "pygments_lexer": "ipython3",
   "version": "3.12.11"
  }
 },
 "nbformat": 4,
 "nbformat_minor": 5
}
