{
 "cells": [
  {
   "cell_type": "markdown",
   "id": "e5db9a1b",
   "metadata": {},
   "source": [
    "## Test `load_and_filter_corpus`\n",
    "\n",
    "This notebook demonstrates how to test the function interactively."
   ]
  },
  {
   "cell_type": "code",
   "execution_count": null,
   "id": "88081be8",
   "metadata": {},
   "outputs": [
    {
     "ename": "",
     "evalue": "",
     "output_type": "error",
     "traceback": [
      "\u001b[1;31mFailed to connect to the remote Jupyter Server 'http://127.0.0.1:8888/'. Verify the server is running and reachable. ('_xsrf' argument missing from POST)."
     ]
    }
   ],
   "source": [
    "import tempfile\n",
    "import tensorflow as tf\n",
    "from src.word2gm_fast.dataprep.load_and_filter_corpus import load_and_filter_corpus\n",
    "\n",
    "# Prepare test data\n",
    "lines = [\n",
    "    \"the quick brown fox jumps\\n\",      # valid\n",
    "    \"UNK quick brown fox jumps\\n\",      # invalid (center is UNK)\n",
    "    \"the quick brown UNK jumps\\n\",      # valid (context has at least one non-UNK)\n",
    "    \"the quick brown fox UNK\\n\",        # valid (context has at least one non-UNK)\n",
    "    \"UNK UNK UNK UNK UNK\\n\"             # invalid (all UNK)\n",
    "]\n",
    "valid_lines = [\n",
    "    \"the quick brown fox jumps\",\n",
    "    \"the quick brown UNK jumps\",\n",
    "    \"the quick brown fox UNK\"\n",
    "]\n",
    "\n",
    "# Write to a temporary file\n",
    "with tempfile.NamedTemporaryFile(mode='w+', delete=False) as temp_file:\n",
    "    temp_file.writelines(lines)\n",
    "    temp_file.flush()\n",
    "    temp_path = temp_file.name"
   ]
  },
  {
   "cell_type": "code",
   "execution_count": null,
   "id": "ceba93a9",
   "metadata": {},
   "outputs": [],
   "source": [
    "# Run the function and collect results\n",
    "dataset, summary = load_and_filter_corpus(temp_path)\n",
    "result_lines = [line.numpy().decode(\"utf-8\") for line in dataset]\n",
    "\n",
    "print(\"Filtered lines:\", result_lines)\n",
    "print(\"Summary:\", summary)"
   ]
  },
  {
   "cell_type": "code",
   "execution_count": null,
   "id": "e63bf7b9",
   "metadata": {},
   "outputs": [],
   "source": [
    "# Assertions (will raise AssertionError if test fails)\n",
    "assert set(result_lines) == set(valid_lines), \"Filtered lines do not match expected valid lines.\"\n",
    "assert isinstance(summary, dict)\n",
    "assert summary[\"retained\"] == 3\n",
    "assert summary[\"rejected\"] == 2\n",
    "assert summary[\"total\"] == 5\n",
    "print(\"All assertions passed!\")"
   ]
  }
 ],
 "metadata": {
  "kernelspec": {
   "display_name": "Remote kernel: word2gm-fast2",
   "language": "python",
   "name": "word2gm-fast2"
  }
 },
 "nbformat": 4,
 "nbformat_minor": 5
}
