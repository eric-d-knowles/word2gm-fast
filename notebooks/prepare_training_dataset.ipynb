{
 "cells": [
  {
   "cell_type": "markdown",
   "id": "9d3ce6ba",
   "metadata": {},
   "source": [
    "# Word2GM Training Data Pipeline\n",
    "\n",
    "**Pipeline: Corpus file → TFRecord training artifacts (triplets and vocabulary)**\n",
    "\n",
    "Use this notebook to prepare a Google 5gram corpora for Word2GM skip-gram training.\n",
    "\n",
    "## Pipeline Workflow\n",
    "\n",
    "1. **Input**: Preprocessed corpus file (e.g., `2019.txt`) in `/vast` NVMe storage\n",
    "2. **Processing**: TensorFlow-native filtering, vocabulary building, and triplet generation\n",
    "3. **Output**: TFRecord artifacts in organized subdirectories (e.g., `2019_artifacts/`)\n",
    "\n",
    "### **Artifact Storage**\n",
    "The pipeline creates year-specific subdirectories alongside the original text corpora:\n",
    "<pre>\n",
    "/vast/edk202/NLP_corpora/.../data/\n",
    "├── 2018.txt\n",
    "├── 2019.txt\n",
    "├── 2020.txt\n",
    "├── 2018_artifacts/\n",
    "│   ├── triplets.tfrecord.gz\n",
    "│   └── vocab.tfrecord.gz\n",
    "├── 2019_artifacts/\n",
    "│   ├── triplets.tfrecord.gz\n",
    "│   └── vocab.tfrecord.gz\n",
    "└── 2020_artifacts/\n",
    "    ├── triplets.tfrecord.gz\n",
    "    └── vocab.tfrecord.gz\n",
    "</pre>"
   ]
  },
  {
   "cell_type": "code",
   "execution_count": 1,
   "id": "58ad9e16",
   "metadata": {},
   "outputs": [
    {
     "name": "stdout",
     "output_type": "stream",
     "text": [
      "Autoreload enabled; modules will update automatically when files change\n",
      "TensorFlow 2.19.0 imported silently\n",
      "All pipeline modules loaded successfully\n",
      "Ready to process corpus and generate training data\n"
     ]
    }
   ],
   "source": [
    "import os\n",
    "import sys\n",
    "import time\n",
    "from pathlib import Path\n",
    "\n",
    "# Enable automatic reloading of changed modules\n",
    "%load_ext autoreload\n",
    "%autoreload 2\n",
    "print(\"Autoreload enabled; modules will update automatically when files change\")\n",
    "\n",
    "# Change to project directory\n",
    "os.chdir('/scratch/edk202/word2gm-fast/notebooks')\n",
    "os.chdir(\"..\")\n",
    "\n",
    "# Clean TensorFlow import with complete silencing\n",
    "from src.word2gm_fast.utils import import_tensorflow_silently\n",
    "\n",
    "tf = import_tensorflow_silently(deterministic=False)\n",
    "print(f\"TensorFlow {tf.__version__} imported silently\")\n",
    "\n",
    "# Import optimized data pipeline modules\n",
    "from src.word2gm_fast.dataprep.pipeline import batch_prepare_training_data\n",
    "\n",
    "print(\"All pipeline modules loaded successfully\")\n",
    "print(\"Ready to process corpus and generate training data\")"
   ]
  },
  {
   "cell_type": "markdown",
   "id": "36301858",
   "metadata": {},
   "source": [
    "## Prepare one or more corpora in parallel "
   ]
  },
  {
   "cell_type": "code",
   "execution_count": null,
   "id": "5e4e2724",
   "metadata": {},
   "outputs": [
    {
     "name": "stdout",
     "output_type": "stream",
     "text": [
      "\n",
      "=================================================================\n",
      "PARALLEL BATCH PROCESSING\n",
      "=================================================================\n",
      "Processing 72 years\n",
      "Using 14 parallel workers\n",
      "Estimated speedup: 14.0x\n",
      "=================================================================\n",
      "1837 complete (1/72): 1,235,211 triplets, 25,101 vocab, 696.1s\n",
      "1835 complete (2/72): 1,433,895 triplets, 25,335 vocab, 784.3s\n",
      "1830 complete (3/72): 1,503,816 triplets, 25,450 vocab, 790.3s\n",
      "1838 complete (4/72): 1,502,966 triplets, 26,324 vocab, 796.9s\n",
      "1841 complete (5/72): 1,698,066 triplets, 26,666 vocab, 894.3s\n",
      "1833 complete (6/72): 1,729,847 triplets, 26,916 vocab, 952.3s\n",
      "1831 complete (7/72): 1,993,305 triplets, 27,548 vocab, 1037.5s\n",
      "1840 complete (8/72): 2,031,941 triplets, 27,640 vocab, 1070.1s\n",
      "1829 complete (9/72): 2,057,033 triplets, 27,319 vocab, 1071.2s\n",
      "1832 complete (10/72): 2,185,572 triplets, 27,982 vocab, 1149.1s\n",
      "1836 complete (11/72): 2,299,374 triplets, 29,166 vocab, 1218.5s\n",
      "1834 complete (12/72): 2,415,856 triplets, 28,853 vocab, 1286.2s\n",
      "1839 complete (13/72): 2,443,839 triplets, 30,160 vocab, 1319.2s\n",
      "1842 complete (14/72): 3,485,500 triplets, 32,456 vocab, 1864.5s\n",
      "1843 complete (15/72): 2,206,785 triplets, 29,418 vocab, 1198.5s\n",
      "1844 complete (16/72): 2,152,821 triplets, 29,014 vocab, 1161.1s\n",
      "1846 complete (17/72): 2,274,030 triplets, 29,618 vocab, 1219.8s\n",
      "1845 complete (18/72): 2,279,473 triplets, 29,980 vocab, 1240.8s\n",
      "1848 complete (19/72): 2,192,095 triplets, 29,711 vocab, 1214.9s\n",
      "1847 complete (20/72): 2,386,820 triplets, 30,204 vocab, 1279.7s\n",
      "1849 complete (21/72): 2,608,182 triplets, 31,463 vocab, 1415.5s\n",
      "1851 complete (22/72): 2,768,805 triplets, 31,698 vocab, 1509.0s\n",
      "1850 complete (23/72): 3,249,693 triplets, 33,668 vocab, 1780.5s\n",
      "1854 complete (24/72): 2,896,647 triplets, 31,946 vocab, 1570.6s\n",
      "1853 complete (25/72): 3,649,284 triplets, 33,576 vocab, 1953.6s\n",
      "1852 complete (26/72): 3,979,219 triplets, 33,721 vocab, 2095.3s\n",
      "1855 complete (27/72): 3,661,689 triplets, 34,384 vocab, 1947.7s\n",
      "1862 complete (28/72): 2,403,092 triplets, 31,145 vocab, 1243.7s\n",
      "1861 complete (29/72): 2,395,183 triplets, 30,220 vocab, 1305.6s\n",
      "1856 complete (30/72): 3,981,571 triplets, 34,339 vocab, 2057.2s\n",
      "1858 complete (31/72): 4,037,071 triplets, 34,565 vocab, 2068.9s\n",
      "1863 complete (32/72): 2,931,099 triplets, 32,687 vocab, 1564.5s\n",
      "1857 complete (33/72): 4,200,755 triplets, 35,272 vocab, 2192.7s\n",
      "1860 complete (34/72): 4,263,485 triplets, 35,025 vocab, 2177.8s\n",
      "1859 complete (35/72): 4,659,235 triplets, 35,500 vocab, 2444.0s\n",
      "1864 complete (36/72): 4,092,093 triplets, 35,243 vocab, 2123.1s\n",
      "1865 complete (37/72): 3,606,627 triplets, 34,393 vocab, 1932.7s\n",
      "1866 complete (38/72): 4,204,115 triplets, 36,335 vocab, 2221.9s\n",
      "1867 complete (39/72): 4,445,102 triplets, 36,267 vocab, 2279.2s\n",
      "1869 complete (40/72): 4,397,805 triplets, 36,945 vocab, 2264.8s\n",
      "1874 complete (41/72): 3,330,864 triplets, 34,016 vocab, 1716.2s\n",
      "1868 complete (42/72): 5,156,129 triplets, 37,358 vocab, 2600.7s\n",
      "1871 complete (43/72): 5,237,769 triplets, 38,099 vocab, 2613.0s\n",
      "1870 complete (44/72): 5,255,033 triplets, 37,773 vocab, 2684.4s\n",
      "1872 complete (45/72): 4,234,946 triplets, 36,579 vocab, 2185.4s\n",
      "1873 complete (46/72): 4,329,547 triplets, 35,593 vocab, 2197.0s\n",
      "1877 complete (47/72): 4,221,284 triplets, 35,932 vocab, 2234.2s\n",
      "1875 complete (48/72): 5,144,351 triplets, 38,196 vocab, 2655.2s\n",
      "1878 complete (49/72): 3,988,463 triplets, 36,910 vocab, 2085.6s\n",
      "1876 complete (50/72): 5,515,306 triplets, 38,618 vocab, 2902.3s\n",
      "1882 complete (51/72): 4,039,159 triplets, 36,606 vocab, 2215.5s\n",
      "1881 complete (52/72): 4,380,056 triplets, 37,564 vocab, 2324.1s\n",
      "1879 complete (53/72): 5,769,273 triplets, 39,394 vocab, 3060.0s\n",
      "1880 complete (54/72): 7,138,386 triplets, 40,853 vocab, 3691.6s\n",
      "1886 complete (55/72): 5,769,715 triplets, 40,406 vocab, 2921.6s\n",
      "1884 complete (56/72): 6,460,969 triplets, 40,490 vocab, 3261.6s\n",
      "1887 complete (57/72): 6,135,460 triplets, 41,500 vocab, 3103.6s\n",
      "1888 complete (58/72): 6,302,466 triplets, 42,321 vocab, 3181.5s\n",
      "1885 complete (59/72): 6,437,712 triplets, 41,085 vocab, 3309.3s\n"
     ]
    }
   ],
   "source": [
    "# Configuration\n",
    "corpus_dir = \"/vast/edk202/NLP_corpora/Google_Books/20200217/eng-fiction/5gram_files/6corpus/yearly_files/data\"\n",
    "\n",
    "# Process years with optional parallel processing\n",
    "results = batch_prepare_training_data(\n",
    "    corpus_dir=corpus_dir,\n",
    "    year_range=\"1829-1900\",\n",
    "    compress=False,\n",
    "    show_progress=True,\n",
    "    show_summary=True,\n",
    "    use_multiprocessing=True\n",
    ")"
   ]
  },
  {
   "cell_type": "markdown",
   "id": "37e1e8f4",
   "metadata": {},
   "source": []
  }
 ],
 "metadata": {
  "kernelspec": {
   "display_name": "Remote kernel: word2gm-fast2",
   "language": "python",
   "name": "word2gm-fast2"
  },
  "language_info": {
   "codemirror_mode": {
    "name": "ipython",
    "version": 3
   },
   "file_extension": ".py",
   "mimetype": "text/x-python",
   "name": "python",
   "nbconvert_exporter": "python",
   "pygments_lexer": "ipython3",
   "version": "3.12.11"
  }
 },
 "nbformat": 4,
 "nbformat_minor": 5
}
