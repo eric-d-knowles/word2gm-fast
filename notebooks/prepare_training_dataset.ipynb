{
 "cells": [
  {
   "cell_type": "markdown",
   "id": "9d3ce6ba",
   "metadata": {},
   "source": [
    "# Word2GM Training Data Pipeline\n",
    "\n",
    "**Pipeline: Corpus file → TFRecord training artifacts (triplets and vocabulary)**\n",
    "\n",
    "Use this notebook to prepare a Google 5gram corpora for Word2GM skip-gram training.\n",
    "\n",
    "## Pipeline Workflow\n",
    "\n",
    "1. **Input**: Preprocessed corpus file (e.g., `2019.txt`) in `/vast` NVMe storage\n",
    "2. **Processing**: TensorFlow-native filtering, vocabulary building, and triplet generation\n",
    "3. **Output**: TFRecord artifacts in organized subdirectories (e.g., `2019_artifacts/`)\n",
    "\n",
    "### **Artifact Storage**\n",
    "The pipeline creates year-specific subdirectories alongside the original text corpora:\n",
    "<pre>\n",
    "/vast/edk202/NLP_corpora/.../data/\n",
    "├── 2018.txt\n",
    "├── 2019.txt\n",
    "├── 2020.txt\n",
    "├── 2018_artifacts/\n",
    "│   ├── triplets.tfrecord.gz\n",
    "│   └── vocab.tfrecord.gz\n",
    "├── 2019_artifacts/\n",
    "│   ├── triplets.tfrecord.gz\n",
    "│   └── vocab.tfrecord.gz\n",
    "└── 2020_artifacts/\n",
    "    ├── triplets.tfrecord.gz\n",
    "    └── vocab.tfrecord.gz\n",
    "</pre>"
   ]
  },
  {
   "cell_type": "markdown",
   "id": "5d49f604",
   "metadata": {},
   "source": [
    "## Set Up for Data Preparation"
   ]
  },
  {
   "cell_type": "code",
   "execution_count": 1,
   "id": "89181d19",
   "metadata": {},
   "outputs": [
    {
     "data": {
      "text/markdown": [
       "<pre>Autoreload enabled</pre>"
      ],
      "text/plain": [
       "<IPython.core.display.Markdown object>"
      ]
     },
     "metadata": {},
     "output_type": "display_data"
    },
    {
     "data": {
      "text/markdown": [
       "<pre>Project root: /scratch/edk202/word2gm-fast\n",
       "TensorFlow version: 2.19.0\n",
       "Device mode: CPU-only</pre>"
      ],
      "text/plain": [
       "<IPython.core.display.Markdown object>"
      ]
     },
     "metadata": {},
     "output_type": "display_data"
    },
    {
     "data": {
      "text/markdown": [
       "<pre>Data preprocessing environment ready!</pre>"
      ],
      "text/plain": [
       "<IPython.core.display.Markdown object>"
      ]
     },
     "metadata": {},
     "output_type": "display_data"
    }
   ],
   "source": [
    "# Set project root directory and add `src` to path\n",
    "import sys\n",
    "from pathlib import Path\n",
    "\n",
    "PROJECT_ROOT = '/scratch/edk202/word2gm-fast'\n",
    "project_root = Path(PROJECT_ROOT)\n",
    "src_path = project_root / 'src'\n",
    "\n",
    "if str(src_path) not in sys.path:\n",
    "    sys.path.insert(0, str(src_path))\n",
    "\n",
    "# Import the notebook setup utilities\n",
    "from word2gm_fast.utils.notebook_setup import setup_data_preprocessing_notebook, enable_autoreload\n",
    "\n",
    "# Enable autoreload for development\n",
    "enable_autoreload()\n",
    "\n",
    "# Set up environment (CPU-only for data preprocessing)\n",
    "env = setup_data_preprocessing_notebook(project_root=PROJECT_ROOT)\n",
    "\n",
    "# Extract commonly used modules for convenience\n",
    "tf = env['tensorflow']\n",
    "np = env['numpy']\n",
    "pd = env['pandas']\n",
    "batch_prepare_training_data = env['batch_prepare_training_data']\n",
    "print_resource_summary = env['print_resource_summary']"
   ]
  },
  {
   "cell_type": "markdown",
   "id": "0c72a7c6",
   "metadata": {},
   "source": [
    "## Print Resource Summary"
   ]
  },
  {
   "cell_type": "code",
   "execution_count": 2,
   "id": "43483cd6",
   "metadata": {},
   "outputs": [
    {
     "data": {
      "text/markdown": [
       "<pre>SYSTEM RESOURCE SUMMARY\n",
       "============================================================\n",
       "Hostname: cm032.hpc.nyu.edu\n",
       "\n",
       "Job Allocation:\n",
       "   CPUs: 4\n",
       "   Memory: 15.6 GB\n",
       "   Requested partitions: short\n",
       "   Running on: SSH failed: Host key verification failed.\n",
       "   Job ID: 63398538\n",
       "   Node list: cm032\n",
       "\n",
       "GPU Information:\n",
       "   Error: NVML Shared Library Not Found\n",
       "\n",
       "TensorFlow GPU Detection:\n",
       "   TensorFlow detects 0 GPU(s)\n",
       "   Built with CUDA: True\n",
       "============================================================</pre>"
      ],
      "text/plain": [
       "<IPython.core.display.Markdown object>"
      ]
     },
     "metadata": {},
     "output_type": "display_data"
    }
   ],
   "source": [
    "print_resource_summary()"
   ]
  },
  {
   "cell_type": "markdown",
   "id": "36301858",
   "metadata": {},
   "source": [
    "## Prepare Corpora\n",
    "\n",
    "Here, we run the data-preparation pipeline from start to finish — reading preprocessed ngram corpora, generating all valid triplets, extracting the vocabulary, and saving the triplets and vocabulary as `tfrecord` files."
   ]
  },
  {
   "cell_type": "markdown",
   "id": "e14da0c0",
   "metadata": {},
   "source": [
    "### Options for Data Preparation\n",
    "\n",
    "You can control which years are processed and how the batch preparation runs by adjusting the arguments to `batch_prepare_training_data`:\n",
    "\n",
    "**Ways to specify years:**\n",
    "- `year_range=\"2010\"` — Process a single year (e.g., only 2010).\n",
    "- `year_range=\"2010,2012,2015\"` — Process a comma-separated list of years.\n",
    "- `year_range=\"2010-2015\"` — Process a range of years, inclusive (2010 through 2015).\n",
    "- `year_range=\"2010,2012-2014,2016\"` — Combine individual years and ranges (2010, 2012, 2013, 2014, 2016).\n",
    "\n",
    "**Other options:**\n",
    "- `compress` — If `True`, output TFRecords are gzip-compressed. If `False`, output is uncompressed.\n",
    "- `show_progress` — If `True`, display a progress bar for each year.\n",
    "- `show_summary` — If `True`, print a summary of the processed data for each year.\n",
    "- `use_multiprocessing` — If `True`, process years in parallel using multiple CPU cores (recommended for large datasets).\n",
    "\n",
    "See the function docstring or source for more advanced options."
   ]
  },
  {
   "cell_type": "code",
   "execution_count": 3,
   "id": "5e4e2724",
   "metadata": {},
   "outputs": [
    {
     "name": "stdout",
     "output_type": "stream",
     "text": [
      "Requested 201 years, found 10 corpus files.\n",
      "Skipping 191 missing years (showing first 5): 1400, 1401, 1402, 1403, 1404, ...\n",
      "\n",
      "\n",
      "=================================================================\n",
      "PARALLEL BATCH PROCESSING\n",
      "=================================================================\n",
      "Processing 10 years\n",
      "Using 4 parallel workers\n",
      "Estimated speedup: 4.0x\n",
      "=================================================================\n"
     ]
    },
    {
     "name": "stdout",
     "output_type": "stream",
     "text": [
      "1578 failed (1/10): Attempt to convert a value ({'UNK': 0, 'eye': 3, 'fix': 3, 'fleet': 2, 'gentry': 1, 'man': 1, 'mitre': 1, 'near': 1, 'nobility': 1, 'quality': 1, 'street': 1, 'upon': 3}) with an unsupported type (<class 'dict'>) to a Tensor.\n",
      "1579 failed (2/10): Attempt to convert a value ({'UNK': 0, 'acid': 2, 'authorize': 2, 'book': 1, 'buy': 2, 'college': 2, 'facsimile': 2, 'free': 2, 'fund': 1, 'harvard': 1, 'library': 2, 'original': 1, 'paper': 1, 'richmond': 1, 'sheldon': 1, 'xerography': 1}) with an unsupported type (<class 'dict'>) to a Tensor.\n",
      "1583 failed (3/10): Attempt to convert a value ({'UNK': 0, 'abuse': 1, 'addition': 1, 'anatomy': 1, 'august': 2, 'character': 1, 'circumstance': 2, 'complete': 1, 'conclusion': 1, 'edition': 4, 'elizabeth': 1, 'fifth': 1, 'form': 1, 'make': 1, 'may': 2, 'middle': 2, 'number': 1, 'original': 2, 'page': 1, 'presume': 2, 'proper': 1, 'quite': 1, 'reign': 1, 'several': 1, 'think': 1, 'title': 1, 'various': 2}) with an unsupported type (<class 'dict'>) to a Tensor.\n",
      "1590 failed (4/10): Attempt to convert a value ({'UNK': 0, 'ohio': 3, 'present': 2, 'state': 3, 'university': 3}) with an unsupported type (<class 'dict'>) to a Tensor.\n",
      "1595 failed (5/10): Attempt to convert a value ({'UNK': 0, 'abbot': 1, 'abercorn': 1, 'account': 1, 'administration': 1, 'afterward': 1, 'ago': 1, 'albany': 1, 'alexander': 2, 'already': 1, 'also': 1, 'ancient': 2, 'angus': 2, 'appoint': 2, 'arch': 1, 'arran': 2, 'athol': 1, 'augment': 1, 'bed': 1, 'bestow': 1, 'bishop': 4, 'blood': 2, 'breach': 1, 'britain': 2, 'british': 3, 'bruce': 5, 'canterbury': 2, 'carrick': 2, 'chamber': 1, 'chancellor': 1, 'change': 1, 'charles': 8, 'chief': 1, 'civil': 1, 'clerk': 1, 'come': 1, 'command': 1, 'common': 2, 'condition': 1, 'contain': 1, 'council': 1, 'country': 1, 'court': 3, 'crawford': 1, 'create': 3, 'crown': 2, 'david': 1, 'deal': 2, 'death': 2, 'degree': 1, 'descend': 1, 'discharge': 1, 'divide': 2, 'due': 1, 'duke': 6, 'dunmore': 1, 'earl': 26, 'edward': 3, 'eight': 1, 'eldest': 1, 'emperor': 1, 'empire': 3, 'employ': 2, 'england': 13, 'estate': 1, 'every': 1, 'fame': 2, 'famous': 1, 'favour': 2, 'fierce': 1, 'fife': 1, 'fifth': 2, 'find': 1, 'first': 9, 'fishing': 1, 'forthwith': 1, 'four': 1, 'fourth': 2, 'france': 4, 'french': 1, 'galloway': 2, 'general': 3, 'gentry': 1, 'german': 1, 'get': 1, 'give': 1, 'god': 1, 'good': 3, 'gordon': 1, 'gracious': 1, 'great': 12, 'guilty': 1, 'hamilton': 2, 'hand': 3, 'henry': 6, 'hold': 3, 'hour': 1, 'house': 2, 'hume': 1, 'hunting': 1, 'huntly': 1, 'island': 1, 'isle': 2, 'james': 6, 'justice': 5, 'keep': 1, 'king': 31, 'kingdom': 3, 'know': 3, 'kyle': 1, 'land': 2, 'large': 1, 'law': 1, 'lawful': 2, 'lay': 2, 'length': 2, 'lennox': 2, 'like': 1, 'living': 1, 'long': 2, 'lord': 8, 'lothian': 2, 'lover': 1, 'low': 1, 'make': 5, 'man': 2, 'manner': 2, 'march': 1, 'marry': 2, 'matthew': 1, 'measure': 1, 'member': 1, 'menteith': 1, 'mention': 2, 'mid': 1, 'might': 1, 'mile': 1, 'money': 2, 'much': 1, 'murray': 1, 'name': 3, 'nature': 1, 'neck': 1, 'nobility': 1, 'north': 2, 'northumberland': 1, 'notice': 1, 'november': 1, 'number': 2, 'ocean': 1, 'officer': 3, 'old': 1, 'one': 6, 'paris': 1, 'parliament': 5, 'part': 7, 'patrick': 2, 'person': 4, 'place': 4, 'polwarth': 1, 'power': 2, 'present': 2, 'president': 2, 'prince': 1, 'printing': 1, 'privy': 3, 'proper': 1, 'queen': 3, 'reign': 8, 'remarkable': 1, 'rest': 1, 'return': 2, 'robert': 5, 'roll': 2, 'roman': 2, 'rothsay': 1, 'rough': 1, 'royal': 2, 'saxon': 1, 'scot': 2, 'scotland': 8, 'sea': 1, 'seal': 3, 'second': 7, 'secre': 1, 'seventh': 2, 'since': 1, 'sir': 3, 'sixth': 2, 'somerset': 1, 'son': 3, 'south': 2, 'speak': 1, 'state': 4, 'stewart': 1, 'strathmore': 2, 'sutherland': 1, 'take': 3, 'tary': 1, 'theodosius': 1, 'think': 1, 'third': 4, 'three': 1, 'time': 5, 'tongue': 1, 'twenty': 1, 'two': 4, 'upon': 5, 'upper': 2, 'viscount': 1, 'voice': 1, 'wale': 1, 'way': 1, 'well': 6, 'west': 3, 'whereof': 1, 'white': 1, 'whole': 1, 'whose': 1, 'wide': 1, 'within': 2, 'year': 6, 'young': 2}) with an unsupported type (<class 'dict'>) to a Tensor.\n",
      "1597 failed (6/10): Attempt to convert a value ({'UNK': 0, 'accidental': 1, 'accord': 1, 'accordance': 2, 'account': 3, 'act': 3, 'add': 2, 'additional': 1, 'admit': 3, 'advantage': 1, 'afford': 1, 'aid': 3, 'almost': 1, 'also': 1, 'alter': 1, 'anne': 1, 'another': 1, 'apparent': 1, 'appear': 2, 'arise': 1, 'arm': 1, 'author': 6, 'avoid': 1, 'away': 2, 'beene': 4, 'begin': 2, 'blood': 1, 'book': 10, 'borrower': 2, 'brief': 2, 'brother': 1, 'buckingham': 4, 'cambridge': 1, 'carefully': 3, 'careless': 2, 'case': 1, 'catesby': 1, 'cent': 3, 'change': 2, 'charge': 1, 'child': 1, 'clarence': 1, 'clear': 3, 'clothe': 2, 'coincidence': 1, 'come': 1, 'common': 2, 'complaint': 1, 'conclusion': 1, 'conduct': 1, 'confusion': 1, 'connect': 3, 'consume': 1, 'contempt': 1, 'content': 1, 'correction': 1, 'could': 1, 'course': 3, 'creep': 1, 'date': 5, 'daughter': 2, 'day': 3, 'deadly': 3, 'dear': 1, 'debt': 2, 'decide': 2, 'deep': 2, 'deliberate': 1, 'deny': 1, 'depart': 2, 'derive': 1, 'detailed': 3, 'determine': 1, 'devonshire': 1, 'direct': 1, 'doubt': 3, 'draught': 1, 'dreadful': 1, 'duchess': 1, 'due': 4, 'duke': 6, 'ear': 1, 'earl': 1, 'early': 2, 'earth': 2, 'easily': 2, 'edition': 2, 'effort': 2, 'else': 1, 'england': 2, 'enjoy': 1, 'enough': 1, 'enter': 1, 'ere': 1, 'error': 3, 'evidently': 1, 'examination': 2, 'exception': 2, 'experience': 1, 'express': 2, 'eye': 1, 'faithful': 1, 'far': 2, 'fast': 2, 'fate': 1, 'father': 2, 'fault': 1, 'favour': 2, 'find': 4, 'fine': 1, 'fire': 1, 'first': 6, 'five': 5, 'folder': 3, 'follow': 1, 'following': 1, 'foot': 1, 'form': 2, 'forth': 1, 'found': 2, 'gather': 3, 'gentle': 3, 'george': 3, 'get': 3, 'give': 1, 'globe': 1, 'gloucester': 1, 'golden': 1, 'good': 1, 'grace': 2, 'gratitude': 1, 'great': 5, 'grievous': 1, 'ground': 2, 'guess': 2, 'guilt': 1, 'hand': 4, 'happy': 2, 'hardly': 3, 'hat': 1, 'hate': 2, 'hath': 3, 'hazard': 3, 'hear': 3, 'heart': 2, 'heir': 1, 'hell': 1, 'hold': 6, 'holy': 1, 'honourable': 3, 'however': 3, 'ignoble': 2, 'imagine': 2, 'immediate': 1, 'important': 1, 'increase': 1, 'instance': 1, 'intention': 1, 'interfere': 2, 'keeper': 3, 'king': 5, 'kiss': 1, 'know': 2, 'labour': 1, 'large': 1, 'last': 2, 'late': 1, 'lately': 4, 'lay': 5, 'least': 1, 'leave': 1, 'led': 1, 'lend': 1, 'lewd': 1, 'library': 1, 'like': 3, 'line': 6, 'loan': 2, 'long': 1, 'lord': 7, 'maintain': 2, 'make': 7, 'many': 1, 'matter': 2, 'may': 25, 'mean': 2, 'meaning': 1, 'meet': 1, 'mere': 3, 'merely': 1, 'might': 1, 'mine': 3, 'morning': 2, 'mouth': 1, 'must': 6, 'naked': 1, 'name': 4, 'nature': 1, 'never': 1, 'next': 5, 'night': 4, 'nobility': 2, 'noble': 3, 'noise': 2, 'none': 3, 'note': 6, 'nothing': 3, 'notice': 3, 'notion': 2, 'occasional': 1, 'old': 1, 'omit': 1, 'one': 9, 'open': 1, 'original': 5, 'page': 2, 'paris': 1, 'parlance': 2, 'part': 2, 'particular': 1, 'passage': 2, 'peace': 2, 'perfect': 1, 'perhaps': 2, 'place': 4, 'plantagenet': 1, 'play': 5, 'please': 5, 'possible': 2, 'possibly': 2, 'praise': 2, 'pray': 2, 'precede': 2, 'precious': 1, 'predecessor': 1, 'prepare': 1, 'princely': 1, 'print': 1, 'printed': 1, 'printing': 1, 'probably': 1, 'prodigality': 1, 'progress': 1, 'proof': 3, 'publication': 1, 'put': 2, 'question': 1, 'quite': 2, 'quote': 2, 'rate': 5, 'rather': 1, 'reading': 3, 'reason': 2, 'reasonably': 1, 'reckoning': 1, 'regard': 2, 'regulation': 4, 'representation': 1, 'require': 2, 'reserve': 1, 'rest': 1, 'result': 2, 'return': 1, 'right': 5, 'river': 1, 'sake': 2, 'satisfactory': 1, 'say': 1, 'scale': 2, 'scarcely': 1, 'scene': 2, 'second': 2, 'see': 5, 'seem': 2, 'sense': 1, 'set': 1, 'settlement': 1, 'shakespeare': 1, 'shed': 1, 'sims': 2, 'sin': 1, 'speech': 1, 'stage': 1, 'stamp': 2, 'stay': 2, 'stony': 2, 'strange': 2, 'stratford': 2, 'strike': 1, 'strongly': 1, 'sufficient': 2, 'suppose': 1, 'take': 9, 'tell': 3, 'text': 1, 'theatrical': 2, 'thee': 6, 'thereby': 1, 'therefore': 4, 'thing': 1, 'think': 2, 'third': 2, 'though': 4, 'thus': 2, 'thy': 2, 'till': 2, 'title': 2, 'trace': 1, 'traitor': 3, 'trouble': 1, 'true': 2, 'twenty': 3, 'two': 4, 'unknown': 2, 'upon': 1, 'use': 3, 'usually': 1, 'valentine': 2, 'vengeance': 2, 'version': 4, 'water': 2, 'way': 7, 'week': 1, 'well': 4, 'whither': 1, 'whose': 1, 'william': 1, 'woodville': 1, 'word': 2, 'work': 2, 'world': 1, 'worthy': 2, 'would': 4, 'wretch': 1, 'writ': 1, 'write': 1, 'wrong': 2, 'yet': 2}) with an unsupported type (<class 'dict'>) to a Tensor.\n",
      "1594 failed (7/10): Attempt to convert a value ({'UNK': 0, 'abhor': 3, 'abide': 2, 'account': 2, 'acquaint': 2, 'acquaintance': 1, 'admiration': 1, 'admit': 1, 'ado': 1, 'age': 1, 'aged': 1, 'aloft': 2, 'along': 1, 'also': 1, 'alter': 1, 'among': 1, 'anon': 1, 'another': 1, 'anything': 2, 'arm': 1, 'art': 10, 'assure': 2, 'attaint': 1, 'attend': 1, 'attire': 3, 'away': 3, 'awe': 1, 'babe': 1, 'back': 1, 'bad': 1, 'band': 1, 'bare': 2, 'bath': 1, 'bear': 3, 'bearing': 3, 'beast': 2, 'beat': 6, 'bed': 5, 'beget': 1, 'begin': 4, 'beginning': 1, 'behold': 5, 'bend': 1, 'benefactor': 1, 'bequeath': 1, 'betake': 1, 'betray': 1, 'bid': 1, 'bind': 2, 'bird': 4, 'blade': 1, 'blind': 2, 'blot': 1, 'blow': 2, 'blunt': 2, 'bodleian': 1, 'body': 1, 'bold': 1, 'book': 2, 'borrow': 1, 'bow': 2, 'branch': 1, 'breach': 3, 'breast': 2, 'breed': 1, 'bring': 1, 'british': 2, 'brow': 1, 'bud': 4, 'building': 1, 'burn': 2, 'call': 2, 'capell': 1, 'care': 2, 'case': 1, 'cast': 2, 'chamber': 2, 'change': 1, 'charitable': 1, 'chide': 3, 'child': 3, 'christi': 3, 'circle': 1, 'clay': 1, 'cloth': 3, 'clothe': 2, 'cloud': 1, 'coat': 1, 'coffer': 1, 'cold': 3, 'collection': 1, 'college': 3, 'colour': 3, 'come': 4, 'comfort': 1, 'commend': 2, 'comming': 1, 'commit': 1, 'common': 2, 'compound': 1, 'conceal': 2, 'confound': 3, 'congealed': 1, 'connection': 2, 'content': 1, 'cool': 3, 'copy': 2, 'corpus': 4, 'corrupt': 1, 'could': 2, 'coward': 2, 'credulous': 1, 'creep': 1, 'cry': 2, 'cunning': 1, 'cure': 1, 'day': 2, 'dead': 4, 'death': 2, 'deed': 1, 'delight': 1, 'deny': 1, 'destitute': 3, 'determine': 2, 'devonshire': 1, 'dewy': 2, 'die': 2, 'different': 1, 'dim': 1, 'dire': 2, 'discharge': 3, 'discontent': 1, 'doth': 20, 'draw': 3, 'drawn': 1, 'drop': 5, 'drown': 3, 'due': 2, 'duke': 1, 'eager': 1, 'early': 4, 'eater': 1, 'edition': 2, 'effect': 2, 'ember': 1, 'embrace': 1, 'end': 2, 'enemy': 1, 'english': 1, 'enter': 2, 'ere': 4, 'ever': 1, 'expect': 1, 'exploit': 1, 'eye': 16, 'face': 6, 'fact': 3, 'fall': 1, 'far': 2, 'fare': 1, 'father': 4, 'fault': 3, 'fear': 2, 'fed': 1, 'feeling': 3, 'fell': 1, 'field': 1, 'fiery': 1, 'fifth': 1, 'fight': 2, 'fighting': 1, 'figure': 2, 'find': 4, 'fine': 1, 'finger': 1, 'fire': 11, 'first': 5, 'fix': 1, 'flame': 2, 'fleece': 2, 'fleeting': 1, 'flint': 1, 'flowing': 1, 'foe': 2, 'fold': 1, 'follow': 3, 'fond': 1, 'footed': 1, 'forehead': 1, 'forgo': 1, 'form': 2, 'forthwith': 2, 'forward': 1, 'four': 1, 'fourth': 2, 'friend': 6, 'fright': 2, 'froth': 1, 'full': 5, 'funeral': 1, 'gage': 1, 'gainst': 1, 'gate': 1, 'gaze': 1, 'general': 2, 'gentle': 3, 'gin': 1, 'girdle': 1, 'give': 1, 'glance': 1, 'gloomy': 2, 'glorious': 2, 'golden': 2, 'good': 4, 'gratis': 1, 'great': 3, 'greece': 2, 'ground': 1, 'grow': 2, 'guilt': 1, 'hand': 5, 'hang': 1, 'haply': 1, 'hard': 2, 'hate': 2, 'hath': 3, 'head': 4, 'health': 1, 'heart': 4, 'height': 2, 'hide': 3, 'highly': 3, 'hilted': 2, 'holy': 1, 'home': 3, 'honest': 1, 'honor': 1, 'honour': 1, 'hope': 1, 'horse': 4, 'hot': 3, 'house': 2, 'huge': 2, 'husband': 1, 'ill': 2, 'image': 3, 'impious': 2, 'impure': 1, 'innocent': 1, 'instance': 2, 'interrupt': 2, 'intrude': 1, 'inward': 2, 'iron': 1, 'item': 1, 'john': 1, 'keep': 3, 'kill': 4, 'killing': 2, 'kindle': 1, 'kindly': 1, 'king': 1, 'knee': 1, 'know': 2, 'labour': 2, 'lament': 4, 'land': 1, 'last': 2, 'late': 2, 'lay': 2, 'lead': 2, 'learned': 1, 'leave': 5, 'lecture': 1, 'lend': 2, 'length': 2, 'less': 1, 'let': 3, 'letter': 2, 'library': 3, 'lie': 2, 'life': 3, 'light': 4, 'like': 10, 'little': 3, 'long': 5, 'look': 1, 'looking': 1, 'loop': 1, 'lord': 2, 'lose': 1, 'love': 2, 'lucrece': 3, 'made': 2, 'madly': 1, 'maid': 3, 'maiden': 2, 'maintain': 2, 'make': 12, 'man': 4, 'mantle': 1, 'many': 1, 'map': 2, 'market': 3, 'match': 1, 'may': 5, 'maze': 2, 'meaning': 1, 'melt': 1, 'men': 2, 'met': 3, 'might': 5, 'mild': 1, 'mind': 4, 'mine': 4, 'mingle': 1, 'mire': 1, 'moment': 2, 'month': 2, 'moral': 1, 'mother': 1, 'mount': 2, 'mourn': 1, 'mourning': 1, 'much': 4, 'museum': 2, 'mute': 2, 'name': 5, 'nature': 2, 'need': 1, 'needle': 1, 'neither': 1, 'never': 2, 'night': 9, 'nothing': 1, 'nought': 1, 'obdurate': 1, 'obvious': 2, 'oft': 1, 'often': 4, 'old': 5, 'one': 10, 'open': 1, 'opinion': 1, 'outrun': 1, 'oxford': 1, 'page': 1, 'painted': 2, 'painting': 2, 'pair': 1, 'pale': 3, 'pamphlet': 1, 'part': 5, 'partner': 1, 'passage': 1, 'paston': 1, 'patience': 3, 'patient': 1, 'pay': 2, 'peace': 1, 'pen': 1, 'penalty': 1, 'period': 2, 'permit': 2, 'pillage': 1, 'piteous': 1, 'place': 8, 'play': 2, 'plead': 1, 'please': 2, 'poem': 1, 'point': 1, 'poor': 2, 'power': 3, 'praise': 3, 'pray': 3, 'prayer': 1, 'prey': 2, 'priam': 1, 'pride': 2, 'print': 1, 'prominent': 2, 'proud': 1, 'puddle': 1, 'pure': 5, 'purge': 1, 'purpose': 1, 'put': 2, 'pyre': 1, 'quake': 4, 'quench': 3, 'quick': 1, 'quiet': 2, 'quite': 3, 'quoth': 1, 'rage': 1, 'rape': 1, 'read': 1, 'reader': 1, 'red': 4, 'remark': 1, 'render': 2, 'reply': 2, 'report': 1, 'rest': 2, 'retire': 2, 'rich': 2, 'richard': 1, 'right': 5, 'rigour': 1, 'roll': 1, 'roman': 3, 'rome': 3, 'rough': 3, 'round': 6, 'say': 2, 'scale': 3, 'second': 3, 'seeme': 2, 'selfe': 4, 'set': 2, 'shake': 1, 'shakespeare': 1, 'shall': 2, 'shalt': 1, 'sharp': 1, 'shoot': 1, 'siege': 1, 'sightless': 1, 'similar': 1, 'sixth': 1, 'skill': 1, 'snow': 1, 'spirit': 1, 'star': 1, 'statement': 1, 'step': 1, 'strength': 2, 'striking': 2, 'study': 1, 'sword': 3, 'take': 4, 'tale': 2, 'talk': 2, 'tarquin': 1, 'teach': 1, 'tear': 6, 'tedious': 2, 'thee': 7, 'thine': 5, 'thing': 3, 'think': 2, 'thither': 1, 'thou': 17, 'though': 2, 'thought': 2, 'throughout': 1, 'throw': 2, 'thus': 10, 'thy': 21, 'till': 4, 'time': 10, 'title': 3, 'tone': 1, 'tongue': 4, 'torch': 2, 'touch': 1, 'trance': 2, 'tread': 1, 'trojan': 1, 'troth': 2, 'troy': 5, 'true': 1, 'truth': 1, 'tune': 1, 'turret': 3, 'two': 6, 'unconquered': 1, 'vent': 1, 'vice': 3, 'voice': 1, 'wake': 2, 'want': 4, 'warlike': 1, 'waxen': 2, 'way': 3, 'weaken': 1, 'wealth': 1, 'wearied': 2, 'weep': 3, 'weeping': 1, 'well': 3, 'wench': 1, 'wet': 1, 'whereat': 1, 'wherein': 1, 'white': 3, 'whole': 1, 'wife': 1, 'wildly': 2, 'wilt': 3, 'win': 1, 'wind': 4, 'wing': 1, 'winged': 1, 'winter': 3, 'wipe': 1, 'wit': 3, 'without': 3, 'woe': 13, 'wonder': 1, 'wont': 1, 'wonted': 1, 'word': 10, 'world': 4, 'worthy': 1, 'would': 9, 'wound': 2, 'wretched': 2, 'writ': 3, 'wrong': 4, 'yea': 1, 'year': 1, 'yet': 6, 'yoke': 3, 'young': 1, 'youth': 1}) with an unsupported type (<class 'dict'>) to a Tensor.\n",
      "1598 failed (8/10): Attempt to convert a value ({'UNK': 0, 'account': 1, 'acknowledge': 1, 'acquittance': 2, 'act': 1, 'adonis': 1, 'afterwards': 1, 'already': 1, 'also': 2, 'among': 1, 'another': 2, 'attract': 1, 'back': 2, 'bodleian': 2, 'borrower': 5, 'brilliant': 1, 'british': 2, 'cambridge': 5, 'camden': 2, 'care': 1, 'case': 2, 'cast': 2, 'catherine': 1, 'cent': 1, 'challenge': 1, 'character': 1, 'chief': 2, 'child': 1, 'college': 6, 'come': 1, 'comedy': 1, 'common': 2, 'comparison': 1, 'construction': 1, 'course': 1, 'date': 4, 'deny': 1, 'devonshire': 2, 'doth': 2, 'double': 1, 'duc': 1, 'duke': 2, 'earl': 2, 'early': 2, 'edinburgh': 1, 'either': 2, 'end': 1, 'error': 1, 'estate': 2, 'even': 1, 'every': 2, 'execute': 2, 'exempt': 2, 'fair': 1, 'father': 4, 'fellow': 1, 'felt': 1, 'fifth': 1, 'fine': 1, 'fire': 3, 'first': 8, 'fix': 1, 'folio': 1, 'follow': 2, 'frying': 2, 'full': 1, 'gentleman': 1, 'george': 1, 'good': 1, 'hakluyt': 1, 'handle': 2, 'hard': 3, 'harvard': 2, 'henry': 1, 'hide': 1, 'horse': 2, 'huntingdon': 2, 'india': 2, 'internal': 1, 'item': 2, 'king': 2, 'kinsman': 1, 'knack': 1, 'know': 1, 'known': 1, 'lady': 1, 'last': 3, 'leader': 2, 'learning': 2, 'lend': 1, 'library': 8, 'lie': 1, 'likewise': 2, 'line': 1, 'lodging': 1, 'london': 2, 'long': 1, 'look': 1, 'lost': 1, 'lover': 1, 'lower': 1, 'maine': 1, 'make': 3, 'man': 2, 'many': 2, 'matter': 1, 'medici': 1, 'meet': 1, 'meeting': 1, 'melancholy': 1, 'merchant': 1, 'mock': 1, 'much': 3, 'museum': 2, 'must': 3, 'name': 2, 'nearly': 2, 'noble': 1, 'non': 1, 'note': 2, 'notice': 2, 'number': 1, 'office': 2, 'one': 2, 'order': 1, 'overdue': 5, 'oxford': 2, 'pan': 2, 'part': 4, 'passionate': 1, 'per': 1, 'period': 1, 'piccadilly': 1, 'pilgrim': 1, 'place': 7, 'play': 3, 'please': 2, 'power': 3, 'present': 1, 'principal': 1, 'produce': 2, 'promethean': 2, 'question': 2, 'rather': 1, 'recall': 2, 'receipt': 2, 'replete': 2, 'reputation': 1, 'return': 4, 'scene': 3, 'scheme': 1, 'second': 4, 'see': 3, 'seek': 1, 'sense': 2, 'settle': 1, 'share': 1, 'society': 3, 'spring': 3, 'stamp': 3, 'stanza': 1, 'steep': 2, 'study': 2, 'swift': 2, 'take': 6, 'thing': 1, 'think': 3, 'thorough': 2, 'thou': 1, 'three': 1, 'throw': 2, 'time': 1, 'tone': 1, 'trinity': 2, 'true': 3, 'twice': 1, 'two': 1, 'university': 1, 'uprising': 2, 'user': 2, 'venice': 1, 'venus': 1, 'verona': 1, 'way': 1, 'well': 1, 'whence': 2, 'whole': 3, 'widener': 3, 'within': 1, 'without': 2, 'word': 1, 'world': 2, 'wound': 1, 'wrong': 3, 'yet': 1}) with an unsupported type (<class 'dict'>) to a Tensor.\n",
      "1600 failed (9/10): Attempt to convert a value ({'UNK': 0, 'able': 1, 'absence': 1, 'abuse': 2, 'account': 1, 'accuse': 1, 'acquaint': 2, 'acquaintance': 1, 'acquit': 1, 'act': 11, 'action': 2, 'actor': 1, 'actually': 2, 'adam': 1, 'affection': 3, 'age': 6, 'alley': 1, 'almost': 2, 'already': 2, 'also': 1, 'alter': 1, 'altogether': 1, 'alway': 1, 'amorous': 2, 'ancient': 1, 'another': 5, 'appear': 3, 'appetite': 1, 'appoint': 1, 'argument': 2, 'armed': 2, 'armour': 1, 'army': 2, 'art': 6, 'athwart': 1, 'away': 2, 'awe': 1, 'bad': 5, 'ball': 1, 'bare': 2, 'bate': 1, 'beard': 3, 'beatrice': 6, 'become': 2, 'befit': 1, 'beginning': 2, 'bell': 2, 'benedick': 2, 'bent': 1, 'best': 3, 'better': 2, 'bid': 5, 'birth': 2, 'blazon': 1, 'blood': 4, 'blunt': 1, 'body': 2, 'bold': 2, 'bottle': 1, 'break': 3, 'breath': 3, 'breed': 3, 'brilliant': 1, 'bring': 3, 'british': 1, 'brother': 8, 'call': 1, 'campaign': 1, 'canopy': 1, 'care': 2, 'case': 4, 'certain': 1, 'chamber': 1, 'chance': 2, 'change': 5, 'child': 2, 'church': 1, 'claudio': 6, 'claw': 2, 'coffer': 2, 'cold': 3, 'collect': 2, 'come': 15, 'comforter': 1, 'command': 1, 'commence': 1, 'commission': 1, 'commit': 1, 'common': 1, 'comparison': 2, 'complete': 3, 'condition': 1, 'conscience': 2, 'consider': 1, 'content': 2, 'costly': 2, 'could': 5, 'countenance': 2, 'courage': 2, 'course': 7, 'court': 3, 'coy': 1, 'cup': 1, 'curl': 3, 'dance': 1, 'dangerous': 1, 'daughter': 5, 'day': 7, 'dead': 5, 'death': 2, 'decree': 1, 'deed': 3, 'deep': 1, 'defend': 3, 'deformed': 1, 'delight': 1, 'depend': 1, 'descend': 1, 'devonshire': 1, 'dice': 1, 'die': 1, 'direction': 2, 'discharge': 1, 'disease': 1, 'displeasing': 1, 'division': 1, 'doore': 1, 'dost': 3, 'doth': 7, 'double': 3, 'doubt': 1, 'dramatic': 2, 'draw': 1, 'duke': 1, 'dull': 2, 'duteous': 1, 'earl': 1, 'earle': 1, 'earth': 1, 'eating': 1, 'either': 1, 'element': 2, 'embrace': 1, 'end': 2, 'endure': 4, 'enemy': 1, 'english': 2, 'enough': 2, 'ere': 3, 'exactly': 2, 'excellent': 6, 'excuse': 2, 'exterior': 1, 'eye': 1, 'fact': 2, 'fair': 1, 'faith': 1, 'faithful': 1, 'fall': 3, 'fame': 1, 'familiar': 1, 'far': 2, 'fare': 2, 'father': 1, 'fee': 2, 'fell': 2, 'fellow': 2, 'fertile': 1, 'fight': 2, 'fill': 2, 'find': 4, 'finish': 1, 'first': 9, 'fit': 5, 'flee': 1, 'flow': 1, 'folio': 1, 'follow': 2, 'forget': 1, 'form': 3, 'formation': 1, 'former': 2, 'four': 1, 'fragment': 1, 'frame': 1, 'fresh': 1, 'friend': 3, 'full': 6, 'garland': 1, 'generous': 1, 'gentleman': 3, 'gentlewoman': 1, 'get': 10, 'give': 1, 'glendower': 1, 'gnawing': 1, 'god': 7, 'gold': 3, 'good': 29, 'grace': 3, 'great': 1, 'ground': 2, 'grow': 3, 'guard': 1, 'hand': 4, 'happy': 3, 'hard': 1, 'harry': 4, 'hast': 1, 'hat': 1, 'hath': 11, 'head': 4, 'hear': 3, 'hearer': 1, 'hearing': 2, 'heart': 3, 'hence': 1, 'henceforth': 1, 'henry': 2, 'hero': 5, 'high': 2, 'highly': 1, 'history': 1, 'hither': 1, 'hollow': 1, 'holy': 2, 'home': 1, 'honor': 2, 'honorable': 2, 'honour': 1, 'honourable': 1, 'hope': 2, 'horse': 2, 'hot': 1, 'however': 1, 'humane': 3, 'hundredth': 1, 'husband': 3, 'idea': 2, 'idle': 1, 'iii': 2, 'ill': 3, 'image': 1, 'imagine': 2, 'important': 2, 'incurable': 1, 'inland': 2, 'innocent': 1, 'intelligencer': 1, 'intended': 1, 'inward': 2, 'john': 1, 'keep': 1, 'ken': 1, 'king': 1, 'knit': 1, 'know': 10, 'ladder': 2, 'lady': 3, 'lamenting': 1, 'land': 5, 'language': 1, 'lap': 1, 'laugh': 1, 'law': 2, 'least': 4, 'leave': 3, 'leg': 3, 'lend': 1, 'length': 1, 'leonato': 1, 'less': 1, 'lest': 1, 'let': 8, 'liberty': 1, 'lie': 2, 'liege': 1, 'life': 6, 'light': 3, 'lighten': 2, 'like': 12, 'likely': 1, 'line': 2, 'little': 6, 'lodge': 2, 'long': 3, 'lord': 5, 'loving': 1, 'lucius': 2, 'lute': 1, 'make': 16, 'man': 17, 'manure': 1, 'many': 1, 'marcus': 1, 'margaret': 2, 'match': 1, 'may': 13, 'mean': 3, 'meaning': 1, 'meet': 1, 'melancholy': 2, 'men': 4, 'mid': 2, 'might': 6, 'mightst': 3, 'mighty': 1, 'mind': 3, 'mine': 10, 'monmouth': 2, 'monstrous': 3, 'mother': 1, 'much': 6, 'murder': 1, 'museum': 1, 'must': 8, 'name': 5, 'naught': 1, 'need': 1, 'neglect': 3, 'nephew': 2, 'new': 1, 'next': 1, 'nice': 1, 'niece': 3, 'night': 3, 'noble': 2, 'none': 1, 'northumberland': 2, 'note': 6, 'nothing': 2, 'number': 4, 'oath': 1, 'obtain': 1, 'offer': 1, 'old': 2, 'one': 16, 'opener': 1, 'opinion': 1, 'original': 1, 'page': 2, 'pant': 2, 'parliament': 1, 'part': 13, 'parte': 1, 'passion': 2, 'patience': 1, 'pay': 2, 'payment': 1, 'peace': 4, 'perfect': 2, 'perhaps': 1, 'permission': 1, 'personal': 1, 'petty': 2, 'picker': 2, 'picture': 1, 'piece': 1, 'pinch': 2, 'place': 6, 'play': 3, 'plead': 1, 'poetry': 2, 'popular': 1, 'possible': 5, 'power': 7, 'pox': 2, 'pray': 3, 'prince': 8, 'principle': 4, 'probable': 1, 'pronounce': 1, 'proper': 1, 'property': 1, 'prostrate': 1, 'proud': 1, 'puissance': 2, 'pure': 1, 'purpose': 3, 'quake': 2, 'quarto': 1, 'quench': 1, 'quiet': 3, 'quite': 1, 'range': 1, 'rapine': 1, 'rat': 1, 'rather': 2, 'real': 1, 'reason': 3, 'reave': 2, 'rebuke': 2, 'reduce': 1, 'regard': 2, 'remarkable': 2, 'remedy': 2, 'report': 1, 'reputation': 2, 'requite': 1, 'restore': 1, 'richly': 2, 'right': 3, 'ring': 2, 'rough': 1, 'ruffian': 1, 'satisfaction': 2, 'say': 3, 'scale': 1, 'scene': 7, 'scheme': 1, 'scotland': 1, 'second': 4, 'sense': 1, 'separate': 2, 'set': 2, 'shall': 3, 'side': 2, 'signior': 1, 'sir': 4, 'sit': 1, 'smack': 2, 'sound': 2, 'speak': 2, 'speech': 2, 'spirit': 2, 'spur': 1, 'stage': 2, 'stand': 2, 'state': 2, 'stay': 1, 'still': 3, 'sting': 1, 'stock': 1, 'store': 1, 'strained': 2, 'strength': 3, 'strong': 1, 'stuff': 1, 'substitute': 1, 'success': 1, 'suffer': 1, 'suggest': 2, 'swell': 1, 'sword': 1, 'table': 1, 'take': 15, 'tamora': 1, 'taste': 2, 'teach': 2, 'teacheth': 1, 'teeth': 1, 'tell': 5, 'tender': 1, 'text': 1, 'thee': 10, 'thence': 1, 'therefore': 3, 'thing': 2, 'think': 7, 'third': 3, 'thou': 20, 'though': 1, 'thought': 1, 'three': 1, 'throughout': 1, 'throw': 1, 'thus': 7, 'thy': 13, 'till': 4, 'time': 8, 'tire': 1, 'title': 2, 'toe': 1, 'tongue': 1, 'tooth': 3, 'top': 2, 'towards': 1, 'trace': 1, 'trim': 2, 'trip': 1, 'true': 2, 'truth': 1, 'tuition': 1, 'turning': 1, 'two': 7, 'unchanged': 1, 'usual': 2, 'valiant': 1, 'valour': 2, 'vantage': 1, 'vent': 1, 'version': 1, 'victorious': 1, 'vulture': 2, 'wait': 1, 'want': 2, 'wanton': 2, 'warrant': 1, 'watch': 1, 'way': 3, 'weapon': 1, 'wear': 2, 'wedding': 3, 'weed': 1, 'weigh': 3, 'well': 14, 'westmoreland': 1, 'wherein': 1, 'whole': 3, 'whose': 4, 'wide': 1, 'wife': 5, 'wild': 1, 'wilt': 2, 'win': 3, 'wind': 1, 'window': 1, 'wipe': 1, 'wisely': 2, 'wit': 5, 'within': 4, 'woman': 3, 'wonder': 2, 'woo': 2, 'word': 3, 'work': 2, 'world': 1, 'would': 9, 'wound': 2, 'writ': 1, 'writing': 1, 'wrong': 4, 'yet': 9, 'young': 2, 'youth': 1}) with an unsupported type (<class 'dict'>) to a Tensor.\n",
      "1587 failed (10/10): Attempt to convert a value ({'UNK': 0, 'able': 1, 'absence': 1, 'accept': 2, 'accomplishment': 1, 'across': 3, 'act': 1, 'action': 1, 'add': 1, 'adventure': 1, 'adventurous': 1, 'advise': 1, 'age': 12, 'air': 2, 'ala': 3, 'almost': 3, 'alone': 4, 'also': 6, 'although': 1, 'altogether': 1, 'always': 1, 'amaze': 1, 'among': 2, 'amongst': 1, 'amorous': 2, 'amount': 3, 'anger': 1, 'angry': 1, 'anguish': 1, 'another': 10, 'answer': 3, 'anything': 2, 'appear': 1, 'appetite': 1, 'appoint': 1, 'arabian': 2, 'arrow': 1, 'art': 4, 'ask': 1, 'aspect': 2, 'assure': 1, 'authority': 1, 'awaken': 5, 'away': 5, 'back': 2, 'background': 1, 'barren': 3, 'basket': 1, 'bath': 1, 'bear': 3, 'beard': 2, 'beare': 1, 'beast': 1, 'beatrice': 2, 'beautiful': 4, 'beauty': 2, 'become': 1, 'bed': 1, 'begin': 1, 'beginning': 1, 'behind': 1, 'believe': 1, 'bend': 1, 'beneath': 1, 'besides': 1, 'best': 2, 'beyond': 1, 'big': 1, 'bind': 3, 'birth': 1, 'bitter': 2, 'black': 5, 'blood': 1, 'blow': 1, 'boccaccio': 1, 'body': 5, 'book': 15, 'border': 3, 'break': 3, 'breakfast': 2, 'breathing': 1, 'bridal': 3, 'brine': 2, 'bring': 1, 'british': 1, 'briton': 2, 'bud': 2, 'buy': 1, 'byzantine': 1, 'call': 7, 'canst': 2, 'canvas': 1, 'care': 7, 'cast': 5, 'cause': 9, 'central': 2, 'century': 4, 'certain': 5, 'chamber': 1, 'change': 3, 'chief': 1, 'child': 1, 'childish': 1, 'china': 3, 'chivalry': 1, 'chloe': 2, 'choose': 1, 'church': 1, 'circle': 1, 'classical': 1, 'close': 1, 'closed': 2, 'come': 11, 'comedy': 1, 'comfort': 2, 'comic': 2, 'commit': 1, 'common': 3, 'companion': 2, 'company': 3, 'compassion': 1, 'complaint': 1, 'complete': 3, 'completeness': 1, 'comprehension': 1, 'comrade': 2, 'conceit': 1, 'conceive': 1, 'concern': 1, 'condition': 4, 'confident': 2, 'conflict': 1, 'confuse': 1, 'conscience': 2, 'consciousness': 1, 'consider': 2, 'considerable': 1, 'content': 1, 'contest': 2, 'contrast': 1, 'convenient': 1, 'converse': 1, 'copy': 1, 'could': 27, 'country': 1, 'countryside': 2, 'courage': 1, 'course': 2, 'court': 2, 'coward': 1, 'cressida': 2, 'critical': 2, 'crystal': 1, 'daily': 1, 'danger': 1, 'dante': 1, 'daphnis': 2, 'dark': 3, 'darthur': 2, 'daughter': 5, 'day': 15, 'dead': 2, 'deal': 2, 'dear': 1, 'dearest': 1, 'death': 5, 'deceased': 2, 'decorous': 1, 'deep': 1, 'deeply': 1, 'degree': 2, 'delicate': 3, 'delight': 2, 'deny': 1, 'departure': 1, 'description': 1, 'desert': 2, 'desire': 4, 'despite': 1, 'diana': 2, 'didst': 3, 'die': 4, 'difference': 2, 'different': 3, 'directly': 1, 'dirty': 2, 'dislike': 1, 'dispose': 2, 'disposition': 1, 'diver': 1, 'divers': 1, 'divine': 1, 'divorce': 1, 'dost': 2, 'doubt': 3, 'drab': 1, 'drink': 2, 'dwell': 2, 'early': 1, 'earth': 8, 'earthly': 1, 'ease': 1, 'easily': 1, 'east': 1, 'effect': 1, 'egyptian': 1, 'eighteen': 2, 'eighteenth': 1, 'eloquence': 1, 'else': 3, 'emma': 1, 'end': 8, 'endless': 1, 'english': 4, 'enough': 1, 'entirely': 1, 'entrance': 1, 'ere': 2, 'especially': 1, 'estate': 1, 'even': 6, 'event': 1, 'ever': 7, 'everlastingly': 3, 'every': 13, 'evil': 2, 'examine': 1, 'example': 1, 'exchange': 1, 'expect': 2, 'eye': 9, 'face': 5, 'fact': 2, 'factor': 1, 'fair': 4, 'faith': 1, 'faithful': 1, 'fall': 3, 'false': 2, 'family': 2, 'far': 2, 'fashion': 1, 'fasten': 1, 'father': 2, 'fault': 1, 'fear': 1, 'feeble': 1, 'feel': 2, 'feeling': 3, 'fell': 2, 'fellow': 1, 'felt': 5, 'feminine': 3, 'field': 1, 'fifteen': 2, 'fifty': 1, 'figment': 1, 'figure': 2, 'finally': 1, 'find': 5, 'fine': 5, 'fire': 1, 'first': 9, 'flesh': 1, 'flower': 1, 'fly': 2, 'follow': 3, 'force': 3, 'forehead': 1, 'forget': 2, 'forgive': 1, 'form': 2, 'forsaken': 1, 'forth': 1, 'fortitude': 1, 'fortune': 3, 'frail': 3, 'free': 1, 'freedom': 3, 'french': 2, 'friend': 6, 'fruit': 1, 'fruitful': 2, 'fulfil': 1, 'full': 7, 'fundamental': 2, 'future': 1, 'galahad': 1, 'game': 1, 'gate': 1, 'gentle': 2, 'george': 1, 'get': 1, 'gift': 3, 'girl': 1, 'give': 11, 'glass': 1, 'glee': 1, 'glitter': 1, 'glory': 1, 'glow': 1, 'god': 3, 'gold': 1, 'golden': 2, 'good': 24, 'grace': 1, 'grail': 1, 'great': 22, 'greatly': 1, 'greek': 3, 'green': 1, 'gross': 1, 'ground': 1, 'grow': 1, 'guilty': 3, 'guinevere': 1, 'hamlet': 1, 'hand': 6, 'happen': 4, 'happy': 1, 'hard': 2, 'hardship': 1, 'hardy': 1, 'harsh': 1, 'hast': 9, 'hat': 1, 'health': 1, 'heap': 1, 'hear': 8, 'heart': 5, 'heaven': 3, 'heavy': 2, 'help': 2, 'heroical': 3, 'heroine': 2, 'hide': 1, 'high': 3, 'hill': 1, 'history': 3, 'hold': 1, 'holy': 2, 'home': 2, 'honor': 1, 'honour': 1, 'hope': 4, 'house': 1, 'however': 2, 'human': 5, 'humanely': 2, 'humour': 2, 'hundred': 1, 'husband': 6, 'ignorant': 1, 'iii': 3, 'image': 1, 'imagine': 6, 'immortal': 2, 'impossible': 1, 'impressionable': 1, 'individually': 1, 'inevitable': 3, 'infinite': 1, 'influence': 4, 'inner': 2, 'innocent': 1, 'instal': 1, 'instant': 1, 'instead': 3, 'interesting': 1, 'interrupt': 1, 'invention': 1, 'invite': 2, 'inward': 1, 'ionian': 2, 'island': 2, 'italian': 2, 'italy': 1, 'jar': 3, 'journey': 1, 'joy': 1, 'justice': 1, 'keep': 4, 'kind': 8, 'king': 5, 'kiss': 2, 'knee': 1, 'know': 11, 'knowest': 2, 'knowledge': 1, 'lack': 1, 'lady': 1, 'lancelot': 1, 'language': 1, 'last': 8, 'late': 5, 'latin': 4, 'laughter': 3, 'law': 4, 'lean': 1, 'leap': 3, 'learning': 1, 'least': 5, 'leave': 7, 'left': 2, 'length': 1, 'lest': 1, 'let': 5, 'letter': 1, 'lie': 4, 'life': 14, 'light': 3, 'like': 17, 'likely': 1, 'liken': 1, 'lip': 1, 'little': 23, 'live': 7, 'living': 2, 'london': 1, 'long': 11, 'longer': 3, 'look': 10, 'lord': 1, 'lose': 3, 'love': 35, 'lover': 1, 'lovest': 1, 'low': 1, 'lusty': 1, 'maiden': 3, 'make': 20, 'making': 2, 'malice': 2, 'malign': 3, 'man': 9, 'manage': 1, 'manifest': 1, 'mankind': 2, 'manner': 4, 'many': 22, 'marriage': 2, 'marry': 2, 'masquerade': 1, 'may': 25, 'mayest': 2, 'mean': 2, 'meane': 1, 'meaning': 2, 'measure': 1, 'meat': 3, 'meeting': 1, 'member': 1, 'men': 10, 'mention': 1, 'merchant': 1, 'mercifully': 4, 'method': 1, 'michele': 1, 'middle': 3, 'midst': 1, 'might': 27, 'mighty': 1, 'mind': 5, 'mine': 3, 'miserable': 2, 'miss': 1, 'moan': 1, 'moment': 7, 'money': 3, 'month': 2, 'morality': 1, 'morning': 2, 'morris': 1, 'mortal': 1, 'morte': 2, 'mother': 3, 'mountain': 4, 'much': 11, 'museum': 1, 'must': 7, 'name': 3, 'nature': 4, 'nay': 1, 'near': 1, 'necessity': 1, 'neither': 3, 'never': 16, 'new': 12, 'news': 1, 'next': 1, 'night': 10, 'nine': 1, 'noble': 6, 'nod': 3, 'none': 3, 'notable': 1, 'nothing': 6, 'notion': 1, 'novel': 9, 'number': 3, 'nymph': 2, 'oblique': 3, 'obvious': 1, 'occasion': 3, 'offence': 1, 'offend': 2, 'often': 1, 'old': 10, 'one': 53, 'open': 3, 'opening': 1, 'opinion': 2, 'order': 4, 'ordinary': 3, 'original': 1, 'others': 2, 'outline': 1, 'overcome': 1, 'pace': 2, 'pair': 3, 'parentage': 1, 'part': 16, 'partly': 4, 'pass': 1, 'passing': 1, 'passion': 1, 'past': 3, 'peace': 1, 'peculiar': 1, 'people': 5, 'perceive': 2, 'perceptible': 4, 'perhaps': 7, 'persuade': 1, 'petrarch': 1, 'phase': 2, 'philip': 1, 'picture': 2, 'pity': 1, 'place': 9, 'plant': 4, 'play': 2, 'please': 3, 'pleaseth': 1, 'pleasure': 2, 'plot': 1, 'poet': 2, 'poetic': 2, 'poetry': 1, 'point': 2, 'ponder': 1, 'portion': 1, 'possession': 1, 'possible': 3, 'possibly': 2, 'power': 4, 'pray': 4, 'prayer': 1, 'precious': 2, 'prefer': 1, 'presence': 5, 'present': 4, 'presently': 1, 'previously': 1, 'priest': 2, 'printed': 1, 'probably': 1, 'problem': 2, 'proceed': 1, 'profess': 1, 'promise': 2, 'proof': 2, 'proper': 2, 'prose': 1, 'prosperity': 1, 'prosperous': 1, 'prudently': 1, 'put': 1, 'queen': 3, 'queenly': 2, 'question': 1, 'quickly': 5, 'quiet': 3, 'quite': 1, 'radiant': 1, 'rather': 2, 'realistic': 2, 'reality': 1, 'reason': 4, 'receive': 2, 'record': 3, 'red': 2, 'redemption': 1, 'reflection': 1, 'regale': 3, 'regard': 1, 'region': 2, 'remain': 1, 'remark': 2, 'remember': 1, 'renaissance': 1, 'report': 1, 'reprint': 1, 'repulsive': 2, 'respect': 1, 'rest': 2, 'result': 2, 'return': 2, 'revival': 1, 'revolve': 1, 'rich': 1, 'right': 5, 'rise': 1, 'ritual': 1, 'roam': 1, 'robert': 1, 'romance': 1, 'romantic': 1, 'rose': 2, 'round': 1, 'run': 3, 'rush': 1, 'sacred': 1, 'safe': 1, 'sake': 3, 'san': 1, 'saturday': 1, 'save': 1, 'saw': 2, 'say': 28, 'scarcely': 2, 'sea': 3, 'second': 1, 'see': 18, 'selfsame': 2, 'sell': 1, 'send': 3, 'sens': 1, 'sense': 3, 'series': 1, 'service': 1, 'set': 3, 'seventeenth': 4, 'several': 1, 'shall': 16, 'shalt': 2, 'shame': 2, 'sheep': 3, 'shift': 3, 'shin': 4, 'shoot': 2, 'shooter': 1, 'short': 3, 'shoulder': 2, 'show': 1, 'shower': 1, 'side': 8, 'sidney': 1, 'sigh': 3, 'sight': 4, 'signify': 1, 'silence': 2, 'silent': 1, 'silver': 1, 'silvery': 2, 'simple': 1, 'since': 7, 'sink': 1, 'sir': 2, 'sit': 3, 'situation': 3, 'six': 1, 'sixteenth': 3, 'sky': 1, 'sleeping': 1, 'slow': 2, 'small': 1, 'smooth': 1, 'social': 1, 'society': 3, 'sole': 2, 'something': 2, 'sometimes': 4, 'son': 2, 'song': 1, 'soon': 1, 'sorrow': 2, 'sort': 2, 'soul': 3, 'sound': 4, 'source': 1, 'space': 2, 'spanish': 2, 'speak': 2, 'speech': 3, 'spend': 4, 'spirit': 10, 'spray': 3, 'spring': 2, 'stage': 2, 'stand': 2, 'start': 2, 'state': 1, 'still': 3, 'stone': 2, 'story': 10, 'stoutly': 3, 'strange': 3, 'stranger': 3, 'street': 2, 'strength': 1, 'stress': 1, 'strike': 1, 'stroke': 1, 'strong': 2, 'sudden': 2, 'suddenly': 2, 'suffer': 1, 'suit': 1, 'sun': 1, 'sunny': 2, 'support': 1, 'suppose': 1, 'survive': 1, 'sympathy': 1, 'table': 1, 'take': 16, 'tale': 2, 'talk': 3, 'tang': 1, 'teeth': 2, 'tell': 10, 'temple': 1, 'ten': 2, 'tenant': 2, 'tender': 3, 'test': 1, 'thebe': 1, 'thee': 19, 'thence': 1, 'therefore': 5, 'thereof': 3, 'thine': 1, 'thing': 17, 'think': 8, 'third': 1, 'thirty': 2, 'thou': 35, 'though': 4, 'thought': 2, 'thoughtful': 3, 'thousand': 3, 'three': 2, 'throughout': 1, 'thus': 7, 'thy': 9, 'till': 2, 'time': 48, 'together': 8, 'token': 1, 'tongue': 3, 'tony': 1, 'torment': 1, 'touch': 1, 'towards': 3, 'tradition': 2, 'train': 1, 'training': 1, 'treasure': 1, 'tree': 5, 'troilus': 2, 'trojan': 1, 'trouble': 2, 'troubled': 1, 'true': 6, 'truly': 1, 'trustworthy': 1, 'turn': 1, 'twilight': 2, 'two': 5, 'tymes': 1, 'type': 3, 'uncomfortable': 2, 'understand': 3, 'understanding': 1, 'unfortunate': 1, 'unite': 1, 'university': 1, 'unto': 3, 'unwritten': 3, 'upon': 12, 'upper': 1, 'utter': 2, 'vain': 2, 'valuable': 1, 'vanish': 1, 'vernacular': 1, 'view': 4, 'vigilant': 1, 'violate': 2, 'voice': 1, 'volley': 3, 'voyage': 1, 'wake': 1, 'warn': 1, 'water': 3, 'wave': 2, 'way': 6, 'wealth': 1, 'weary': 1, 'welcome': 1, 'well': 17, 'wert': 1, 'wheel': 1, 'whence': 1, 'wherefore': 1, 'whether': 1, 'white': 8, 'whole': 2, 'whose': 4, 'wide': 1, 'widow': 2, 'wife': 10, 'wild': 1, 'william': 1, 'wilt': 3, 'window': 3, 'wise': 1, 'wish': 1, 'without': 13, 'woman': 9, 'word': 8, 'work': 5, 'world': 6, 'worldly': 2, 'worship': 1, 'worthily': 2, 'worthy': 1, 'would': 39, 'wouldest': 1, 'wound': 1, 'wretch': 1, 'wretched': 2, 'write': 4, 'wrong': 1, 'year': 9, 'yes': 1, 'yet': 19, 'young': 17, 'youth': 1}) with an unsupported type (<class 'dict'>) to a Tensor.\n",
      "\n",
      "Parallel processing completed in 1.8s\n",
      "\n",
      "=================================================================\n",
      "Batch processing complete!\n",
      "=================================================================\n",
      "Successful: 0 years\n",
      "Failed: 10 years: 1578, 1579, 1583, 1590, 1595, 1597, 1594, 1598, 1600, 1587\n"
     ]
    }
   ],
   "source": [
    "# Configuration\n",
    "corpus_dir = \"/vast/edk202/NLP_corpora/Google_Books/20200217/eng-fiction/5gram_files/6corpus/yearly_files/data\"\n",
    "\n",
    "downsample_threshold = 1e-3  # Typical values: 1e-3 (aggressive), 1e-4, 1e-5 (conservative)\n",
    "\n",
    "# Process year(s)\n",
    "results = batch_prepare_training_data(\n",
    "    corpus_dir=corpus_dir,\n",
    "    year_range=\"1400-1600\",\n",
    "    compress=False,\n",
    "    show_progress=True,\n",
    "    show_summary=True,\n",
    "    use_multiprocessing=True,\n",
    "    downsample_threshold=downsample_threshold\n",
    ")"
   ]
  },
  {
   "cell_type": "code",
   "execution_count": null,
   "id": "4f02d9d9",
   "metadata": {},
   "outputs": [],
   "source": []
  }
 ],
 "metadata": {
  "kernelspec": {
   "display_name": "Remote kernel: word2gm-fast2",
   "language": "python",
   "name": "word2gm-fast2"
  }
 },
 "nbformat": 4,
 "nbformat_minor": 5
}
